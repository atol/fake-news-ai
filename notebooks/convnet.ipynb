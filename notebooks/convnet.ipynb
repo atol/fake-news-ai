{
 "cells": [
  {
   "cell_type": "markdown",
   "metadata": {
    "colab_type": "text",
    "id": "ReBnF5ztQh4m"
   },
   "source": [
    "# Load training set"
   ]
  },
  {
   "cell_type": "code",
   "execution_count": 0,
   "metadata": {
    "colab": {
     "base_uri": "https://localhost:8080/",
     "height": 415
    },
    "colab_type": "code",
    "id": "Vvwwb7GUQh4o",
    "outputId": "60fe2a85-4d05-434b-d5cc-e28640c2618b"
   },
   "outputs": [
    {
     "data": {
      "text/html": [
       "<div>\n",
       "<style scoped>\n",
       "    .dataframe tbody tr th:only-of-type {\n",
       "        vertical-align: middle;\n",
       "    }\n",
       "\n",
       "    .dataframe tbody tr th {\n",
       "        vertical-align: top;\n",
       "    }\n",
       "\n",
       "    .dataframe thead th {\n",
       "        text-align: right;\n",
       "    }\n",
       "</style>\n",
       "<table border=\"1\" class=\"dataframe\">\n",
       "  <thead>\n",
       "    <tr style=\"text-align: right;\">\n",
       "      <th></th>\n",
       "      <th>claim</th>\n",
       "      <th>claimant</th>\n",
       "      <th>label</th>\n",
       "    </tr>\n",
       "  </thead>\n",
       "  <tbody>\n",
       "    <tr>\n",
       "      <th>0</th>\n",
       "      <td>Says the Annies List political group supports ...</td>\n",
       "      <td>dwayne-bohac</td>\n",
       "      <td>0</td>\n",
       "    </tr>\n",
       "    <tr>\n",
       "      <th>1</th>\n",
       "      <td>When did the decline of coal start? It started...</td>\n",
       "      <td>scott-surovell</td>\n",
       "      <td>1</td>\n",
       "    </tr>\n",
       "    <tr>\n",
       "      <th>2</th>\n",
       "      <td>Hillary Clinton agrees with John McCain \"by vo...</td>\n",
       "      <td>barack-obama</td>\n",
       "      <td>1</td>\n",
       "    </tr>\n",
       "    <tr>\n",
       "      <th>3</th>\n",
       "      <td>Health care reform legislation is likely to ma...</td>\n",
       "      <td>blog-posting</td>\n",
       "      <td>0</td>\n",
       "    </tr>\n",
       "    <tr>\n",
       "      <th>4</th>\n",
       "      <td>The economic turnaround started at the end of ...</td>\n",
       "      <td>charlie-crist</td>\n",
       "      <td>1</td>\n",
       "    </tr>\n",
       "    <tr>\n",
       "      <th>...</th>\n",
       "      <td>...</td>\n",
       "      <td>...</td>\n",
       "      <td>...</td>\n",
       "    </tr>\n",
       "    <tr>\n",
       "      <th>2910</th>\n",
       "      <td>Health insurance costs for Floridians are up 3...</td>\n",
       "      <td>Republican Party of Florida</td>\n",
       "      <td>1</td>\n",
       "    </tr>\n",
       "    <tr>\n",
       "      <th>6096</th>\n",
       "      <td>A photograph captures Harriet Tubman as a \"Gun...</td>\n",
       "      <td></td>\n",
       "      <td>0</td>\n",
       "    </tr>\n",
       "    <tr>\n",
       "      <th>10446</th>\n",
       "      <td>ISIS leader Abu Bakr al Baghdadi was \"released...</td>\n",
       "      <td>Jeanine  Pirro</td>\n",
       "      <td>0</td>\n",
       "    </tr>\n",
       "    <tr>\n",
       "      <th>5414</th>\n",
       "      <td>\"The board of a nonprofit organization on whic...</td>\n",
       "      <td>Tennessee Republican Party</td>\n",
       "      <td>1</td>\n",
       "    </tr>\n",
       "    <tr>\n",
       "      <th>6657</th>\n",
       "      <td>Japan announced plans to dump 920,000 tons of ...</td>\n",
       "      <td></td>\n",
       "      <td>1</td>\n",
       "    </tr>\n",
       "  </tbody>\n",
       "</table>\n",
       "<p>25235 rows × 3 columns</p>\n",
       "</div>"
      ],
      "text/plain": [
       "                                                   claim  ... label\n",
       "0      Says the Annies List political group supports ...  ...     0\n",
       "1      When did the decline of coal start? It started...  ...     1\n",
       "2      Hillary Clinton agrees with John McCain \"by vo...  ...     1\n",
       "3      Health care reform legislation is likely to ma...  ...     0\n",
       "4      The economic turnaround started at the end of ...  ...     1\n",
       "...                                                  ...  ...   ...\n",
       "2910   Health insurance costs for Floridians are up 3...  ...     1\n",
       "6096   A photograph captures Harriet Tubman as a \"Gun...  ...     0\n",
       "10446  ISIS leader Abu Bakr al Baghdadi was \"released...  ...     0\n",
       "5414   \"The board of a nonprofit organization on whic...  ...     1\n",
       "6657   Japan announced plans to dump 920,000 tons of ...  ...     1\n",
       "\n",
       "[25235 rows x 3 columns]"
      ]
     },
     "execution_count": 3,
     "metadata": {
      "tags": []
     },
     "output_type": "execute_result"
    }
   ],
   "source": [
    "train_set = pd.read_pickle('liar_train.pkl')\n",
    "train_set"
   ]
  },
  {
   "cell_type": "markdown",
   "metadata": {
    "colab_type": "text",
    "id": "zVfrWS7tQh4y"
   },
   "source": [
    "# Load test data"
   ]
  },
  {
   "cell_type": "code",
   "execution_count": 0,
   "metadata": {
    "colab": {},
    "colab_type": "code",
    "id": "YDFEr7IiQh42"
   },
   "outputs": [],
   "source": [
    "test_set = pd.read_pickle('liar_test.pkl')"
   ]
  },
  {
   "cell_type": "markdown",
   "metadata": {
    "colab_type": "text",
    "id": "C558ejssQh4_"
   },
   "source": [
    "# Preparing the text data"
   ]
  },
  {
   "cell_type": "code",
   "execution_count": 0,
   "metadata": {
    "colab": {
     "base_uri": "https://localhost:8080/",
     "height": 52
    },
    "colab_type": "code",
    "id": "1L_TWBOkQh5D",
    "outputId": "86223510-9542-40fe-d07d-ebcc493c30c7"
   },
   "outputs": [
    {
     "name": "stdout",
     "output_type": "stream",
     "text": [
      "[nltk_data] Downloading package punkt to /root/nltk_data...\n",
      "[nltk_data]   Unzipping tokenizers/punkt.zip.\n"
     ]
    }
   ],
   "source": [
    "import string\n",
    "import gensim\n",
    "import nltk\n",
    "nltk.download('punkt')\n",
    "from nltk.tokenize import word_tokenize\n",
    "\n",
    "EMBEDDING_DIM = 300\n",
    "MAX_SEQUENCE_LENGTH = 1000"
   ]
  },
  {
   "cell_type": "code",
   "execution_count": 0,
   "metadata": {
    "colab": {
     "base_uri": "https://localhost:8080/",
     "height": 35
    },
    "colab_type": "code",
    "id": "AMnn9AKwQh5M",
    "outputId": "f4538121-fe98-41b2-b6cd-a4185c7021a8"
   },
   "outputs": [
    {
     "name": "stdout",
     "output_type": "stream",
     "text": [
      "25235\n"
     ]
    }
   ],
   "source": [
    "train_claims = list()\n",
    "lines = train_set['claim'].values.tolist()\n",
    "\n",
    "for line in lines:\n",
    "    tokens = word_tokenize(line)\n",
    "    # convert to lowercase\n",
    "    tokens = [w.lower() for w in tokens]\n",
    "    # remove punctuation\n",
    "    table = str.maketrans('', '', string.punctuation)\n",
    "    stripped = [w.translate(table) for w in tokens]\n",
    "    words = [word for word in stripped if word.isalpha()]\n",
    "    train_claims.append(words)\n",
    "\n",
    "print(len(train_claims))"
   ]
  },
  {
   "cell_type": "code",
   "execution_count": 0,
   "metadata": {
    "colab": {
     "base_uri": "https://localhost:8080/",
     "height": 35
    },
    "colab_type": "code",
    "id": "dqAcWeIVQh5W",
    "outputId": "dae79326-6d1a-497f-9c58-d45742bd9f40"
   },
   "outputs": [
    {
     "name": "stdout",
     "output_type": "stream",
     "text": [
      "3111\n"
     ]
    }
   ],
   "source": [
    "test_claims = list()\n",
    "lines = test_set['claim'].values.tolist()\n",
    "\n",
    "for line in lines:\n",
    "    tokens = word_tokenize(line)\n",
    "    # convert to lowercase\n",
    "    tokens = [w.lower() for w in tokens]\n",
    "    # remove punctuation\n",
    "    table = str.maketrans('', '', string.punctuation)\n",
    "    stripped = [w.translate(table) for w in tokens]\n",
    "    words = [word for word in stripped if word.isalpha()]\n",
    "    test_claims.append(words)\n",
    "\n",
    "print(len(test_claims))"
   ]
  },
  {
   "cell_type": "code",
   "execution_count": 0,
   "metadata": {
    "colab": {
     "base_uri": "https://localhost:8080/",
     "height": 81
    },
    "colab_type": "code",
    "id": "k6KWC4kKQh5e",
    "outputId": "39c7f82a-70df-4a4f-fdae-320e7d7f1af5"
   },
   "outputs": [
    {
     "name": "stderr",
     "output_type": "stream",
     "text": [
      "Using TensorFlow backend.\n"
     ]
    },
    {
     "data": {
      "text/html": [
       "<p style=\"color: red;\">\n",
       "The default version of TensorFlow in Colab will soon switch to TensorFlow 2.x.<br>\n",
       "We recommend you <a href=\"https://www.tensorflow.org/guide/migrate\" target=\"_blank\">upgrade</a> now \n",
       "or ensure your notebook will continue to use TensorFlow 1.x via the <code>%tensorflow_version 1.x</code> magic:\n",
       "<a href=\"https://colab.research.google.com/notebooks/tensorflow_version.ipynb\" target=\"_blank\">more info</a>.</p>\n"
      ],
      "text/plain": [
       "<IPython.core.display.HTML object>"
      ]
     },
     "metadata": {
      "tags": []
     },
     "output_type": "display_data"
    }
   ],
   "source": [
    "from keras.preprocessing.text import Tokenizer\n",
    "from keras.preprocessing.sequence import pad_sequences\n",
    "from keras.utils import to_categorical"
   ]
  },
  {
   "cell_type": "code",
   "execution_count": 0,
   "metadata": {
    "colab": {},
    "colab_type": "code",
    "id": "0hcai7AzQh5n"
   },
   "outputs": [],
   "source": [
    "with open('dataset/metadata.json', 'r') as f:\n",
    "    metadata = json.load(f)"
   ]
  },
  {
   "cell_type": "code",
   "execution_count": 0,
   "metadata": {
    "colab": {},
    "colab_type": "code",
    "id": "AneHQdTxQh5u"
   },
   "outputs": [],
   "source": [
    "df = pd.DataFrame(metadata)\n",
    "all_claims = df['claim']"
   ]
  },
  {
   "cell_type": "code",
   "execution_count": 0,
   "metadata": {
    "colab": {},
    "colab_type": "code",
    "id": "E9efeyyPQh54"
   },
   "outputs": [],
   "source": [
    "tokenizer = Tokenizer()\n",
    "# Fit on all claims - ok because no labels\n",
    "tokenizer.fit_on_texts(all_claims)"
   ]
  },
  {
   "cell_type": "code",
   "execution_count": 0,
   "metadata": {
    "colab": {},
    "colab_type": "code",
    "id": "f4Awwe4ZgTKn"
   },
   "outputs": [],
   "source": [
    "# save tokenizer\n",
    "with open('tokenizer.pickle', 'wb') as handle:\n",
    "    pickle.dump(tokenizer, handle, protocol=pickle.HIGHEST_PROTOCOL)"
   ]
  },
  {
   "cell_type": "code",
   "execution_count": 0,
   "metadata": {
    "colab": {
     "base_uri": "https://localhost:8080/",
     "height": 35
    },
    "colab_type": "code",
    "id": "CUNFHfBgQh5-",
    "outputId": "a4744c97-b7b5-424f-fd00-fc40db047cb1"
   },
   "outputs": [
    {
     "name": "stdout",
     "output_type": "stream",
     "text": [
      "Found 24909 unique tokens.\n"
     ]
    }
   ],
   "source": [
    "word_index = tokenizer.word_index\n",
    "print('Found %s unique tokens.' % len(word_index))"
   ]
  },
  {
   "cell_type": "code",
   "execution_count": 0,
   "metadata": {
    "colab": {},
    "colab_type": "code",
    "id": "w3OuCtpPQh6G"
   },
   "outputs": [],
   "source": [
    "train_seq = tokenizer.texts_to_sequences(train_claims)\n",
    "X = pad_sequences(train_seq, maxlen=MAX_SEQUENCE_LENGTH)"
   ]
  },
  {
   "cell_type": "code",
   "execution_count": 0,
   "metadata": {
    "colab": {},
    "colab_type": "code",
    "id": "SibKBS9gQh6M"
   },
   "outputs": [],
   "source": [
    "y = train_set['label'].values\n",
    "y = to_categorical(np.asarray(y))"
   ]
  },
  {
   "cell_type": "code",
   "execution_count": 0,
   "metadata": {
    "colab": {
     "base_uri": "https://localhost:8080/",
     "height": 52
    },
    "colab_type": "code",
    "id": "K4i1E6eHQh6T",
    "outputId": "3ed3f22d-15e3-48eb-e4a2-1bc2804ba652"
   },
   "outputs": [
    {
     "name": "stdout",
     "output_type": "stream",
     "text": [
      "Shape of training data tensor: (25235, 1000)\n",
      "Shape of training label tensor: (25235, 3)\n"
     ]
    }
   ],
   "source": [
    "print(\"Shape of training data tensor:\", X.shape)\n",
    "print(\"Shape of training label tensor:\", y.shape)"
   ]
  },
  {
   "cell_type": "code",
   "execution_count": 0,
   "metadata": {
    "colab": {},
    "colab_type": "code",
    "id": "EXTpFMq_Qh6a"
   },
   "outputs": [],
   "source": [
    "test_seq = tokenizer.texts_to_sequences(test_claims)\n",
    "X_val = pad_sequences(test_seq, maxlen=MAX_SEQUENCE_LENGTH)"
   ]
  },
  {
   "cell_type": "code",
   "execution_count": 0,
   "metadata": {
    "colab": {},
    "colab_type": "code",
    "id": "ek1FCac9Qh6f"
   },
   "outputs": [],
   "source": [
    "y_val = test_set['label'].values\n",
    "y_val = to_categorical(np.asarray(y_val))"
   ]
  },
  {
   "cell_type": "code",
   "execution_count": 0,
   "metadata": {
    "colab": {
     "base_uri": "https://localhost:8080/",
     "height": 52
    },
    "colab_type": "code",
    "id": "x46IU7R4Qh6n",
    "outputId": "45a21858-e1af-47cd-ccfc-1788685f3e27"
   },
   "outputs": [
    {
     "name": "stdout",
     "output_type": "stream",
     "text": [
      "Shape of validation data tensor: (3111, 1000)\n",
      "Shape of validation label tensor: (3111, 3)\n"
     ]
    }
   ],
   "source": [
    "print(\"Shape of validation data tensor:\", X_val.shape)\n",
    "print(\"Shape of validation label tensor:\", y_val.shape)"
   ]
  },
  {
   "cell_type": "code",
   "execution_count": 0,
   "metadata": {
    "colab": {
     "base_uri": "https://localhost:8080/",
     "height": 72
    },
    "colab_type": "code",
    "id": "Nw9YyWiAQh6u",
    "outputId": "690db78a-1c3c-430d-92b4-4c2fabd699c4"
   },
   "outputs": [
    {
     "name": "stderr",
     "output_type": "stream",
     "text": [
      "/usr/local/lib/python3.6/dist-packages/sklearn/externals/six.py:31: DeprecationWarning: The module is deprecated in version 0.21 and will be removed in version 0.23 since we've dropped support for Python 2.7. Please rely on the official version of six (https://pypi.org/project/six/).\n",
      "  \"(https://pypi.org/project/six/).\", DeprecationWarning)\n"
     ]
    }
   ],
   "source": [
    "from imblearn.over_sampling import SMOTE\n",
    "\n",
    "sm = SMOTE()\n",
    "X_train, y_train = sm.fit_resample(X, y)"
   ]
  },
  {
   "cell_type": "code",
   "execution_count": 0,
   "metadata": {
    "colab": {
     "base_uri": "https://localhost:8080/",
     "height": 87
    },
    "colab_type": "code",
    "id": "7zJp4K4oQh60",
    "outputId": "9424c456-0c71-43b2-b696-163987f91260"
   },
   "outputs": [
    {
     "name": "stdout",
     "output_type": "stream",
     "text": [
      "Shape of X_train tensor: (36903, 1000)\n",
      "Shape of y_train tensor: (36903, 3)\n",
      "Shape of X_val tensor: (3111, 1000)\n",
      "Shape of y_val tensor: (3111, 3)\n"
     ]
    }
   ],
   "source": [
    "print(\"Shape of X_train tensor:\", X_train.shape)\n",
    "print(\"Shape of y_train tensor:\", y_train.shape)\n",
    "\n",
    "print(\"Shape of X_val tensor:\", X_val.shape)\n",
    "print(\"Shape of y_val tensor:\", y_val.shape)"
   ]
  },
  {
   "cell_type": "markdown",
   "metadata": {
    "colab_type": "text",
    "id": "2fPek3Y2Qh69"
   },
   "source": [
    "# Preparing the embedding layer"
   ]
  },
  {
   "cell_type": "code",
   "execution_count": 0,
   "metadata": {
    "colab": {
     "base_uri": "https://localhost:8080/",
     "height": 35
    },
    "colab_type": "code",
    "id": "L17suagOQh6_",
    "outputId": "1e420b1d-c1b0-4283-d49b-15f55e655f08"
   },
   "outputs": [
    {
     "name": "stdout",
     "output_type": "stream",
     "text": [
      "Found 400000 word vectors.\n"
     ]
    }
   ],
   "source": [
    "embeddings_index = {}\n",
    "with open('reference/glove.6B.300d.txt', 'r') as f:\n",
    "    for line in f:\n",
    "        values = line.split()\n",
    "        word = values[0]\n",
    "        coefs = np.asarray(values[1:], dtype='float32')\n",
    "        embeddings_index[word] = coefs\n",
    "\n",
    "print('Found %s word vectors.' % len(embeddings_index))"
   ]
  },
  {
   "cell_type": "code",
   "execution_count": 0,
   "metadata": {
    "colab": {},
    "colab_type": "code",
    "id": "JnE-9EUzQh7I"
   },
   "outputs": [],
   "source": [
    "vocab_size = len(word_index) + 1\n",
    "embedding_matrix = np.zeros((vocab_size, EMBEDDING_DIM))"
   ]
  },
  {
   "cell_type": "code",
   "execution_count": 0,
   "metadata": {
    "colab": {},
    "colab_type": "code",
    "id": "NLT-6wAPQh7V"
   },
   "outputs": [],
   "source": [
    "for word, i in word_index.items():\n",
    "    if i > vocab_size:\n",
    "        continue\n",
    "    embedding_vector = embeddings_index.get(word)\n",
    "    if embedding_vector is not None:\n",
    "        # words not found in embedding index will be all-zeros.\n",
    "        embedding_matrix[i] = embedding_vector"
   ]
  },
  {
   "cell_type": "code",
   "execution_count": 0,
   "metadata": {
    "colab": {},
    "colab_type": "code",
    "id": "GqFmtt90Qh7d"
   },
   "outputs": [],
   "source": [
    "from keras.layers.embeddings import Embedding"
   ]
  },
  {
   "cell_type": "code",
   "execution_count": 0,
   "metadata": {
    "colab": {
     "base_uri": "https://localhost:8080/",
     "height": 72
    },
    "colab_type": "code",
    "id": "YhG3aqL-Qh7i",
    "outputId": "ca6a657d-a7b4-42fe-d919-7e13114e5bee"
   },
   "outputs": [
    {
     "name": "stdout",
     "output_type": "stream",
     "text": [
      "WARNING:tensorflow:From /usr/local/lib/python3.6/dist-packages/keras/backend/tensorflow_backend.py:66: The name tf.get_default_graph is deprecated. Please use tf.compat.v1.get_default_graph instead.\n",
      "\n"
     ]
    }
   ],
   "source": [
    "embedding_layer = Embedding(vocab_size,\n",
    "                            EMBEDDING_DIM,\n",
    "                            weights=[embedding_matrix],\n",
    "                            input_length=MAX_SEQUENCE_LENGTH,\n",
    "                            trainable=False)"
   ]
  },
  {
   "cell_type": "markdown",
   "metadata": {
    "colab_type": "text",
    "id": "MjBiT5BiQh7n"
   },
   "source": [
    "# Training a 1D convnet"
   ]
  },
  {
   "cell_type": "code",
   "execution_count": 0,
   "metadata": {
    "colab": {},
    "colab_type": "code",
    "id": "_rOWA8pzQh7s"
   },
   "outputs": [],
   "source": [
    "from keras.models import Sequential, Model\n",
    "from keras.layers import Dense, Input, Dropout, Flatten, LSTM, BatchNormalization\n",
    "from keras.layers import Conv1D, MaxPooling1D, Activation\n",
    "from keras.callbacks import EarlyStopping\n",
    "from keras.optimizers import SGD, Adadelta\n",
    "from matplotlib import pyplot as plt"
   ]
  },
  {
   "cell_type": "code",
   "execution_count": 0,
   "metadata": {
    "colab": {},
    "colab_type": "code",
    "id": "1cdT63thQh7y"
   },
   "outputs": [],
   "source": [
    "from keras import backend as K\n",
    "\n",
    "def recall_m(y_true, y_pred):\n",
    "        true_positives = K.sum(K.round(K.clip(y_true * y_pred, 0, 1)))\n",
    "        possible_positives = K.sum(K.round(K.clip(y_true, 0, 1)))\n",
    "        recall = true_positives / (possible_positives + K.epsilon())\n",
    "        return recall\n",
    "\n",
    "def precision_m(y_true, y_pred):\n",
    "        true_positives = K.sum(K.round(K.clip(y_true * y_pred, 0, 1)))\n",
    "        predicted_positives = K.sum(K.round(K.clip(y_pred, 0, 1)))\n",
    "        precision = true_positives / (predicted_positives + K.epsilon())\n",
    "        return precision\n",
    "\n",
    "def f1_m(y_true, y_pred):\n",
    "    precision = precision_m(y_true, y_pred)\n",
    "    recall = recall_m(y_true, y_pred)\n",
    "    return 2*((precision*recall)/(precision+recall+K.epsilon()))"
   ]
  },
  {
   "cell_type": "code",
   "execution_count": 0,
   "metadata": {
    "colab": {},
    "colab_type": "code",
    "id": "KtO3GZJOQh73"
   },
   "outputs": [],
   "source": [
    "# Simple early stopping\n",
    "es = EarlyStopping(monitor='val_loss', mode='min', verbose=1, patience=3)"
   ]
  },
  {
   "cell_type": "code",
   "execution_count": 0,
   "metadata": {
    "colab": {
     "base_uri": "https://localhost:8080/",
     "height": 505
    },
    "colab_type": "code",
    "id": "0IdtGIs7Qh8B",
    "outputId": "80ce6574-cb01-49f4-d8d0-d5dd1779252a"
   },
   "outputs": [
    {
     "name": "stdout",
     "output_type": "stream",
     "text": [
      "WARNING:tensorflow:From /usr/local/lib/python3.6/dist-packages/keras/backend/tensorflow_backend.py:541: The name tf.placeholder is deprecated. Please use tf.compat.v1.placeholder instead.\n",
      "\n",
      "WARNING:tensorflow:From /usr/local/lib/python3.6/dist-packages/keras/backend/tensorflow_backend.py:4432: The name tf.random_uniform is deprecated. Please use tf.random.uniform instead.\n",
      "\n",
      "WARNING:tensorflow:From /usr/local/lib/python3.6/dist-packages/keras/backend/tensorflow_backend.py:190: The name tf.get_default_session is deprecated. Please use tf.compat.v1.get_default_session instead.\n",
      "\n",
      "WARNING:tensorflow:From /usr/local/lib/python3.6/dist-packages/keras/backend/tensorflow_backend.py:197: The name tf.ConfigProto is deprecated. Please use tf.compat.v1.ConfigProto instead.\n",
      "\n",
      "WARNING:tensorflow:From /usr/local/lib/python3.6/dist-packages/keras/backend/tensorflow_backend.py:203: The name tf.Session is deprecated. Please use tf.compat.v1.Session instead.\n",
      "\n",
      "WARNING:tensorflow:From /usr/local/lib/python3.6/dist-packages/keras/backend/tensorflow_backend.py:207: The name tf.global_variables is deprecated. Please use tf.compat.v1.global_variables instead.\n",
      "\n",
      "WARNING:tensorflow:From /usr/local/lib/python3.6/dist-packages/keras/backend/tensorflow_backend.py:216: The name tf.is_variable_initialized is deprecated. Please use tf.compat.v1.is_variable_initialized instead.\n",
      "\n",
      "WARNING:tensorflow:From /usr/local/lib/python3.6/dist-packages/keras/backend/tensorflow_backend.py:223: The name tf.variables_initializer is deprecated. Please use tf.compat.v1.variables_initializer instead.\n",
      "\n",
      "WARNING:tensorflow:From /usr/local/lib/python3.6/dist-packages/keras/backend/tensorflow_backend.py:148: The name tf.placeholder_with_default is deprecated. Please use tf.compat.v1.placeholder_with_default instead.\n",
      "\n",
      "WARNING:tensorflow:From /usr/local/lib/python3.6/dist-packages/keras/backend/tensorflow_backend.py:4267: The name tf.nn.max_pool is deprecated. Please use tf.nn.max_pool2d instead.\n",
      "\n",
      "WARNING:tensorflow:From /usr/local/lib/python3.6/dist-packages/keras/backend/tensorflow_backend.py:3733: calling dropout (from tensorflow.python.ops.nn_ops) with keep_prob is deprecated and will be removed in a future version.\n",
      "Instructions for updating:\n",
      "Please use `rate` instead of `keep_prob`. Rate should be set to `rate = 1 - keep_prob`.\n",
      "WARNING:tensorflow:From /usr/local/lib/python3.6/dist-packages/keras/optimizers.py:793: The name tf.train.Optimizer is deprecated. Please use tf.compat.v1.train.Optimizer instead.\n",
      "\n",
      "WARNING:tensorflow:From /usr/local/lib/python3.6/dist-packages/keras/backend/tensorflow_backend.py:3576: The name tf.log is deprecated. Please use tf.math.log instead.\n",
      "\n"
     ]
    }
   ],
   "source": [
    "m1 = Sequential()\n",
    "m1.add(embedding_layer)\n",
    "m1.add(Conv1D(128, 5))\n",
    "m1.add(BatchNormalization())\n",
    "m1.add(Activation('relu'))\n",
    "m1.add(MaxPooling1D(5))\n",
    "m1.add(Dropout(0.5))\n",
    "m1.add(Conv1D(128, 5))\n",
    "m1.add(BatchNormalization())\n",
    "m1.add(Activation('relu'))\n",
    "m1.add(MaxPooling1D(5))\n",
    "m1.add(Dropout(0.5))\n",
    "m1.add(Flatten())\n",
    "m1.add(Dense(128, activation='relu'))\n",
    "m1.add(Dense(3, activation='softmax'))\n",
    "\n",
    "m1.compile(loss='categorical_crossentropy',\n",
    "              optimizer=SGD(lr=0.01, nesterov=True),\n",
    "              metrics=['acc'])"
   ]
  },
  {
   "cell_type": "code",
   "execution_count": 0,
   "metadata": {
    "colab": {
     "base_uri": "https://localhost:8080/",
     "height": 641
    },
    "colab_type": "code",
    "id": "mBcaVC_PQh8H",
    "outputId": "33346d3b-f8b3-48c5-ff3b-2ba15799d6a3"
   },
   "outputs": [
    {
     "name": "stdout",
     "output_type": "stream",
     "text": [
      "Model: \"sequential_1\"\n",
      "_________________________________________________________________\n",
      "Layer (type)                 Output Shape              Param #   \n",
      "=================================================================\n",
      "embedding_1 (Embedding)      (None, 1000, 300)         7473000   \n",
      "_________________________________________________________________\n",
      "conv1d_1 (Conv1D)            (None, 996, 128)          192128    \n",
      "_________________________________________________________________\n",
      "batch_normalization_1 (Batch (None, 996, 128)          512       \n",
      "_________________________________________________________________\n",
      "activation_1 (Activation)    (None, 996, 128)          0         \n",
      "_________________________________________________________________\n",
      "max_pooling1d_1 (MaxPooling1 (None, 199, 128)          0         \n",
      "_________________________________________________________________\n",
      "dropout_1 (Dropout)          (None, 199, 128)          0         \n",
      "_________________________________________________________________\n",
      "conv1d_2 (Conv1D)            (None, 195, 128)          82048     \n",
      "_________________________________________________________________\n",
      "batch_normalization_2 (Batch (None, 195, 128)          512       \n",
      "_________________________________________________________________\n",
      "activation_2 (Activation)    (None, 195, 128)          0         \n",
      "_________________________________________________________________\n",
      "max_pooling1d_2 (MaxPooling1 (None, 39, 128)           0         \n",
      "_________________________________________________________________\n",
      "dropout_2 (Dropout)          (None, 39, 128)           0         \n",
      "_________________________________________________________________\n",
      "flatten_1 (Flatten)          (None, 4992)              0         \n",
      "_________________________________________________________________\n",
      "dense_1 (Dense)              (None, 128)               639104    \n",
      "_________________________________________________________________\n",
      "dense_2 (Dense)              (None, 3)                 387       \n",
      "=================================================================\n",
      "Total params: 8,387,691\n",
      "Trainable params: 914,179\n",
      "Non-trainable params: 7,473,512\n",
      "_________________________________________________________________\n"
     ]
    }
   ],
   "source": [
    "m1.summary()"
   ]
  },
  {
   "cell_type": "code",
   "execution_count": 0,
   "metadata": {
    "colab": {
     "base_uri": "https://localhost:8080/",
     "height": 1000
    },
    "colab_type": "code",
    "id": "qv_gQX2UQh8O",
    "outputId": "be8b36a5-7b10-4e95-cb60-851681c6462d",
    "scrolled": false
   },
   "outputs": [
    {
     "name": "stdout",
     "output_type": "stream",
     "text": [
      "WARNING:tensorflow:From /usr/local/lib/python3.6/dist-packages/tensorflow_core/python/ops/math_grad.py:1424: where (from tensorflow.python.ops.array_ops) is deprecated and will be removed in a future version.\n",
      "Instructions for updating:\n",
      "Use tf.where in 2.0, which has the same broadcast rule as np.where\n",
      "WARNING:tensorflow:From /usr/local/lib/python3.6/dist-packages/keras/backend/tensorflow_backend.py:1033: The name tf.assign_add is deprecated. Please use tf.compat.v1.assign_add instead.\n",
      "\n",
      "WARNING:tensorflow:From /usr/local/lib/python3.6/dist-packages/keras/backend/tensorflow_backend.py:1020: The name tf.assign is deprecated. Please use tf.compat.v1.assign instead.\n",
      "\n",
      "Train on 36903 samples, validate on 3111 samples\n",
      "Epoch 1/60\n",
      "36903/36903 [==============================] - 23s 631us/step - loss: 1.1173 - acc: 0.3551 - val_loss: 1.0846 - val_acc: 0.4764\n",
      "Epoch 2/60\n",
      "36903/36903 [==============================] - 19s 528us/step - loss: 1.0745 - acc: 0.4107 - val_loss: 1.1404 - val_acc: 0.2864\n",
      "Epoch 3/60\n",
      "36903/36903 [==============================] - 20s 533us/step - loss: 1.0269 - acc: 0.4783 - val_loss: 1.0425 - val_acc: 0.4773\n",
      "Epoch 4/60\n",
      "36903/36903 [==============================] - 20s 531us/step - loss: 0.9889 - acc: 0.5133 - val_loss: 1.0070 - val_acc: 0.5198\n",
      "Epoch 5/60\n",
      "36903/36903 [==============================] - 20s 535us/step - loss: 0.9631 - acc: 0.5368 - val_loss: 1.0607 - val_acc: 0.4561\n",
      "Epoch 6/60\n",
      "36903/36903 [==============================] - 20s 530us/step - loss: 0.9377 - acc: 0.5529 - val_loss: 1.0117 - val_acc: 0.5088\n",
      "Epoch 7/60\n",
      "36903/36903 [==============================] - 20s 531us/step - loss: 0.9231 - acc: 0.5641 - val_loss: 1.0305 - val_acc: 0.4934\n",
      "Epoch 8/60\n",
      "36903/36903 [==============================] - 20s 532us/step - loss: 0.9075 - acc: 0.5749 - val_loss: 0.9511 - val_acc: 0.5799\n",
      "Epoch 9/60\n",
      "36903/36903 [==============================] - 20s 532us/step - loss: 0.8899 - acc: 0.5868 - val_loss: 1.0086 - val_acc: 0.5394\n",
      "Epoch 10/60\n",
      "36903/36903 [==============================] - 20s 538us/step - loss: 0.8763 - acc: 0.5988 - val_loss: 0.9230 - val_acc: 0.5963\n",
      "Epoch 11/60\n",
      "36903/36903 [==============================] - 20s 530us/step - loss: 0.8668 - acc: 0.6041 - val_loss: 0.9310 - val_acc: 0.5702\n",
      "Epoch 12/60\n",
      "36903/36903 [==============================] - 20s 531us/step - loss: 0.8573 - acc: 0.6078 - val_loss: 0.9513 - val_acc: 0.5812\n",
      "Epoch 13/60\n",
      "36903/36903 [==============================] - 20s 530us/step - loss: 0.8421 - acc: 0.6193 - val_loss: 0.9573 - val_acc: 0.5577\n",
      "Epoch 14/60\n",
      "36903/36903 [==============================] - 20s 529us/step - loss: 0.8279 - acc: 0.6211 - val_loss: 0.9565 - val_acc: 0.5779\n",
      "Epoch 15/60\n",
      "36903/36903 [==============================] - 20s 529us/step - loss: 0.8188 - acc: 0.6331 - val_loss: 0.9385 - val_acc: 0.5882\n",
      "Epoch 16/60\n",
      "36903/36903 [==============================] - 20s 530us/step - loss: 0.8066 - acc: 0.6368 - val_loss: 0.9133 - val_acc: 0.5802\n",
      "Epoch 17/60\n",
      "36903/36903 [==============================] - 20s 539us/step - loss: 0.7955 - acc: 0.6421 - val_loss: 0.8950 - val_acc: 0.5898\n",
      "Epoch 18/60\n",
      "36903/36903 [==============================] - 20s 536us/step - loss: 0.7822 - acc: 0.6513 - val_loss: 0.9186 - val_acc: 0.5905\n",
      "Epoch 19/60\n",
      "36903/36903 [==============================] - 19s 528us/step - loss: 0.7732 - acc: 0.6585 - val_loss: 0.8880 - val_acc: 0.5863\n",
      "Epoch 20/60\n",
      "36903/36903 [==============================] - 20s 533us/step - loss: 0.7613 - acc: 0.6644 - val_loss: 0.8850 - val_acc: 0.6059\n",
      "Epoch 21/60\n",
      "36903/36903 [==============================] - 20s 536us/step - loss: 0.7482 - acc: 0.6723 - val_loss: 0.8675 - val_acc: 0.6037\n",
      "Epoch 22/60\n",
      "36903/36903 [==============================] - 20s 532us/step - loss: 0.7361 - acc: 0.6777 - val_loss: 0.8566 - val_acc: 0.6130\n",
      "Epoch 23/60\n",
      "36903/36903 [==============================] - 20s 535us/step - loss: 0.7245 - acc: 0.6839 - val_loss: 0.8650 - val_acc: 0.6159\n",
      "Epoch 24/60\n",
      "36903/36903 [==============================] - 20s 530us/step - loss: 0.7117 - acc: 0.6927 - val_loss: 0.8353 - val_acc: 0.6268\n",
      "Epoch 25/60\n",
      "36903/36903 [==============================] - 20s 538us/step - loss: 0.7045 - acc: 0.6981 - val_loss: 0.8692 - val_acc: 0.5905\n",
      "Epoch 26/60\n",
      "36903/36903 [==============================] - 20s 545us/step - loss: 0.6920 - acc: 0.7020 - val_loss: 0.8673 - val_acc: 0.6117\n",
      "Epoch 27/60\n",
      "36903/36903 [==============================] - 20s 529us/step - loss: 0.6816 - acc: 0.7076 - val_loss: 0.8486 - val_acc: 0.5940\n",
      "Epoch 28/60\n",
      "36903/36903 [==============================] - 20s 534us/step - loss: 0.6681 - acc: 0.7133 - val_loss: 0.8518 - val_acc: 0.6046\n",
      "Epoch 29/60\n",
      "36903/36903 [==============================] - 20s 536us/step - loss: 0.6590 - acc: 0.7160 - val_loss: 0.8405 - val_acc: 0.6050\n",
      "Epoch 30/60\n",
      "36903/36903 [==============================] - 20s 533us/step - loss: 0.6509 - acc: 0.7222 - val_loss: 0.8525 - val_acc: 0.6320\n",
      "Epoch 31/60\n",
      "36903/36903 [==============================] - 20s 534us/step - loss: 0.6415 - acc: 0.7280 - val_loss: 0.8088 - val_acc: 0.6538\n",
      "Epoch 32/60\n",
      "36903/36903 [==============================] - 20s 540us/step - loss: 0.6313 - acc: 0.7334 - val_loss: 0.8644 - val_acc: 0.6140\n",
      "Epoch 33/60\n",
      "36903/36903 [==============================] - 19s 525us/step - loss: 0.6212 - acc: 0.7390 - val_loss: 0.8138 - val_acc: 0.6458\n",
      "Epoch 34/60\n",
      "36903/36903 [==============================] - 19s 522us/step - loss: 0.6109 - acc: 0.7435 - val_loss: 0.8252 - val_acc: 0.6403\n",
      "Epoch 35/60\n",
      "36903/36903 [==============================] - 19s 523us/step - loss: 0.6014 - acc: 0.7465 - val_loss: 0.8501 - val_acc: 0.6210\n",
      "Epoch 36/60\n",
      "36903/36903 [==============================] - 19s 524us/step - loss: 0.5948 - acc: 0.7506 - val_loss: 0.8206 - val_acc: 0.6397\n",
      "Epoch 37/60\n",
      "36903/36903 [==============================] - 19s 523us/step - loss: 0.5827 - acc: 0.7548 - val_loss: 0.8250 - val_acc: 0.6451\n",
      "Epoch 38/60\n",
      "36903/36903 [==============================] - 19s 522us/step - loss: 0.5728 - acc: 0.7622 - val_loss: 0.7939 - val_acc: 0.6506\n",
      "Epoch 39/60\n",
      "36903/36903 [==============================] - 19s 518us/step - loss: 0.5658 - acc: 0.7661 - val_loss: 0.8879 - val_acc: 0.6101\n",
      "Epoch 40/60\n",
      "36903/36903 [==============================] - 19s 521us/step - loss: 0.5589 - acc: 0.7696 - val_loss: 0.8166 - val_acc: 0.6339\n",
      "Epoch 41/60\n",
      "36903/36903 [==============================] - 19s 523us/step - loss: 0.5475 - acc: 0.7730 - val_loss: 0.8005 - val_acc: 0.6541\n",
      "Epoch 42/60\n",
      "36903/36903 [==============================] - 20s 530us/step - loss: 0.5409 - acc: 0.7779 - val_loss: 0.8150 - val_acc: 0.6538\n",
      "Epoch 43/60\n",
      "36903/36903 [==============================] - 19s 521us/step - loss: 0.5328 - acc: 0.7794 - val_loss: 0.7844 - val_acc: 0.6660\n",
      "Epoch 44/60\n",
      "36903/36903 [==============================] - 19s 520us/step - loss: 0.5269 - acc: 0.7837 - val_loss: 0.8197 - val_acc: 0.6483\n",
      "Epoch 45/60\n",
      "36903/36903 [==============================] - 19s 523us/step - loss: 0.5224 - acc: 0.7845 - val_loss: 0.8087 - val_acc: 0.6548\n",
      "Epoch 46/60\n",
      "36903/36903 [==============================] - 19s 520us/step - loss: 0.5160 - acc: 0.7873 - val_loss: 0.8316 - val_acc: 0.6429\n",
      "Epoch 47/60\n",
      "36903/36903 [==============================] - 19s 521us/step - loss: 0.5015 - acc: 0.7936 - val_loss: 0.8107 - val_acc: 0.6638\n",
      "Epoch 48/60\n",
      "36903/36903 [==============================] - 19s 521us/step - loss: 0.4922 - acc: 0.7995 - val_loss: 0.8058 - val_acc: 0.6815\n",
      "Epoch 49/60\n",
      "36903/36903 [==============================] - 19s 522us/step - loss: 0.4907 - acc: 0.8001 - val_loss: 0.8198 - val_acc: 0.6789\n",
      "Epoch 50/60\n",
      "36903/36903 [==============================] - 19s 520us/step - loss: 0.4779 - acc: 0.8060 - val_loss: 0.8269 - val_acc: 0.6680\n",
      "Epoch 51/60\n",
      "36903/36903 [==============================] - 19s 519us/step - loss: 0.4704 - acc: 0.8081 - val_loss: 0.8484 - val_acc: 0.6744\n",
      "Epoch 52/60\n",
      "36903/36903 [==============================] - 19s 522us/step - loss: 0.4739 - acc: 0.8066 - val_loss: 0.8075 - val_acc: 0.6741\n",
      "Epoch 53/60\n",
      "36903/36903 [==============================] - 19s 522us/step - loss: 0.4620 - acc: 0.8115 - val_loss: 0.8107 - val_acc: 0.6699\n",
      "Epoch 54/60\n",
      "36903/36903 [==============================] - 19s 519us/step - loss: 0.4615 - acc: 0.8142 - val_loss: 0.7891 - val_acc: 0.6885\n",
      "Epoch 55/60\n",
      "36903/36903 [==============================] - 19s 521us/step - loss: 0.4500 - acc: 0.8194 - val_loss: 0.8108 - val_acc: 0.6676\n",
      "Epoch 56/60\n",
      "36903/36903 [==============================] - 19s 520us/step - loss: 0.4477 - acc: 0.8190 - val_loss: 0.8324 - val_acc: 0.6721\n",
      "Epoch 57/60\n",
      "36903/36903 [==============================] - 19s 518us/step - loss: 0.4400 - acc: 0.8226 - val_loss: 0.7993 - val_acc: 0.6731\n",
      "Epoch 58/60\n",
      "36903/36903 [==============================] - 20s 533us/step - loss: 0.4319 - acc: 0.8255 - val_loss: 0.7991 - val_acc: 0.6888\n",
      "Epoch 59/60\n",
      "36903/36903 [==============================] - 19s 519us/step - loss: 0.4383 - acc: 0.8239 - val_loss: 0.8083 - val_acc: 0.6847\n",
      "Epoch 60/60\n",
      "36903/36903 [==============================] - 19s 519us/step - loss: 0.4296 - acc: 0.8269 - val_loss: 0.8075 - val_acc: 0.6798\n"
     ]
    }
   ],
   "source": [
    "h1 = m1.fit(X_train, y_train, validation_data=(X_val, y_val), batch_size=16, epochs=60)"
   ]
  },
  {
   "cell_type": "code",
   "execution_count": 0,
   "metadata": {
    "colab": {},
    "colab_type": "code",
    "id": "K0hU7UcEQh8U"
   },
   "outputs": [],
   "source": [
    "m1.save(\"models/conv.h5\")"
   ]
  },
  {
   "cell_type": "code",
   "execution_count": 0,
   "metadata": {
    "colab": {
     "base_uri": "https://localhost:8080/",
     "height": 35
    },
    "colab_type": "code",
    "id": "kQW_754LQh8a",
    "outputId": "6b31bec5-4d87-401e-be54-82109c924ad9"
   },
   "outputs": [
    {
     "name": "stdout",
     "output_type": "stream",
     "text": [
      "Training accuracy: 0.939, Test accuracy: 0.680\n"
     ]
    }
   ],
   "source": [
    "# evaluate the model\n",
    "train_loss, train_acc = m1.evaluate(X_train, y_train, verbose=0)\n",
    "val_loss, val_acc = m1.evaluate(X_val, y_val, verbose=0)\n",
    "\n",
    "print('Training accuracy: %.3f, Test accuracy: %.3f' % (train_acc, val_acc))"
   ]
  },
  {
   "cell_type": "code",
   "execution_count": 0,
   "metadata": {
    "colab": {
     "base_uri": "https://localhost:8080/",
     "height": 265
    },
    "colab_type": "code",
    "id": "zztBMtK9Qh8h",
    "outputId": "fb457f18-ce1d-40e3-b866-74379ea54bff"
   },
   "outputs": [
    {
     "data": {
      "image/png": "[encoded data removed]",
      "text/plain": [
       "<Figure size 432x288 with 1 Axes>"
      ]
     },
     "metadata": {
      "tags": []
     },
     "output_type": "display_data"
    }
   ],
   "source": [
    "# plot loss\n",
    "plt.plot(h1.history['loss'], label='train')\n",
    "plt.plot(h1.history['val_loss'], label='validation')\n",
    "plt.legend()\n",
    "plt.show()"
   ]
  },
  {
   "cell_type": "code",
   "execution_count": 0,
   "metadata": {
    "colab": {
     "base_uri": "https://localhost:8080/",
     "height": 265
    },
    "colab_type": "code",
    "id": "prq6AsmbQh8o",
    "outputId": "02dac219-485f-4651-df80-6e4f3463b135"
   },
   "outputs": [
    {
     "data": {
      "image/png": "[encoded data removed]",
      "text/plain": [
       "<Figure size 432x288 with 1 Axes>"
      ]
     },
     "metadata": {
      "tags": []
     },
     "output_type": "display_data"
    }
   ],
   "source": [
    "# plot accuracy\n",
    "plt.plot(h1.history['acc'], label='train')\n",
    "plt.plot(h1.history['val_acc'], label='validation')\n",
    "plt.legend()\n",
    "plt.show()"
   ]
  },
  {
   "cell_type": "code",
   "execution_count": 0,
   "metadata": {
    "colab": {},
    "colab_type": "code",
    "id": "vmgLY66t2t1H"
   },
   "outputs": [],
   "source": []
  }
 ],
 "metadata": {
  "accelerator": "GPU",
  "colab": {
   "collapsed_sections": [],
   "name": "benchmark.ipynb",
   "provenance": []
  },
  "kernelspec": {
   "display_name": "Python 3",
   "language": "python",
   "name": "python3"
  },
  "language_info": {
   "codemirror_mode": {
    "name": "ipython",
    "version": 3
   },
   "file_extension": ".py",
   "mimetype": "text/x-python",
   "name": "python",
   "nbconvert_exporter": "python",
   "pygments_lexer": "ipython3",
   "version": "3.6.8"
  }
 },
 "nbformat": 4,
 "nbformat_minor": 1
}
