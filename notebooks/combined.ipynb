{
 "cells": [
  {
   "cell_type": "markdown",
   "metadata": {},
   "source": [
    "# Set up"
   ]
  },
  {
   "cell_type": "code",
   "execution_count": 1,
   "metadata": {},
   "outputs": [],
   "source": [
    "import pandas as pd\n",
    "import numpy as np\n",
    "import json\n",
    "import pickle"
   ]
  },
  {
   "cell_type": "markdown",
   "metadata": {},
   "source": [
    "# Load training set"
   ]
  },
  {
   "cell_type": "code",
   "execution_count": 2,
   "metadata": {},
   "outputs": [
    {
     "data": {
      "text/html": [
       "<div>\n",
       "<style scoped>\n",
       "    .dataframe tbody tr th:only-of-type {\n",
       "        vertical-align: middle;\n",
       "    }\n",
       "\n",
       "    .dataframe tbody tr th {\n",
       "        vertical-align: top;\n",
       "    }\n",
       "\n",
       "    .dataframe thead th {\n",
       "        text-align: right;\n",
       "    }\n",
       "</style>\n",
       "<table border=\"1\" class=\"dataframe\">\n",
       "  <thead>\n",
       "    <tr style=\"text-align: right;\">\n",
       "      <th></th>\n",
       "      <th>claim</th>\n",
       "      <th>claimant</th>\n",
       "      <th>date</th>\n",
       "      <th>label</th>\n",
       "      <th>related_articles</th>\n",
       "      <th>id</th>\n",
       "    </tr>\n",
       "  </thead>\n",
       "  <tbody>\n",
       "    <tr>\n",
       "      <td>9389</td>\n",
       "      <td>While arguing over President Reagan’s 1981 tax...</td>\n",
       "      <td>Sarah Sanders</td>\n",
       "      <td>2017-10-31</td>\n",
       "      <td>1</td>\n",
       "      <td>[34218, 55700, 18736, 39031, 34219, 34220]</td>\n",
       "      <td>10354</td>\n",
       "    </tr>\n",
       "    <tr>\n",
       "      <td>1861</td>\n",
       "      <td>Recently Rick Scott \"closed 30 women’s health ...</td>\n",
       "      <td>Lois Frankel</td>\n",
       "      <td>2014-09-12</td>\n",
       "      <td>0</td>\n",
       "      <td>[73190, 76997, 38841, 77415, 77303, 9280, 8332...</td>\n",
       "      <td>2053</td>\n",
       "    </tr>\n",
       "    <tr>\n",
       "      <td>11035</td>\n",
       "      <td>Says Target installed urinals in a women’s bat...</td>\n",
       "      <td>Facebook posts</td>\n",
       "      <td>2016-04-22</td>\n",
       "      <td>0</td>\n",
       "      <td>[9619, 22197]</td>\n",
       "      <td>12160</td>\n",
       "    </tr>\n",
       "    <tr>\n",
       "      <td>12221</td>\n",
       "      <td>Says \"combined doses of vaccines\" have never b...</td>\n",
       "      <td>Facebook posts</td>\n",
       "      <td>2019-04-15</td>\n",
       "      <td>0</td>\n",
       "      <td>[57163, 31528, 40908, 31536, 68904, 44601]</td>\n",
       "      <td>13458</td>\n",
       "    </tr>\n",
       "    <tr>\n",
       "      <td>11354</td>\n",
       "      <td>:   The AMBER Alert system has been discontinu...</td>\n",
       "      <td></td>\n",
       "      <td>2013-10-13</td>\n",
       "      <td>0</td>\n",
       "      <td>[103978, 121475, 121849]</td>\n",
       "      <td>12504</td>\n",
       "    </tr>\n",
       "    <tr>\n",
       "      <td>...</td>\n",
       "      <td>...</td>\n",
       "      <td>...</td>\n",
       "      <td>...</td>\n",
       "      <td>...</td>\n",
       "      <td>...</td>\n",
       "      <td>...</td>\n",
       "    </tr>\n",
       "    <tr>\n",
       "      <td>2910</td>\n",
       "      <td>Health insurance costs for Floridians are up 3...</td>\n",
       "      <td>Republican Party of Florida</td>\n",
       "      <td>2014-09-23</td>\n",
       "      <td>1</td>\n",
       "      <td>[9581, 89571, 7836, 7945, 7949, 77360, 83491, ...</td>\n",
       "      <td>3208</td>\n",
       "    </tr>\n",
       "    <tr>\n",
       "      <td>6096</td>\n",
       "      <td>A photograph captures Harriet Tubman as a \"Gun...</td>\n",
       "      <td></td>\n",
       "      <td>2019-03-25</td>\n",
       "      <td>0</td>\n",
       "      <td>[125108, 125968, 126005]</td>\n",
       "      <td>6701</td>\n",
       "    </tr>\n",
       "    <tr>\n",
       "      <td>10446</td>\n",
       "      <td>ISIS leader Abu Bakr al Baghdadi was \"released...</td>\n",
       "      <td>Jeanine  Pirro</td>\n",
       "      <td>2014-06-14</td>\n",
       "      <td>0</td>\n",
       "      <td>[80115, 93998, 5968, 175, 91475, 8710, 89881, ...</td>\n",
       "      <td>11514</td>\n",
       "    </tr>\n",
       "    <tr>\n",
       "      <td>5414</td>\n",
       "      <td>\"The board of a nonprofit organization on whic...</td>\n",
       "      <td>Tennessee Republican Party</td>\n",
       "      <td>2008-02-25</td>\n",
       "      <td>1</td>\n",
       "      <td>[96453, 71123, 61, 69968, 96477]</td>\n",
       "      <td>5966</td>\n",
       "    </tr>\n",
       "    <tr>\n",
       "      <td>6657</td>\n",
       "      <td>Japan announced plans to dump 920,000 tons of ...</td>\n",
       "      <td></td>\n",
       "      <td>2017-08-22</td>\n",
       "      <td>1</td>\n",
       "      <td>[120293, 132262]</td>\n",
       "      <td>7328</td>\n",
       "    </tr>\n",
       "  </tbody>\n",
       "</table>\n",
       "<p>12444 rows × 6 columns</p>\n",
       "</div>"
      ],
      "text/plain": [
       "                                                   claim  \\\n",
       "9389   While arguing over President Reagan’s 1981 tax...   \n",
       "1861   Recently Rick Scott \"closed 30 women’s health ...   \n",
       "11035  Says Target installed urinals in a women’s bat...   \n",
       "12221  Says \"combined doses of vaccines\" have never b...   \n",
       "11354  :   The AMBER Alert system has been discontinu...   \n",
       "...                                                  ...   \n",
       "2910   Health insurance costs for Floridians are up 3...   \n",
       "6096   A photograph captures Harriet Tubman as a \"Gun...   \n",
       "10446  ISIS leader Abu Bakr al Baghdadi was \"released...   \n",
       "5414   \"The board of a nonprofit organization on whic...   \n",
       "6657   Japan announced plans to dump 920,000 tons of ...   \n",
       "\n",
       "                          claimant        date  label  \\\n",
       "9389                 Sarah Sanders  2017-10-31      1   \n",
       "1861                  Lois Frankel  2014-09-12      0   \n",
       "11035               Facebook posts  2016-04-22      0   \n",
       "12221               Facebook posts  2019-04-15      0   \n",
       "11354                               2013-10-13      0   \n",
       "...                            ...         ...    ...   \n",
       "2910   Republican Party of Florida  2014-09-23      1   \n",
       "6096                                2019-03-25      0   \n",
       "10446               Jeanine  Pirro  2014-06-14      0   \n",
       "5414    Tennessee Republican Party  2008-02-25      1   \n",
       "6657                                2017-08-22      1   \n",
       "\n",
       "                                        related_articles     id  \n",
       "9389          [34218, 55700, 18736, 39031, 34219, 34220]  10354  \n",
       "1861   [73190, 76997, 38841, 77415, 77303, 9280, 8332...   2053  \n",
       "11035                                      [9619, 22197]  12160  \n",
       "12221         [57163, 31528, 40908, 31536, 68904, 44601]  13458  \n",
       "11354                           [103978, 121475, 121849]  12504  \n",
       "...                                                  ...    ...  \n",
       "2910   [9581, 89571, 7836, 7945, 7949, 77360, 83491, ...   3208  \n",
       "6096                            [125108, 125968, 126005]   6701  \n",
       "10446  [80115, 93998, 5968, 175, 91475, 8710, 89881, ...  11514  \n",
       "5414                    [96453, 71123, 61, 69968, 96477]   5966  \n",
       "6657                                    [120293, 132262]   7328  \n",
       "\n",
       "[12444 rows x 6 columns]"
      ]
     },
     "execution_count": 2,
     "metadata": {},
     "output_type": "execute_result"
    }
   ],
   "source": [
    "train_set = pd.read_pickle('train_set.pkl')\n",
    "train_set"
   ]
  },
  {
   "cell_type": "markdown",
   "metadata": {},
   "source": [
    "# Load test data"
   ]
  },
  {
   "cell_type": "code",
   "execution_count": 3,
   "metadata": {},
   "outputs": [],
   "source": [
    "test_set = pd.read_pickle('test_set.pkl')"
   ]
  },
  {
   "cell_type": "markdown",
   "metadata": {},
   "source": [
    "# Combine claim and claimant"
   ]
  },
  {
   "cell_type": "code",
   "execution_count": 4,
   "metadata": {},
   "outputs": [],
   "source": [
    "train_set[\"combined\"] = train_set[\"claim\"].map(str) + ' ' + train_set[\"claimant\"]"
   ]
  },
  {
   "cell_type": "code",
   "execution_count": 5,
   "metadata": {},
   "outputs": [
    {
     "data": {
      "text/html": [
       "<div>\n",
       "<style scoped>\n",
       "    .dataframe tbody tr th:only-of-type {\n",
       "        vertical-align: middle;\n",
       "    }\n",
       "\n",
       "    .dataframe tbody tr th {\n",
       "        vertical-align: top;\n",
       "    }\n",
       "\n",
       "    .dataframe thead th {\n",
       "        text-align: right;\n",
       "    }\n",
       "</style>\n",
       "<table border=\"1\" class=\"dataframe\">\n",
       "  <thead>\n",
       "    <tr style=\"text-align: right;\">\n",
       "      <th></th>\n",
       "      <th>combined</th>\n",
       "      <th>label</th>\n",
       "    </tr>\n",
       "  </thead>\n",
       "  <tbody>\n",
       "    <tr>\n",
       "      <td>9389</td>\n",
       "      <td>While arguing over President Reagan’s 1981 tax...</td>\n",
       "      <td>1</td>\n",
       "    </tr>\n",
       "    <tr>\n",
       "      <td>1861</td>\n",
       "      <td>Recently Rick Scott \"closed 30 women’s health ...</td>\n",
       "      <td>0</td>\n",
       "    </tr>\n",
       "    <tr>\n",
       "      <td>11035</td>\n",
       "      <td>Says Target installed urinals in a women’s bat...</td>\n",
       "      <td>0</td>\n",
       "    </tr>\n",
       "    <tr>\n",
       "      <td>12221</td>\n",
       "      <td>Says \"combined doses of vaccines\" have never b...</td>\n",
       "      <td>0</td>\n",
       "    </tr>\n",
       "    <tr>\n",
       "      <td>11354</td>\n",
       "      <td>:   The AMBER Alert system has been discontinu...</td>\n",
       "      <td>0</td>\n",
       "    </tr>\n",
       "    <tr>\n",
       "      <td>...</td>\n",
       "      <td>...</td>\n",
       "      <td>...</td>\n",
       "    </tr>\n",
       "    <tr>\n",
       "      <td>2910</td>\n",
       "      <td>Health insurance costs for Floridians are up 3...</td>\n",
       "      <td>1</td>\n",
       "    </tr>\n",
       "    <tr>\n",
       "      <td>6096</td>\n",
       "      <td>A photograph captures Harriet Tubman as a \"Gun...</td>\n",
       "      <td>0</td>\n",
       "    </tr>\n",
       "    <tr>\n",
       "      <td>10446</td>\n",
       "      <td>ISIS leader Abu Bakr al Baghdadi was \"released...</td>\n",
       "      <td>0</td>\n",
       "    </tr>\n",
       "    <tr>\n",
       "      <td>5414</td>\n",
       "      <td>\"The board of a nonprofit organization on whic...</td>\n",
       "      <td>1</td>\n",
       "    </tr>\n",
       "    <tr>\n",
       "      <td>6657</td>\n",
       "      <td>Japan announced plans to dump 920,000 tons of ...</td>\n",
       "      <td>1</td>\n",
       "    </tr>\n",
       "  </tbody>\n",
       "</table>\n",
       "<p>12444 rows × 2 columns</p>\n",
       "</div>"
      ],
      "text/plain": [
       "                                                combined  label\n",
       "9389   While arguing over President Reagan’s 1981 tax...      1\n",
       "1861   Recently Rick Scott \"closed 30 women’s health ...      0\n",
       "11035  Says Target installed urinals in a women’s bat...      0\n",
       "12221  Says \"combined doses of vaccines\" have never b...      0\n",
       "11354  :   The AMBER Alert system has been discontinu...      0\n",
       "...                                                  ...    ...\n",
       "2910   Health insurance costs for Floridians are up 3...      1\n",
       "6096   A photograph captures Harriet Tubman as a \"Gun...      0\n",
       "10446  ISIS leader Abu Bakr al Baghdadi was \"released...      0\n",
       "5414   \"The board of a nonprofit organization on whic...      1\n",
       "6657   Japan announced plans to dump 920,000 tons of ...      1\n",
       "\n",
       "[12444 rows x 2 columns]"
      ]
     },
     "execution_count": 5,
     "metadata": {},
     "output_type": "execute_result"
    }
   ],
   "source": [
    "df = pd.DataFrame(train_set, columns=['combined', 'label'])\n",
    "df"
   ]
  },
  {
   "cell_type": "code",
   "execution_count": 6,
   "metadata": {},
   "outputs": [
    {
     "data": {
      "text/plain": [
       "'Says Target installed urinals in a women’s bathroom to \"accommodate the ones who have giblets.\" Facebook posts'"
      ]
     },
     "execution_count": 6,
     "metadata": {},
     "output_type": "execute_result"
    }
   ],
   "source": [
    "df.iloc[2,0]"
   ]
  },
  {
   "cell_type": "markdown",
   "metadata": {},
   "source": [
    "# Train model"
   ]
  },
  {
   "cell_type": "code",
   "execution_count": 7,
   "metadata": {},
   "outputs": [
    {
     "name": "stderr",
     "output_type": "stream",
     "text": [
      "/home/alice/projects/fake-news-ai/venv/lib/python3.6/site-packages/sklearn/utils/deprecation.py:144: FutureWarning: The sklearn.neighbors.base module is  deprecated in version 0.22 and will be removed in version 0.24. The corresponding classes / functions should instead be imported from sklearn.neighbors. Anything that cannot be imported from sklearn.neighbors is now part of the private API.\n",
      "  warnings.warn(message, FutureWarning)\n",
      "/home/alice/projects/fake-news-ai/venv/lib/python3.6/site-packages/sklearn/utils/deprecation.py:144: FutureWarning: The sklearn.ensemble.bagging module is  deprecated in version 0.22 and will be removed in version 0.24. The corresponding classes / functions should instead be imported from sklearn.ensemble. Anything that cannot be imported from sklearn.ensemble is now part of the private API.\n",
      "  warnings.warn(message, FutureWarning)\n",
      "/home/alice/projects/fake-news-ai/venv/lib/python3.6/site-packages/sklearn/utils/deprecation.py:144: FutureWarning: The sklearn.ensemble.base module is  deprecated in version 0.22 and will be removed in version 0.24. The corresponding classes / functions should instead be imported from sklearn.ensemble. Anything that cannot be imported from sklearn.ensemble is now part of the private API.\n",
      "  warnings.warn(message, FutureWarning)\n",
      "/home/alice/projects/fake-news-ai/venv/lib/python3.6/site-packages/sklearn/utils/deprecation.py:144: FutureWarning: The sklearn.ensemble.forest module is  deprecated in version 0.22 and will be removed in version 0.24. The corresponding classes / functions should instead be imported from sklearn.ensemble. Anything that cannot be imported from sklearn.ensemble is now part of the private API.\n",
      "  warnings.warn(message, FutureWarning)\n",
      "Using TensorFlow backend.\n",
      "/home/alice/projects/fake-news-ai/venv/lib/python3.6/site-packages/sklearn/utils/deprecation.py:144: FutureWarning: The sklearn.utils.testing module is  deprecated in version 0.22 and will be removed in version 0.24. The corresponding classes / functions should instead be imported from sklearn.utils. Anything that cannot be imported from sklearn.utils is now part of the private API.\n",
      "  warnings.warn(message, FutureWarning)\n",
      "/home/alice/projects/fake-news-ai/venv/lib/python3.6/site-packages/sklearn/utils/deprecation.py:144: FutureWarning: The sklearn.metrics.classification module is  deprecated in version 0.22 and will be removed in version 0.24. The corresponding classes / functions should instead be imported from sklearn.metrics. Anything that cannot be imported from sklearn.metrics is now part of the private API.\n",
      "  warnings.warn(message, FutureWarning)\n"
     ]
    }
   ],
   "source": [
    "import sklearn\n",
    "from sklearn.metrics import accuracy_score, f1_score, confusion_matrix, plot_confusion_matrix\n",
    "from sklearn.feature_extraction.text import CountVectorizer, TfidfVectorizer\n",
    "from sklearn.naive_bayes import MultinomialNB\n",
    "from sklearn.svm import LinearSVC\n",
    "from sklearn.ensemble import BaggingClassifier, ExtraTreesClassifier, RandomForestClassifier\n",
    "from sklearn.neighbors import KNeighborsClassifier\n",
    "from sklearn.linear_model import RidgeClassifier\n",
    "from sklearn.model_selection import cross_val_score\n",
    "from sklearn.pipeline import make_pipeline\n",
    "from imblearn.pipeline import Pipeline\n",
    "\n",
    "import matplotlib.pyplot as plt\n",
    "import seaborn as sns\n",
    "\n",
    "from imblearn.over_sampling import SMOTE"
   ]
  },
  {
   "cell_type": "code",
   "execution_count": 8,
   "metadata": {},
   "outputs": [],
   "source": [
    "X_train = df.combined\n",
    "y_train = df.label\n",
    "X_test = test_set.claim\n",
    "y_test = test_set.label"
   ]
  },
  {
   "cell_type": "code",
   "execution_count": 9,
   "metadata": {},
   "outputs": [],
   "source": [
    "sm = SMOTE()\n",
    "cv = CountVectorizer()\n",
    "tf = TfidfVectorizer()"
   ]
  },
  {
   "cell_type": "code",
   "execution_count": 10,
   "metadata": {},
   "outputs": [],
   "source": [
    "# Create classifiers\n",
    "nb = MultinomialNB()\n",
    "rf = RandomForestClassifier()\n",
    "et = ExtraTreesClassifier()\n",
    "knn = KNeighborsClassifier()\n",
    "svc = LinearSVC()\n",
    "rg = RidgeClassifier()"
   ]
  },
  {
   "cell_type": "code",
   "execution_count": 11,
   "metadata": {},
   "outputs": [],
   "source": [
    "pipeline1 = Pipeline([('cv', cv), ('nb', nb)])"
   ]
  },
  {
   "cell_type": "code",
   "execution_count": 12,
   "metadata": {},
   "outputs": [
    {
     "data": {
      "text/plain": [
       "Pipeline(memory=None,\n",
       "         steps=[('cv',\n",
       "                 CountVectorizer(analyzer='word', binary=False,\n",
       "                                 decode_error='strict',\n",
       "                                 dtype=<class 'numpy.int64'>, encoding='utf-8',\n",
       "                                 input='content', lowercase=True, max_df=1.0,\n",
       "                                 max_features=None, min_df=1,\n",
       "                                 ngram_range=(1, 1), preprocessor=None,\n",
       "                                 stop_words=None, strip_accents=None,\n",
       "                                 token_pattern='(?u)\\\\b\\\\w\\\\w+\\\\b',\n",
       "                                 tokenizer=None, vocabulary=None)),\n",
       "                ('nb',\n",
       "                 MultinomialNB(alpha=1.0, class_prior=None, fit_prior=True))],\n",
       "         verbose=False)"
      ]
     },
     "execution_count": 12,
     "metadata": {},
     "output_type": "execute_result"
    }
   ],
   "source": [
    "pipeline1.fit(X_train, y_train)"
   ]
  },
  {
   "cell_type": "code",
   "execution_count": 13,
   "metadata": {},
   "outputs": [],
   "source": [
    "y_pred = pipeline1.predict(X_test)"
   ]
  },
  {
   "cell_type": "code",
   "execution_count": 14,
   "metadata": {},
   "outputs": [
    {
     "name": "stdout",
     "output_type": "stream",
     "text": [
      "Accuracy: 59.56%\n",
      "\n",
      "F1 Score: 0.430846\n",
      "\n",
      "Confusion Matrix:\n",
      " [[910 532  12]\n",
      " [388 937   9]\n",
      " [131 186   6]]\n"
     ]
    }
   ],
   "source": [
    "print(\"Accuracy: {:.2f}%\".format(accuracy_score(y_test, y_pred) * 100))\n",
    "print(\"\\nF1 Score: {:.6f}\".format(f1_score(y_test, y_pred, average='macro')))\n",
    "print(\"\\nConfusion Matrix:\\n\", confusion_matrix(y_test, y_pred))"
   ]
  },
  {
   "cell_type": "code",
   "execution_count": 15,
   "metadata": {},
   "outputs": [
    {
     "name": "stdout",
     "output_type": "stream",
     "text": [
      "Normalized Confusion Matrix\n",
      "[[0.29251045 0.17100611 0.00385728]\n",
      " [0.12471874 0.30118933 0.00289296]\n",
      " [0.04210865 0.05978785 0.00192864]]\n"
     ]
    },
    {
     "data": {
      "image/png": "[encoded data removed]",
      "text/plain": [
       "<Figure size 432x288 with 2 Axes>"
      ]
     },
     "metadata": {
      "needs_background": "light"
     },
     "output_type": "display_data"
    }
   ],
   "source": [
    "title = \"Normalized Confusion Matrix\"\n",
    "disp = plot_confusion_matrix(pipeline1, X_test, y_test, \n",
    "                             display_labels=['false', 'partly', 'true'], \n",
    "                             cmap=plt.cm.Blues, \n",
    "                             normalize='all')\n",
    "disp.ax_.set_title(title)\n",
    "print(title)\n",
    "print(disp.confusion_matrix)"
   ]
  },
  {
   "cell_type": "code",
   "execution_count": 16,
   "metadata": {},
   "outputs": [],
   "source": [
    "# with open(\"../models/combined_claim_claimant_oversampled.pkl\", 'wb') as f:\n",
    "#     pickle.dump(pipeline, f)"
   ]
  },
  {
   "cell_type": "code",
   "execution_count": 17,
   "metadata": {},
   "outputs": [],
   "source": [
    "pipeline2 = Pipeline([('cv', cv), ('sm', sm), ('nb', nb)])"
   ]
  },
  {
   "cell_type": "code",
   "execution_count": 18,
   "metadata": {},
   "outputs": [
    {
     "name": "stderr",
     "output_type": "stream",
     "text": [
      "/home/alice/projects/fake-news-ai/venv/lib/python3.6/site-packages/sklearn/utils/deprecation.py:87: FutureWarning: Function safe_indexing is deprecated; safe_indexing is deprecated in version 0.22 and will be removed in version 0.24.\n",
      "  warnings.warn(msg, category=FutureWarning)\n"
     ]
    },
    {
     "data": {
      "text/plain": [
       "Pipeline(memory=None,\n",
       "         steps=[('cv',\n",
       "                 CountVectorizer(analyzer='word', binary=False,\n",
       "                                 decode_error='strict',\n",
       "                                 dtype=<class 'numpy.int64'>, encoding='utf-8',\n",
       "                                 input='content', lowercase=True, max_df=1.0,\n",
       "                                 max_features=None, min_df=1,\n",
       "                                 ngram_range=(1, 1), preprocessor=None,\n",
       "                                 stop_words=None, strip_accents=None,\n",
       "                                 token_pattern='(?u)\\\\b\\\\w\\\\w+\\\\b',\n",
       "                                 tokenizer=None, vocabulary=None)),\n",
       "                ('sm',\n",
       "                 SMOTE(k_neighbors=5, kind='deprecated',\n",
       "                       m_neighbors='deprecated', n_jobs=1,\n",
       "                       out_step='deprecated', random_state=None, ratio=None,\n",
       "                       sampling_strategy='auto', svm_estimator='deprecated')),\n",
       "                ('nb',\n",
       "                 MultinomialNB(alpha=1.0, class_prior=None, fit_prior=True))],\n",
       "         verbose=False)"
      ]
     },
     "execution_count": 18,
     "metadata": {},
     "output_type": "execute_result"
    }
   ],
   "source": [
    "pipeline2.fit(X_train, y_train)"
   ]
  },
  {
   "cell_type": "code",
   "execution_count": 19,
   "metadata": {},
   "outputs": [],
   "source": [
    "y_pred = pipeline2.predict(X_test)"
   ]
  },
  {
   "cell_type": "code",
   "execution_count": 20,
   "metadata": {},
   "outputs": [
    {
     "name": "stdout",
     "output_type": "stream",
     "text": [
      "Accuracy: 57.67%\n",
      "\n",
      "F1 Score: 0.472123\n",
      "\n",
      "Confusion Matrix:\n",
      " [[822 523 109]\n",
      " [345 920  69]\n",
      " [104 167  52]]\n"
     ]
    }
   ],
   "source": [
    "print(\"Accuracy: {:.2f}%\".format(accuracy_score(y_test, y_pred) * 100))\n",
    "print(\"\\nF1 Score: {:.6f}\".format(f1_score(y_test, y_pred, average='macro')))\n",
    "print(\"\\nConfusion Matrix:\\n\", confusion_matrix(y_test, y_pred))"
   ]
  },
  {
   "cell_type": "code",
   "execution_count": 21,
   "metadata": {},
   "outputs": [
    {
     "name": "stdout",
     "output_type": "stream",
     "text": [
      "Normalized Confusion Matrix\n",
      "[[0.26422372 0.16811315 0.03503697]\n",
      " [0.11089682 0.29572485 0.02217936]\n",
      " [0.03342977 0.05368049 0.01671488]]\n"
     ]
    },
    {
     "data": {
      "image/png": "[encoded data removed]",
      "text/plain": [
       "<Figure size 432x288 with 2 Axes>"
      ]
     },
     "metadata": {
      "needs_background": "light"
     },
     "output_type": "display_data"
    }
   ],
   "source": [
    "title = \"Normalized Confusion Matrix\"\n",
    "disp = plot_confusion_matrix(pipeline1, X_test, y_test, \n",
    "                             display_labels=['false', 'partly', 'true'], \n",
    "                             cmap=plt.cm.Blues,\n",
    "                             normalize='all')\n",
    "disp.ax_.set_title(title)\n",
    "print(title)\n",
    "print(disp.confusion_matrix)"
   ]
  },
  {
   "cell_type": "code",
   "execution_count": null,
   "metadata": {},
   "outputs": [],
   "source": []
  }
 ],
 "metadata": {
  "kernelspec": {
   "display_name": "Python 3",
   "language": "python",
   "name": "python3"
  },
  "language_info": {
   "codemirror_mode": {
    "name": "ipython",
    "version": 3
   },
   "file_extension": ".py",
   "mimetype": "text/x-python",
   "name": "python",
   "nbconvert_exporter": "python",
   "pygments_lexer": "ipython3",
   "version": "3.6.8"
  }
 },
 "nbformat": 4,
 "nbformat_minor": 2
}
