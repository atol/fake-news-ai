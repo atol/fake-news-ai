{
 "cells": [
  {
   "cell_type": "markdown",
   "metadata": {},
   "source": [
    "# Solutions"
   ]
  },
  {
   "cell_type": "code",
   "execution_count": 1,
   "metadata": {},
   "outputs": [],
   "source": [
    "import pandas as pd\n",
    "import json\n",
    "import os\n",
    "\n",
    "METADATA_FILEPATH = '../dataset/metadata.json'\n",
    "SOLUTIONS_FILEPATH = '../answer/solutions.txt'"
   ]
  },
  {
   "cell_type": "code",
   "execution_count": 2,
   "metadata": {},
   "outputs": [],
   "source": [
    "with open(METADATA_FILEPATH, 'r') as f:\n",
    "    claims = json.load(f)"
   ]
  },
  {
   "cell_type": "code",
   "execution_count": 3,
   "metadata": {},
   "outputs": [],
   "source": [
    "claims_df = pd.DataFrame(claims)"
   ]
  },
  {
   "cell_type": "code",
   "execution_count": 4,
   "metadata": {},
   "outputs": [
    {
     "name": "stdout",
     "output_type": "stream",
     "text": [
      "\n",
      "Writing solutions to: ../answer/solutions.txt\n",
      "Finished writing solutions.\n"
     ]
    }
   ],
   "source": [
    "print('\\nWriting solutions to:', SOLUTIONS_FILEPATH)\n",
    "with open(SOLUTIONS_FILEPATH, 'w') as f:\n",
    "    for index, row in claims_df.iterrows():\n",
    "        f.write('%d,%d\\n' % (row['id'], row['label']) )\n",
    "print('Finished writing solutions.')"
   ]
  }
 ],
 "metadata": {
  "kernelspec": {
   "display_name": "Python 3",
   "language": "python",
   "name": "python3"
  },
  "language_info": {
   "codemirror_mode": {
    "name": "ipython",
    "version": 3
   },
   "file_extension": ".py",
   "mimetype": "text/x-python",
   "name": "python",
   "nbconvert_exporter": "python",
   "pygments_lexer": "ipython3",
   "version": "3.6.8"
  }
 },
 "nbformat": 4,
 "nbformat_minor": 2
}
