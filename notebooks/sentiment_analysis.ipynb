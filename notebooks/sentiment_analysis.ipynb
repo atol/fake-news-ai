{
 "cells": [
  {
   "cell_type": "markdown",
   "metadata": {},
   "source": [
    "# Set up"
   ]
  },
  {
   "cell_type": "code",
   "execution_count": 1,
   "metadata": {},
   "outputs": [],
   "source": [
    "import pandas as pd\n",
    "import numpy as np\n",
    "import json\n",
    "import pickle"
   ]
  },
  {
   "cell_type": "markdown",
   "metadata": {},
   "source": [
    "# Load training data"
   ]
  },
  {
   "cell_type": "code",
   "execution_count": 2,
   "metadata": {},
   "outputs": [],
   "source": [
    "df = pd.read_pickle('train_set.pkl')"
   ]
  },
  {
   "cell_type": "markdown",
   "metadata": {},
   "source": [
    "# Sentiment Analysis"
   ]
  },
  {
   "cell_type": "markdown",
   "metadata": {},
   "source": [
    "## TextBlob"
   ]
  },
  {
   "cell_type": "code",
   "execution_count": 3,
   "metadata": {},
   "outputs": [],
   "source": [
    "from textblob import TextBlob"
   ]
  },
  {
   "cell_type": "code",
   "execution_count": 4,
   "metadata": {},
   "outputs": [
    {
     "data": {
      "text/html": [
       "<div>\n",
       "<style scoped>\n",
       "    .dataframe tbody tr th:only-of-type {\n",
       "        vertical-align: middle;\n",
       "    }\n",
       "\n",
       "    .dataframe tbody tr th {\n",
       "        vertical-align: top;\n",
       "    }\n",
       "\n",
       "    .dataframe thead th {\n",
       "        text-align: right;\n",
       "    }\n",
       "</style>\n",
       "<table border=\"1\" class=\"dataframe\">\n",
       "  <thead>\n",
       "    <tr style=\"text-align: right;\">\n",
       "      <th></th>\n",
       "      <th>claim</th>\n",
       "      <th>label</th>\n",
       "    </tr>\n",
       "  </thead>\n",
       "  <tbody>\n",
       "    <tr>\n",
       "      <td>9389</td>\n",
       "      <td>While arguing over President Reagan’s 1981 tax...</td>\n",
       "      <td>1</td>\n",
       "    </tr>\n",
       "    <tr>\n",
       "      <td>1861</td>\n",
       "      <td>Recently Rick Scott \"closed 30 women’s health ...</td>\n",
       "      <td>0</td>\n",
       "    </tr>\n",
       "    <tr>\n",
       "      <td>11035</td>\n",
       "      <td>Says Target installed urinals in a women’s bat...</td>\n",
       "      <td>0</td>\n",
       "    </tr>\n",
       "    <tr>\n",
       "      <td>12221</td>\n",
       "      <td>Says \"combined doses of vaccines\" have never b...</td>\n",
       "      <td>0</td>\n",
       "    </tr>\n",
       "    <tr>\n",
       "      <td>11354</td>\n",
       "      <td>:   The AMBER Alert system has been discontinu...</td>\n",
       "      <td>0</td>\n",
       "    </tr>\n",
       "    <tr>\n",
       "      <td>...</td>\n",
       "      <td>...</td>\n",
       "      <td>...</td>\n",
       "    </tr>\n",
       "    <tr>\n",
       "      <td>2910</td>\n",
       "      <td>Health insurance costs for Floridians are up 3...</td>\n",
       "      <td>1</td>\n",
       "    </tr>\n",
       "    <tr>\n",
       "      <td>6096</td>\n",
       "      <td>A photograph captures Harriet Tubman as a \"Gun...</td>\n",
       "      <td>0</td>\n",
       "    </tr>\n",
       "    <tr>\n",
       "      <td>10446</td>\n",
       "      <td>ISIS leader Abu Bakr al Baghdadi was \"released...</td>\n",
       "      <td>0</td>\n",
       "    </tr>\n",
       "    <tr>\n",
       "      <td>5414</td>\n",
       "      <td>\"The board of a nonprofit organization on whic...</td>\n",
       "      <td>1</td>\n",
       "    </tr>\n",
       "    <tr>\n",
       "      <td>6657</td>\n",
       "      <td>Japan announced plans to dump 920,000 tons of ...</td>\n",
       "      <td>1</td>\n",
       "    </tr>\n",
       "  </tbody>\n",
       "</table>\n",
       "<p>12444 rows × 2 columns</p>\n",
       "</div>"
      ],
      "text/plain": [
       "                                                   claim  label\n",
       "9389   While arguing over President Reagan’s 1981 tax...      1\n",
       "1861   Recently Rick Scott \"closed 30 women’s health ...      0\n",
       "11035  Says Target installed urinals in a women’s bat...      0\n",
       "12221  Says \"combined doses of vaccines\" have never b...      0\n",
       "11354  :   The AMBER Alert system has been discontinu...      0\n",
       "...                                                  ...    ...\n",
       "2910   Health insurance costs for Floridians are up 3...      1\n",
       "6096   A photograph captures Harriet Tubman as a \"Gun...      0\n",
       "10446  ISIS leader Abu Bakr al Baghdadi was \"released...      0\n",
       "5414   \"The board of a nonprofit organization on whic...      1\n",
       "6657   Japan announced plans to dump 920,000 tons of ...      1\n",
       "\n",
       "[12444 rows x 2 columns]"
      ]
     },
     "execution_count": 4,
     "metadata": {},
     "output_type": "execute_result"
    }
   ],
   "source": [
    "tb_claims = pd.DataFrame(df, columns=['claim', 'label'])\n",
    "tb_claims"
   ]
  },
  {
   "cell_type": "code",
   "execution_count": 5,
   "metadata": {},
   "outputs": [],
   "source": [
    "for index, row in tb_claims.iterrows():\n",
    "    claim = TextBlob(row['claim'])\n",
    "    tb_claims.at[index,'subjectivity'] = claim.sentiment.subjectivity\n",
    "    tb_claims.at[index,'polarity'] = claim.sentiment.polarity"
   ]
  },
  {
   "cell_type": "code",
   "execution_count": 6,
   "metadata": {
    "scrolled": true
   },
   "outputs": [
    {
     "data": {
      "text/html": [
       "<div>\n",
       "<style scoped>\n",
       "    .dataframe tbody tr th:only-of-type {\n",
       "        vertical-align: middle;\n",
       "    }\n",
       "\n",
       "    .dataframe tbody tr th {\n",
       "        vertical-align: top;\n",
       "    }\n",
       "\n",
       "    .dataframe thead th {\n",
       "        text-align: right;\n",
       "    }\n",
       "</style>\n",
       "<table border=\"1\" class=\"dataframe\">\n",
       "  <thead>\n",
       "    <tr style=\"text-align: right;\">\n",
       "      <th></th>\n",
       "      <th>claim</th>\n",
       "      <th>label</th>\n",
       "      <th>subjectivity</th>\n",
       "      <th>polarity</th>\n",
       "    </tr>\n",
       "  </thead>\n",
       "  <tbody>\n",
       "    <tr>\n",
       "      <td>9389</td>\n",
       "      <td>While arguing over President Reagan’s 1981 tax...</td>\n",
       "      <td>1</td>\n",
       "      <td>0.525568</td>\n",
       "      <td>0.23267</td>\n",
       "    </tr>\n",
       "    <tr>\n",
       "      <td>1861</td>\n",
       "      <td>Recently Rick Scott \"closed 30 women’s health ...</td>\n",
       "      <td>0</td>\n",
       "      <td>0.175000</td>\n",
       "      <td>-0.05000</td>\n",
       "    </tr>\n",
       "    <tr>\n",
       "      <td>11035</td>\n",
       "      <td>Says Target installed urinals in a women’s bat...</td>\n",
       "      <td>0</td>\n",
       "      <td>0.000000</td>\n",
       "      <td>0.00000</td>\n",
       "    </tr>\n",
       "    <tr>\n",
       "      <td>12221</td>\n",
       "      <td>Says \"combined doses of vaccines\" have never b...</td>\n",
       "      <td>0</td>\n",
       "      <td>0.000000</td>\n",
       "      <td>0.00000</td>\n",
       "    </tr>\n",
       "    <tr>\n",
       "      <td>11354</td>\n",
       "      <td>:   The AMBER Alert system has been discontinu...</td>\n",
       "      <td>0</td>\n",
       "      <td>0.375000</td>\n",
       "      <td>-0.12500</td>\n",
       "    </tr>\n",
       "    <tr>\n",
       "      <td>...</td>\n",
       "      <td>...</td>\n",
       "      <td>...</td>\n",
       "      <td>...</td>\n",
       "      <td>...</td>\n",
       "    </tr>\n",
       "    <tr>\n",
       "      <td>2910</td>\n",
       "      <td>Health insurance costs for Floridians are up 3...</td>\n",
       "      <td>1</td>\n",
       "      <td>0.500000</td>\n",
       "      <td>0.50000</td>\n",
       "    </tr>\n",
       "    <tr>\n",
       "      <td>6096</td>\n",
       "      <td>A photograph captures Harriet Tubman as a \"Gun...</td>\n",
       "      <td>0</td>\n",
       "      <td>0.000000</td>\n",
       "      <td>0.00000</td>\n",
       "    </tr>\n",
       "    <tr>\n",
       "      <td>10446</td>\n",
       "      <td>ISIS leader Abu Bakr al Baghdadi was \"released...</td>\n",
       "      <td>0</td>\n",
       "      <td>0.000000</td>\n",
       "      <td>0.00000</td>\n",
       "    </tr>\n",
       "    <tr>\n",
       "      <td>5414</td>\n",
       "      <td>\"The board of a nonprofit organization on whic...</td>\n",
       "      <td>1</td>\n",
       "      <td>0.950000</td>\n",
       "      <td>0.55000</td>\n",
       "    </tr>\n",
       "    <tr>\n",
       "      <td>6657</td>\n",
       "      <td>Japan announced plans to dump 920,000 tons of ...</td>\n",
       "      <td>1</td>\n",
       "      <td>0.000000</td>\n",
       "      <td>-0.20000</td>\n",
       "    </tr>\n",
       "  </tbody>\n",
       "</table>\n",
       "<p>12444 rows × 4 columns</p>\n",
       "</div>"
      ],
      "text/plain": [
       "                                                   claim  label  subjectivity  \\\n",
       "9389   While arguing over President Reagan’s 1981 tax...      1      0.525568   \n",
       "1861   Recently Rick Scott \"closed 30 women’s health ...      0      0.175000   \n",
       "11035  Says Target installed urinals in a women’s bat...      0      0.000000   \n",
       "12221  Says \"combined doses of vaccines\" have never b...      0      0.000000   \n",
       "11354  :   The AMBER Alert system has been discontinu...      0      0.375000   \n",
       "...                                                  ...    ...           ...   \n",
       "2910   Health insurance costs for Floridians are up 3...      1      0.500000   \n",
       "6096   A photograph captures Harriet Tubman as a \"Gun...      0      0.000000   \n",
       "10446  ISIS leader Abu Bakr al Baghdadi was \"released...      0      0.000000   \n",
       "5414   \"The board of a nonprofit organization on whic...      1      0.950000   \n",
       "6657   Japan announced plans to dump 920,000 tons of ...      1      0.000000   \n",
       "\n",
       "       polarity  \n",
       "9389    0.23267  \n",
       "1861   -0.05000  \n",
       "11035   0.00000  \n",
       "12221   0.00000  \n",
       "11354  -0.12500  \n",
       "...         ...  \n",
       "2910    0.50000  \n",
       "6096    0.00000  \n",
       "10446   0.00000  \n",
       "5414    0.55000  \n",
       "6657   -0.20000  \n",
       "\n",
       "[12444 rows x 4 columns]"
      ]
     },
     "execution_count": 6,
     "metadata": {},
     "output_type": "execute_result"
    }
   ],
   "source": [
    "tb_claims"
   ]
  },
  {
   "cell_type": "code",
   "execution_count": 7,
   "metadata": {},
   "outputs": [],
   "source": [
    "tb_false = tb_claims.loc[df['label'] == 0]\n",
    "tb_partly = tb_claims.loc[df['label'] == 1]\n",
    "tb_true = tb_claims.loc[df['label'] == 2]"
   ]
  },
  {
   "cell_type": "code",
   "execution_count": 8,
   "metadata": {},
   "outputs": [],
   "source": [
    "import matplotlib.pyplot as plt\n",
    "%matplotlib inline"
   ]
  },
  {
   "cell_type": "code",
   "execution_count": 9,
   "metadata": {},
   "outputs": [
    {
     "data": {
      "text/plain": [
       "array([[<matplotlib.axes._subplots.AxesSubplot object at 0x7f60f863def0>]],\n",
       "      dtype=object)"
      ]
     },
     "execution_count": 9,
     "metadata": {},
     "output_type": "execute_result"
    },
    {
     "data": {
      "image/png": "[encoded data removed]",
      "text/plain": [
       "<Figure size 432x288 with 1 Axes>"
      ]
     },
     "metadata": {
      "needs_background": "light"
     },
     "output_type": "display_data"
    }
   ],
   "source": [
    "tb_false.hist(column='subjectivity', bins=30)"
   ]
  },
  {
   "cell_type": "code",
   "execution_count": 10,
   "metadata": {},
   "outputs": [
    {
     "data": {
      "text/plain": [
       "array([[<matplotlib.axes._subplots.AxesSubplot object at 0x7f613cf0e5f8>]],\n",
       "      dtype=object)"
      ]
     },
     "execution_count": 10,
     "metadata": {},
     "output_type": "execute_result"
    },
    {
     "data": {
      "image/png": "[encoded data removed]",
      "text/plain": [
       "<Figure size 432x288 with 1 Axes>"
      ]
     },
     "metadata": {
      "needs_background": "light"
     },
     "output_type": "display_data"
    }
   ],
   "source": [
    "tb_partly.hist(column='subjectivity', bins=30)"
   ]
  },
  {
   "cell_type": "code",
   "execution_count": 11,
   "metadata": {},
   "outputs": [
    {
     "data": {
      "text/plain": [
       "array([[<matplotlib.axes._subplots.AxesSubplot object at 0x7f60f86c6978>]],\n",
       "      dtype=object)"
      ]
     },
     "execution_count": 11,
     "metadata": {},
     "output_type": "execute_result"
    },
    {
     "data": {
      "image/png": "[encoded data removed]",
      "text/plain": [
       "<Figure size 432x288 with 1 Axes>"
      ]
     },
     "metadata": {
      "needs_background": "light"
     },
     "output_type": "display_data"
    }
   ],
   "source": [
    "tb_true.hist(column='subjectivity', bins=30)"
   ]
  },
  {
   "cell_type": "code",
   "execution_count": 12,
   "metadata": {},
   "outputs": [
    {
     "data": {
      "text/plain": [
       "array([[<matplotlib.axes._subplots.AxesSubplot object at 0x7f60f86f9cc0>]],\n",
       "      dtype=object)"
      ]
     },
     "execution_count": 12,
     "metadata": {},
     "output_type": "execute_result"
    },
    {
     "data": {
      "image/png": "[encoded data removed]",
      "text/plain": [
       "<Figure size 432x288 with 1 Axes>"
      ]
     },
     "metadata": {
      "needs_background": "light"
     },
     "output_type": "display_data"
    }
   ],
   "source": [
    "tb_false.hist(column='polarity', bins=30)"
   ]
  },
  {
   "cell_type": "code",
   "execution_count": 13,
   "metadata": {},
   "outputs": [
    {
     "data": {
      "text/plain": [
       "array([[<matplotlib.axes._subplots.AxesSubplot object at 0x7f60f8730860>]],\n",
       "      dtype=object)"
      ]
     },
     "execution_count": 13,
     "metadata": {},
     "output_type": "execute_result"
    },
    {
     "data": {
      "image/png": "[encoded data removed]",
      "text/plain": [
       "<Figure size 432x288 with 1 Axes>"
      ]
     },
     "metadata": {
      "needs_background": "light"
     },
     "output_type": "display_data"
    }
   ],
   "source": [
    "tb_partly.hist(column='polarity', bins=30)"
   ]
  },
  {
   "cell_type": "code",
   "execution_count": 14,
   "metadata": {},
   "outputs": [
    {
     "data": {
      "text/plain": [
       "array([[<matplotlib.axes._subplots.AxesSubplot object at 0x7f60f876c198>]],\n",
       "      dtype=object)"
      ]
     },
     "execution_count": 14,
     "metadata": {},
     "output_type": "execute_result"
    },
    {
     "data": {
      "image/png": "[encoded data removed]",
      "text/plain": [
       "<Figure size 432x288 with 1 Axes>"
      ]
     },
     "metadata": {
      "needs_background": "light"
     },
     "output_type": "display_data"
    }
   ],
   "source": [
    "tb_true.hist(column='polarity', bins=30)"
   ]
  },
  {
   "cell_type": "code",
   "execution_count": 15,
   "metadata": {},
   "outputs": [],
   "source": [
    "# Average subjectivity and polarity of claim types\n",
    "false_subj = 0\n",
    "false_polar = 0\n",
    "partly_subj = 0\n",
    "partly_polar = 0\n",
    "true_subj = 0\n",
    "true_polar = 0\n",
    "\n",
    "for index, row in tb_claims.iterrows():\n",
    "    if row['label'] == 0:\n",
    "        false_subj += row['subjectivity']\n",
    "        false_polar += row['polarity']\n",
    "    elif row['label'] == 1:\n",
    "        partly_subj += row['subjectivity']\n",
    "        partly_polar += row['polarity']\n",
    "    elif row['label'] == 2:\n",
    "        true_subj += row['subjectivity']\n",
    "        true_polar += row['polarity']"
   ]
  },
  {
   "cell_type": "code",
   "execution_count": 16,
   "metadata": {},
   "outputs": [
    {
     "name": "stdout",
     "output_type": "stream",
     "text": [
      "Average subjectivity of false claims: 0.129970943051167\n",
      "Average subjectivity of partly true claims: 0.11755432583577513\n",
      "Average subjectivity of true claims: 0.029531266508149773\n",
      "Average polarity of false claims: 0.013572724876736601\n",
      "Average polarity of partly true claims: 0.018835360344570312\n",
      "Average polarity of true claims: 0.005606153922618969\n"
     ]
    }
   ],
   "source": [
    "# Average subjectivity and polarity of claim types\n",
    "\n",
    "N = len(tb_claims)\n",
    "avg_false_subj = false_subj / N\n",
    "avg_false_polar = false_polar / N\n",
    "avg_partly_subj = partly_subj / N\n",
    "avg_partly_polar = partly_polar / N\n",
    "avg_true_subj = true_subj / N\n",
    "avg_true_polar = true_polar / N\n",
    "\n",
    "print('Average subjectivity of false claims:', avg_false_subj)\n",
    "print('Average subjectivity of partly true claims:', avg_partly_subj)\n",
    "print('Average subjectivity of true claims:', avg_true_subj)\n",
    "\n",
    "print('Average polarity of false claims:', avg_false_polar)\n",
    "print('Average polarity of partly true claims:', avg_partly_polar)\n",
    "print('Average polarity of true claims:', avg_true_polar)"
   ]
  },
  {
   "cell_type": "code",
   "execution_count": 17,
   "metadata": {},
   "outputs": [],
   "source": [
    "# Median subjectivity and polarity of claim types\n",
    "med_false_subj = []\n",
    "med_false_polar = []\n",
    "med_partly_subj = []\n",
    "med_partly_polar = []\n",
    "med_true_subj = []\n",
    "med_true_polar = []\n",
    "\n",
    "for index, row in tb_claims.iterrows():\n",
    "    if row['label'] == 0:\n",
    "        med_false_subj.append(row['subjectivity'])\n",
    "        med_false_polar.append(row['polarity'])\n",
    "    elif row['label'] == 1:\n",
    "        med_partly_subj.append(row['subjectivity'])\n",
    "        med_partly_polar.append(row['polarity'])\n",
    "    elif row['label'] == 2:\n",
    "        med_true_subj.append(row['subjectivity'])\n",
    "        med_true_polar.append(row['polarity'])"
   ]
  },
  {
   "cell_type": "code",
   "execution_count": 18,
   "metadata": {},
   "outputs": [],
   "source": [
    "import statistics\n",
    "from statistics import median\n",
    "\n",
    "median_false_subj = median(med_false_subj)\n",
    "median_false_polar = median(med_false_polar)\n",
    "median_partly_subj = median(med_partly_subj)\n",
    "median_partly_polar = median(med_partly_polar)\n",
    "median_true_subj = median(med_true_subj)\n",
    "median_true_polar = median(med_true_polar)"
   ]
  },
  {
   "cell_type": "code",
   "execution_count": 19,
   "metadata": {},
   "outputs": [
    {
     "name": "stdout",
     "output_type": "stream",
     "text": [
      "Median false subjectivity: 0.21666666666666667\n",
      "Median false polarity: 0.0\n",
      "Median partly subjectivity: 0.26458333333333334\n",
      "Median partly polarity: 0.0\n",
      "Median true subjectivity: 0.22727272727272727\n",
      "Median true polarity: 0.0\n"
     ]
    }
   ],
   "source": [
    "print('Median false subjectivity:', median_false_subj)\n",
    "print('Median false polarity:', median_false_polar)\n",
    "print('Median partly subjectivity:', median_partly_subj)\n",
    "print('Median partly polarity:', median_partly_polar)\n",
    "print('Median true subjectivity:', median_true_subj)\n",
    "print('Median true polarity:', median_true_polar)"
   ]
  },
  {
   "cell_type": "code",
   "execution_count": 36,
   "metadata": {},
   "outputs": [],
   "source": [
    "tb_polsub = tb_claims\n",
    "for index, row in tb_polsub.iterrows():\n",
    "    if row['polarity'] == 0 or row['subjectivity'] == 0:\n",
    "        tb_polsub.at[index, 'pol-sub'] = 0\n",
    "    else:\n",
    "        tb_polsub.at[index, 'pol-sub'] = 1 / row['polarity'] * row['subjectivity']"
   ]
  },
  {
   "cell_type": "code",
   "execution_count": 38,
   "metadata": {},
   "outputs": [
    {
     "data": {
      "text/html": [
       "<div>\n",
       "<style scoped>\n",
       "    .dataframe tbody tr th:only-of-type {\n",
       "        vertical-align: middle;\n",
       "    }\n",
       "\n",
       "    .dataframe tbody tr th {\n",
       "        vertical-align: top;\n",
       "    }\n",
       "\n",
       "    .dataframe thead th {\n",
       "        text-align: right;\n",
       "    }\n",
       "</style>\n",
       "<table border=\"1\" class=\"dataframe\">\n",
       "  <thead>\n",
       "    <tr style=\"text-align: right;\">\n",
       "      <th></th>\n",
       "      <th>claim</th>\n",
       "      <th>label</th>\n",
       "      <th>subjectivity</th>\n",
       "      <th>polarity</th>\n",
       "      <th>pol-sub</th>\n",
       "    </tr>\n",
       "  </thead>\n",
       "  <tbody>\n",
       "    <tr>\n",
       "      <td>9389</td>\n",
       "      <td>While arguing over President Reagan’s 1981 tax...</td>\n",
       "      <td>1</td>\n",
       "      <td>0.525568</td>\n",
       "      <td>0.23267</td>\n",
       "      <td>2.258852</td>\n",
       "    </tr>\n",
       "    <tr>\n",
       "      <td>1861</td>\n",
       "      <td>Recently Rick Scott \"closed 30 women’s health ...</td>\n",
       "      <td>0</td>\n",
       "      <td>0.175000</td>\n",
       "      <td>-0.05000</td>\n",
       "      <td>-3.500000</td>\n",
       "    </tr>\n",
       "    <tr>\n",
       "      <td>11035</td>\n",
       "      <td>Says Target installed urinals in a women’s bat...</td>\n",
       "      <td>0</td>\n",
       "      <td>0.000000</td>\n",
       "      <td>0.00000</td>\n",
       "      <td>0.000000</td>\n",
       "    </tr>\n",
       "    <tr>\n",
       "      <td>12221</td>\n",
       "      <td>Says \"combined doses of vaccines\" have never b...</td>\n",
       "      <td>0</td>\n",
       "      <td>0.000000</td>\n",
       "      <td>0.00000</td>\n",
       "      <td>0.000000</td>\n",
       "    </tr>\n",
       "    <tr>\n",
       "      <td>11354</td>\n",
       "      <td>:   The AMBER Alert system has been discontinu...</td>\n",
       "      <td>0</td>\n",
       "      <td>0.375000</td>\n",
       "      <td>-0.12500</td>\n",
       "      <td>-3.000000</td>\n",
       "    </tr>\n",
       "    <tr>\n",
       "      <td>...</td>\n",
       "      <td>...</td>\n",
       "      <td>...</td>\n",
       "      <td>...</td>\n",
       "      <td>...</td>\n",
       "      <td>...</td>\n",
       "    </tr>\n",
       "    <tr>\n",
       "      <td>2910</td>\n",
       "      <td>Health insurance costs for Floridians are up 3...</td>\n",
       "      <td>1</td>\n",
       "      <td>0.500000</td>\n",
       "      <td>0.50000</td>\n",
       "      <td>1.000000</td>\n",
       "    </tr>\n",
       "    <tr>\n",
       "      <td>6096</td>\n",
       "      <td>A photograph captures Harriet Tubman as a \"Gun...</td>\n",
       "      <td>0</td>\n",
       "      <td>0.000000</td>\n",
       "      <td>0.00000</td>\n",
       "      <td>0.000000</td>\n",
       "    </tr>\n",
       "    <tr>\n",
       "      <td>10446</td>\n",
       "      <td>ISIS leader Abu Bakr al Baghdadi was \"released...</td>\n",
       "      <td>0</td>\n",
       "      <td>0.000000</td>\n",
       "      <td>0.00000</td>\n",
       "      <td>0.000000</td>\n",
       "    </tr>\n",
       "    <tr>\n",
       "      <td>5414</td>\n",
       "      <td>\"The board of a nonprofit organization on whic...</td>\n",
       "      <td>1</td>\n",
       "      <td>0.950000</td>\n",
       "      <td>0.55000</td>\n",
       "      <td>1.727273</td>\n",
       "    </tr>\n",
       "    <tr>\n",
       "      <td>6657</td>\n",
       "      <td>Japan announced plans to dump 920,000 tons of ...</td>\n",
       "      <td>1</td>\n",
       "      <td>0.000000</td>\n",
       "      <td>-0.20000</td>\n",
       "      <td>0.000000</td>\n",
       "    </tr>\n",
       "  </tbody>\n",
       "</table>\n",
       "<p>12444 rows × 5 columns</p>\n",
       "</div>"
      ],
      "text/plain": [
       "                                                   claim  label  subjectivity  \\\n",
       "9389   While arguing over President Reagan’s 1981 tax...      1      0.525568   \n",
       "1861   Recently Rick Scott \"closed 30 women’s health ...      0      0.175000   \n",
       "11035  Says Target installed urinals in a women’s bat...      0      0.000000   \n",
       "12221  Says \"combined doses of vaccines\" have never b...      0      0.000000   \n",
       "11354  :   The AMBER Alert system has been discontinu...      0      0.375000   \n",
       "...                                                  ...    ...           ...   \n",
       "2910   Health insurance costs for Floridians are up 3...      1      0.500000   \n",
       "6096   A photograph captures Harriet Tubman as a \"Gun...      0      0.000000   \n",
       "10446  ISIS leader Abu Bakr al Baghdadi was \"released...      0      0.000000   \n",
       "5414   \"The board of a nonprofit organization on whic...      1      0.950000   \n",
       "6657   Japan announced plans to dump 920,000 tons of ...      1      0.000000   \n",
       "\n",
       "       polarity   pol-sub  \n",
       "9389    0.23267  2.258852  \n",
       "1861   -0.05000 -3.500000  \n",
       "11035   0.00000  0.000000  \n",
       "12221   0.00000  0.000000  \n",
       "11354  -0.12500 -3.000000  \n",
       "...         ...       ...  \n",
       "2910    0.50000  1.000000  \n",
       "6096    0.00000  0.000000  \n",
       "10446   0.00000  0.000000  \n",
       "5414    0.55000  1.727273  \n",
       "6657   -0.20000  0.000000  \n",
       "\n",
       "[12444 rows x 5 columns]"
      ]
     },
     "execution_count": 38,
     "metadata": {},
     "output_type": "execute_result"
    }
   ],
   "source": [
    "tb_polsub"
   ]
  },
  {
   "cell_type": "code",
   "execution_count": 43,
   "metadata": {},
   "outputs": [],
   "source": [
    "tb_polsub_false = tb_polsub.loc[tb_polsub['label'] == 0]\n",
    "tb_polsub_partly = tb_polsub.loc[tb_polsub['label'] == 1]\n",
    "tb_polsub_true = tb_polsub.loc[tb_polsub['label'] == 2]"
   ]
  },
  {
   "cell_type": "code",
   "execution_count": 53,
   "metadata": {},
   "outputs": [
    {
     "data": {
      "text/html": [
       "<div>\n",
       "<style scoped>\n",
       "    .dataframe tbody tr th:only-of-type {\n",
       "        vertical-align: middle;\n",
       "    }\n",
       "\n",
       "    .dataframe tbody tr th {\n",
       "        vertical-align: top;\n",
       "    }\n",
       "\n",
       "    .dataframe thead th {\n",
       "        text-align: right;\n",
       "    }\n",
       "</style>\n",
       "<table border=\"1\" class=\"dataframe\">\n",
       "  <thead>\n",
       "    <tr style=\"text-align: right;\">\n",
       "      <th></th>\n",
       "      <th>claim</th>\n",
       "      <th>label</th>\n",
       "      <th>subjectivity</th>\n",
       "      <th>polarity</th>\n",
       "      <th>pol-sub</th>\n",
       "    </tr>\n",
       "  </thead>\n",
       "  <tbody>\n",
       "    <tr>\n",
       "      <td>1861</td>\n",
       "      <td>Recently Rick Scott \"closed 30 women’s health ...</td>\n",
       "      <td>0</td>\n",
       "      <td>0.175000</td>\n",
       "      <td>-0.050000</td>\n",
       "      <td>-3.500000</td>\n",
       "    </tr>\n",
       "    <tr>\n",
       "      <td>11035</td>\n",
       "      <td>Says Target installed urinals in a women’s bat...</td>\n",
       "      <td>0</td>\n",
       "      <td>0.000000</td>\n",
       "      <td>0.000000</td>\n",
       "      <td>0.000000</td>\n",
       "    </tr>\n",
       "    <tr>\n",
       "      <td>12221</td>\n",
       "      <td>Says \"combined doses of vaccines\" have never b...</td>\n",
       "      <td>0</td>\n",
       "      <td>0.000000</td>\n",
       "      <td>0.000000</td>\n",
       "      <td>0.000000</td>\n",
       "    </tr>\n",
       "    <tr>\n",
       "      <td>11354</td>\n",
       "      <td>:   The AMBER Alert system has been discontinu...</td>\n",
       "      <td>0</td>\n",
       "      <td>0.375000</td>\n",
       "      <td>-0.125000</td>\n",
       "      <td>-3.000000</td>\n",
       "    </tr>\n",
       "    <tr>\n",
       "      <td>8662</td>\n",
       "      <td>Judge Gonzalo Curiel \"is giving us very unfair...</td>\n",
       "      <td>0</td>\n",
       "      <td>1.000000</td>\n",
       "      <td>-0.650000</td>\n",
       "      <td>-1.538462</td>\n",
       "    </tr>\n",
       "    <tr>\n",
       "      <td>14307</td>\n",
       "      <td>Continental Airlines CEO Gordon Bethune once p...</td>\n",
       "      <td>0</td>\n",
       "      <td>0.433333</td>\n",
       "      <td>-0.033333</td>\n",
       "      <td>-13.000000</td>\n",
       "    </tr>\n",
       "    <tr>\n",
       "      <td>12687</td>\n",
       "      <td>Says a Washington Post reporter who broke news...</td>\n",
       "      <td>0</td>\n",
       "      <td>0.550000</td>\n",
       "      <td>-0.400000</td>\n",
       "      <td>-1.375000</td>\n",
       "    </tr>\n",
       "    <tr>\n",
       "      <td>9480</td>\n",
       "      <td>Disney animators hid a risqué image in sand du...</td>\n",
       "      <td>0</td>\n",
       "      <td>0.000000</td>\n",
       "      <td>0.000000</td>\n",
       "      <td>0.000000</td>\n",
       "    </tr>\n",
       "    <tr>\n",
       "      <td>13932</td>\n",
       "      <td>“As many already said, certainly, this was the...</td>\n",
       "      <td>0</td>\n",
       "      <td>0.567857</td>\n",
       "      <td>0.395238</td>\n",
       "      <td>1.436747</td>\n",
       "    </tr>\n",
       "    <tr>\n",
       "      <td>14653</td>\n",
       "      <td>A photograph shows U.S. Rep. Alexandria Ocasio...</td>\n",
       "      <td>0</td>\n",
       "      <td>0.000000</td>\n",
       "      <td>0.000000</td>\n",
       "      <td>0.000000</td>\n",
       "    </tr>\n",
       "    <tr>\n",
       "      <td>13137</td>\n",
       "      <td>Repealing Obamacare saves \"our nation more tha...</td>\n",
       "      <td>0</td>\n",
       "      <td>0.500000</td>\n",
       "      <td>0.500000</td>\n",
       "      <td>1.000000</td>\n",
       "    </tr>\n",
       "    <tr>\n",
       "      <td>12083</td>\n",
       "      <td>Facebook posts say this is an \"actual quote\" ...</td>\n",
       "      <td>0</td>\n",
       "      <td>0.100000</td>\n",
       "      <td>0.000000</td>\n",
       "      <td>0.000000</td>\n",
       "    </tr>\n",
       "    <tr>\n",
       "      <td>1581</td>\n",
       "      <td>The Affordable Care Act says that \"at age 76 w...</td>\n",
       "      <td>0</td>\n",
       "      <td>0.500000</td>\n",
       "      <td>0.500000</td>\n",
       "      <td>1.000000</td>\n",
       "    </tr>\n",
       "    <tr>\n",
       "      <td>4063</td>\n",
       "      <td>Donald Trump lamented that the news media are ...</td>\n",
       "      <td>0</td>\n",
       "      <td>0.466667</td>\n",
       "      <td>-0.100000</td>\n",
       "      <td>-4.666667</td>\n",
       "    </tr>\n",
       "    <tr>\n",
       "      <td>5969</td>\n",
       "      <td>I am the only U.S. Senate candidate who spoke ...</td>\n",
       "      <td>0</td>\n",
       "      <td>1.000000</td>\n",
       "      <td>0.000000</td>\n",
       "      <td>0.000000</td>\n",
       "    </tr>\n",
       "    <tr>\n",
       "      <td>547</td>\n",
       "      <td>Video clip captures NFL kicker Shaun Suisham b...</td>\n",
       "      <td>0</td>\n",
       "      <td>0.000000</td>\n",
       "      <td>0.000000</td>\n",
       "      <td>0.000000</td>\n",
       "    </tr>\n",
       "    <tr>\n",
       "      <td>13974</td>\n",
       "      <td>Sen. Kirsten Gillibrand \"no longer supports th...</td>\n",
       "      <td>0</td>\n",
       "      <td>0.000000</td>\n",
       "      <td>0.000000</td>\n",
       "      <td>0.000000</td>\n",
       "    </tr>\n",
       "    <tr>\n",
       "      <td>12938</td>\n",
       "      <td>Snapchat is using its \"Lenses\" photo and video...</td>\n",
       "      <td>0</td>\n",
       "      <td>0.000000</td>\n",
       "      <td>0.000000</td>\n",
       "      <td>0.000000</td>\n",
       "    </tr>\n",
       "    <tr>\n",
       "      <td>7251</td>\n",
       "      <td>The bodies of dozens of black men were found o...</td>\n",
       "      <td>0</td>\n",
       "      <td>0.216667</td>\n",
       "      <td>-0.083333</td>\n",
       "      <td>-2.600000</td>\n",
       "    </tr>\n",
       "    <tr>\n",
       "      <td>3880</td>\n",
       "      <td>A \"majority of our students are trapped in\" un...</td>\n",
       "      <td>0</td>\n",
       "      <td>0.000000</td>\n",
       "      <td>-0.200000</td>\n",
       "      <td>0.000000</td>\n",
       "    </tr>\n",
       "  </tbody>\n",
       "</table>\n",
       "</div>"
      ],
      "text/plain": [
       "                                                   claim  label  subjectivity  \\\n",
       "1861   Recently Rick Scott \"closed 30 women’s health ...      0      0.175000   \n",
       "11035  Says Target installed urinals in a women’s bat...      0      0.000000   \n",
       "12221  Says \"combined doses of vaccines\" have never b...      0      0.000000   \n",
       "11354  :   The AMBER Alert system has been discontinu...      0      0.375000   \n",
       "8662   Judge Gonzalo Curiel \"is giving us very unfair...      0      1.000000   \n",
       "14307  Continental Airlines CEO Gordon Bethune once p...      0      0.433333   \n",
       "12687  Says a Washington Post reporter who broke news...      0      0.550000   \n",
       "9480   Disney animators hid a risqué image in sand du...      0      0.000000   \n",
       "13932  “As many already said, certainly, this was the...      0      0.567857   \n",
       "14653  A photograph shows U.S. Rep. Alexandria Ocasio...      0      0.000000   \n",
       "13137  Repealing Obamacare saves \"our nation more tha...      0      0.500000   \n",
       "12083   Facebook posts say this is an \"actual quote\" ...      0      0.100000   \n",
       "1581   The Affordable Care Act says that \"at age 76 w...      0      0.500000   \n",
       "4063   Donald Trump lamented that the news media are ...      0      0.466667   \n",
       "5969   I am the only U.S. Senate candidate who spoke ...      0      1.000000   \n",
       "547    Video clip captures NFL kicker Shaun Suisham b...      0      0.000000   \n",
       "13974  Sen. Kirsten Gillibrand \"no longer supports th...      0      0.000000   \n",
       "12938  Snapchat is using its \"Lenses\" photo and video...      0      0.000000   \n",
       "7251   The bodies of dozens of black men were found o...      0      0.216667   \n",
       "3880   A \"majority of our students are trapped in\" un...      0      0.000000   \n",
       "\n",
       "       polarity    pol-sub  \n",
       "1861  -0.050000  -3.500000  \n",
       "11035  0.000000   0.000000  \n",
       "12221  0.000000   0.000000  \n",
       "11354 -0.125000  -3.000000  \n",
       "8662  -0.650000  -1.538462  \n",
       "14307 -0.033333 -13.000000  \n",
       "12687 -0.400000  -1.375000  \n",
       "9480   0.000000   0.000000  \n",
       "13932  0.395238   1.436747  \n",
       "14653  0.000000   0.000000  \n",
       "13137  0.500000   1.000000  \n",
       "12083  0.000000   0.000000  \n",
       "1581   0.500000   1.000000  \n",
       "4063  -0.100000  -4.666667  \n",
       "5969   0.000000   0.000000  \n",
       "547    0.000000   0.000000  \n",
       "13974  0.000000   0.000000  \n",
       "12938  0.000000   0.000000  \n",
       "7251  -0.083333  -2.600000  \n",
       "3880  -0.200000   0.000000  "
      ]
     },
     "execution_count": 53,
     "metadata": {},
     "output_type": "execute_result"
    }
   ],
   "source": [
    "tb_polsub_false.head(20)"
   ]
  },
  {
   "cell_type": "code",
   "execution_count": 61,
   "metadata": {},
   "outputs": [
    {
     "data": {
      "text/plain": [
       "array([[<matplotlib.axes._subplots.AxesSubplot object at 0x7f60f4576e80>]],\n",
       "      dtype=object)"
      ]
     },
     "execution_count": 61,
     "metadata": {},
     "output_type": "execute_result"
    },
    {
     "data": {
      "image/png": "[encoded data removed]",
      "text/plain": [
       "<Figure size 432x288 with 1 Axes>"
      ]
     },
     "metadata": {
      "needs_background": "light"
     },
     "output_type": "display_data"
    }
   ],
   "source": [
    "tb_polsub_false.hist(column='pol-sub', bins=30)"
   ]
  },
  {
   "cell_type": "code",
   "execution_count": 54,
   "metadata": {},
   "outputs": [
    {
     "data": {
      "text/html": [
       "<div>\n",
       "<style scoped>\n",
       "    .dataframe tbody tr th:only-of-type {\n",
       "        vertical-align: middle;\n",
       "    }\n",
       "\n",
       "    .dataframe tbody tr th {\n",
       "        vertical-align: top;\n",
       "    }\n",
       "\n",
       "    .dataframe thead th {\n",
       "        text-align: right;\n",
       "    }\n",
       "</style>\n",
       "<table border=\"1\" class=\"dataframe\">\n",
       "  <thead>\n",
       "    <tr style=\"text-align: right;\">\n",
       "      <th></th>\n",
       "      <th>claim</th>\n",
       "      <th>label</th>\n",
       "      <th>subjectivity</th>\n",
       "      <th>polarity</th>\n",
       "      <th>pol-sub</th>\n",
       "    </tr>\n",
       "  </thead>\n",
       "  <tbody>\n",
       "    <tr>\n",
       "      <td>9389</td>\n",
       "      <td>While arguing over President Reagan’s 1981 tax...</td>\n",
       "      <td>1</td>\n",
       "      <td>0.525568</td>\n",
       "      <td>0.232670</td>\n",
       "      <td>2.258852</td>\n",
       "    </tr>\n",
       "    <tr>\n",
       "      <td>31</td>\n",
       "      <td>\"Expanding Medicaid would require borrowing mo...</td>\n",
       "      <td>1</td>\n",
       "      <td>0.500000</td>\n",
       "      <td>0.500000</td>\n",
       "      <td>1.000000</td>\n",
       "    </tr>\n",
       "    <tr>\n",
       "      <td>6422</td>\n",
       "      <td>About half the people who would qualify for Me...</td>\n",
       "      <td>1</td>\n",
       "      <td>0.166667</td>\n",
       "      <td>-0.166667</td>\n",
       "      <td>-1.000000</td>\n",
       "    </tr>\n",
       "    <tr>\n",
       "      <td>9372</td>\n",
       "      <td>The new Arizona immigration law \"says that any...</td>\n",
       "      <td>1</td>\n",
       "      <td>0.527273</td>\n",
       "      <td>0.168182</td>\n",
       "      <td>3.135135</td>\n",
       "    </tr>\n",
       "    <tr>\n",
       "      <td>3030</td>\n",
       "      <td>\"Today, Florida is in 50th place in spending o...</td>\n",
       "      <td>1</td>\n",
       "      <td>0.000000</td>\n",
       "      <td>0.000000</td>\n",
       "      <td>0.000000</td>\n",
       "    </tr>\n",
       "    <tr>\n",
       "      <td>12626</td>\n",
       "      <td>Our budget for health is 3% of the total budge...</td>\n",
       "      <td>1</td>\n",
       "      <td>0.750000</td>\n",
       "      <td>0.000000</td>\n",
       "      <td>0.000000</td>\n",
       "    </tr>\n",
       "    <tr>\n",
       "      <td>12525</td>\n",
       "      <td>Says Ronald Reagan \"got the Saudis to flood th...</td>\n",
       "      <td>1</td>\n",
       "      <td>0.700000</td>\n",
       "      <td>0.400000</td>\n",
       "      <td>1.750000</td>\n",
       "    </tr>\n",
       "    <tr>\n",
       "      <td>154</td>\n",
       "      <td>Says Charlie Crist wants felons who \"commit a ...</td>\n",
       "      <td>1</td>\n",
       "      <td>0.200000</td>\n",
       "      <td>0.033333</td>\n",
       "      <td>6.000000</td>\n",
       "    </tr>\n",
       "    <tr>\n",
       "      <td>6877</td>\n",
       "      <td>Says she \"voted for a statewide fracking ban.\"</td>\n",
       "      <td>1</td>\n",
       "      <td>0.000000</td>\n",
       "      <td>0.000000</td>\n",
       "      <td>0.000000</td>\n",
       "    </tr>\n",
       "    <tr>\n",
       "      <td>12607</td>\n",
       "      <td>Under Rahm Emanuel, \"We’ve got tree trimmers m...</td>\n",
       "      <td>1</td>\n",
       "      <td>0.000000</td>\n",
       "      <td>0.000000</td>\n",
       "      <td>0.000000</td>\n",
       "    </tr>\n",
       "    <tr>\n",
       "      <td>11589</td>\n",
       "      <td>The Capitol Police force is \"going so far as t...</td>\n",
       "      <td>1</td>\n",
       "      <td>1.000000</td>\n",
       "      <td>0.100000</td>\n",
       "      <td>10.000000</td>\n",
       "    </tr>\n",
       "    <tr>\n",
       "      <td>15279</td>\n",
       "      <td>The lack of an automatic braking system that c...</td>\n",
       "      <td>1</td>\n",
       "      <td>0.250000</td>\n",
       "      <td>-0.125000</td>\n",
       "      <td>-2.000000</td>\n",
       "    </tr>\n",
       "    <tr>\n",
       "      <td>13431</td>\n",
       "      <td>Mark Warner cast \"the tiebreaking vote\" to pas...</td>\n",
       "      <td>1</td>\n",
       "      <td>0.000000</td>\n",
       "      <td>0.000000</td>\n",
       "      <td>0.000000</td>\n",
       "    </tr>\n",
       "    <tr>\n",
       "      <td>10626</td>\n",
       "      <td>\"The Postal Service only gives tribal resident...</td>\n",
       "      <td>1</td>\n",
       "      <td>0.572619</td>\n",
       "      <td>0.172619</td>\n",
       "      <td>3.317241</td>\n",
       "    </tr>\n",
       "    <tr>\n",
       "      <td>8601</td>\n",
       "      <td>The government of New Zealand pulled Sky News ...</td>\n",
       "      <td>1</td>\n",
       "      <td>0.454545</td>\n",
       "      <td>0.136364</td>\n",
       "      <td>3.333333</td>\n",
       "    </tr>\n",
       "    <tr>\n",
       "      <td>3883</td>\n",
       "      <td>The Obama transition team kept a list of Musli...</td>\n",
       "      <td>1</td>\n",
       "      <td>0.500000</td>\n",
       "      <td>0.500000</td>\n",
       "      <td>1.000000</td>\n",
       "    </tr>\n",
       "    <tr>\n",
       "      <td>6301</td>\n",
       "      <td>Joe Morrissey \"has been a delegate in the Gene...</td>\n",
       "      <td>1</td>\n",
       "      <td>0.466667</td>\n",
       "      <td>-0.058333</td>\n",
       "      <td>-8.000000</td>\n",
       "    </tr>\n",
       "    <tr>\n",
       "      <td>14692</td>\n",
       "      <td>The federal government has banned public schoo...</td>\n",
       "      <td>1</td>\n",
       "      <td>0.066667</td>\n",
       "      <td>0.000000</td>\n",
       "      <td>0.000000</td>\n",
       "    </tr>\n",
       "    <tr>\n",
       "      <td>4707</td>\n",
       "      <td>Says that Minnesota Democratic congressional c...</td>\n",
       "      <td>1</td>\n",
       "      <td>0.000000</td>\n",
       "      <td>0.000000</td>\n",
       "      <td>0.000000</td>\n",
       "    </tr>\n",
       "    <tr>\n",
       "      <td>8466</td>\n",
       "      <td>\"Right now, only 11 percent of the 15,000 chil...</td>\n",
       "      <td>1</td>\n",
       "      <td>0.767857</td>\n",
       "      <td>0.142857</td>\n",
       "      <td>5.375000</td>\n",
       "    </tr>\n",
       "  </tbody>\n",
       "</table>\n",
       "</div>"
      ],
      "text/plain": [
       "                                                   claim  label  subjectivity  \\\n",
       "9389   While arguing over President Reagan’s 1981 tax...      1      0.525568   \n",
       "31     \"Expanding Medicaid would require borrowing mo...      1      0.500000   \n",
       "6422   About half the people who would qualify for Me...      1      0.166667   \n",
       "9372   The new Arizona immigration law \"says that any...      1      0.527273   \n",
       "3030   \"Today, Florida is in 50th place in spending o...      1      0.000000   \n",
       "12626  Our budget for health is 3% of the total budge...      1      0.750000   \n",
       "12525  Says Ronald Reagan \"got the Saudis to flood th...      1      0.700000   \n",
       "154    Says Charlie Crist wants felons who \"commit a ...      1      0.200000   \n",
       "6877      Says she \"voted for a statewide fracking ban.\"      1      0.000000   \n",
       "12607  Under Rahm Emanuel, \"We’ve got tree trimmers m...      1      0.000000   \n",
       "11589  The Capitol Police force is \"going so far as t...      1      1.000000   \n",
       "15279  The lack of an automatic braking system that c...      1      0.250000   \n",
       "13431  Mark Warner cast \"the tiebreaking vote\" to pas...      1      0.000000   \n",
       "10626  \"The Postal Service only gives tribal resident...      1      0.572619   \n",
       "8601   The government of New Zealand pulled Sky News ...      1      0.454545   \n",
       "3883   The Obama transition team kept a list of Musli...      1      0.500000   \n",
       "6301   Joe Morrissey \"has been a delegate in the Gene...      1      0.466667   \n",
       "14692  The federal government has banned public schoo...      1      0.066667   \n",
       "4707   Says that Minnesota Democratic congressional c...      1      0.000000   \n",
       "8466   \"Right now, only 11 percent of the 15,000 chil...      1      0.767857   \n",
       "\n",
       "       polarity    pol-sub  \n",
       "9389   0.232670   2.258852  \n",
       "31     0.500000   1.000000  \n",
       "6422  -0.166667  -1.000000  \n",
       "9372   0.168182   3.135135  \n",
       "3030   0.000000   0.000000  \n",
       "12626  0.000000   0.000000  \n",
       "12525  0.400000   1.750000  \n",
       "154    0.033333   6.000000  \n",
       "6877   0.000000   0.000000  \n",
       "12607  0.000000   0.000000  \n",
       "11589  0.100000  10.000000  \n",
       "15279 -0.125000  -2.000000  \n",
       "13431  0.000000   0.000000  \n",
       "10626  0.172619   3.317241  \n",
       "8601   0.136364   3.333333  \n",
       "3883   0.500000   1.000000  \n",
       "6301  -0.058333  -8.000000  \n",
       "14692  0.000000   0.000000  \n",
       "4707   0.000000   0.000000  \n",
       "8466   0.142857   5.375000  "
      ]
     },
     "execution_count": 54,
     "metadata": {},
     "output_type": "execute_result"
    }
   ],
   "source": [
    "tb_polsub_partly.head(20)"
   ]
  },
  {
   "cell_type": "code",
   "execution_count": 62,
   "metadata": {},
   "outputs": [
    {
     "data": {
      "text/plain": [
       "array([[<matplotlib.axes._subplots.AxesSubplot object at 0x7f60f45f2668>]],\n",
       "      dtype=object)"
      ]
     },
     "execution_count": 62,
     "metadata": {},
     "output_type": "execute_result"
    },
    {
     "data": {
      "image/png": "[encoded data removed]",
      "text/plain": [
       "<Figure size 432x288 with 1 Axes>"
      ]
     },
     "metadata": {
      "needs_background": "light"
     },
     "output_type": "display_data"
    }
   ],
   "source": [
    "tb_polsub_partly.hist(column='pol-sub', bins=30)"
   ]
  },
  {
   "cell_type": "code",
   "execution_count": 56,
   "metadata": {},
   "outputs": [
    {
     "data": {
      "text/html": [
       "<div>\n",
       "<style scoped>\n",
       "    .dataframe tbody tr th:only-of-type {\n",
       "        vertical-align: middle;\n",
       "    }\n",
       "\n",
       "    .dataframe tbody tr th {\n",
       "        vertical-align: top;\n",
       "    }\n",
       "\n",
       "    .dataframe thead th {\n",
       "        text-align: right;\n",
       "    }\n",
       "</style>\n",
       "<table border=\"1\" class=\"dataframe\">\n",
       "  <thead>\n",
       "    <tr style=\"text-align: right;\">\n",
       "      <th></th>\n",
       "      <th>claim</th>\n",
       "      <th>label</th>\n",
       "      <th>subjectivity</th>\n",
       "      <th>polarity</th>\n",
       "      <th>pol-sub</th>\n",
       "    </tr>\n",
       "  </thead>\n",
       "  <tbody>\n",
       "    <tr>\n",
       "      <td>12703</td>\n",
       "      <td>Says Donald Trump's use of the term \"fake news...</td>\n",
       "      <td>2</td>\n",
       "      <td>1.000000</td>\n",
       "      <td>-0.500000</td>\n",
       "      <td>-2.000000</td>\n",
       "    </tr>\n",
       "    <tr>\n",
       "      <td>1298</td>\n",
       "      <td>\"Forty-three million Americans are on food sta...</td>\n",
       "      <td>2</td>\n",
       "      <td>0.000000</td>\n",
       "      <td>0.000000</td>\n",
       "      <td>0.000000</td>\n",
       "    </tr>\n",
       "    <tr>\n",
       "      <td>9890</td>\n",
       "      <td>A photograph shows an eagle catching a drone.</td>\n",
       "      <td>2</td>\n",
       "      <td>0.900000</td>\n",
       "      <td>0.600000</td>\n",
       "      <td>1.500000</td>\n",
       "    </tr>\n",
       "    <tr>\n",
       "      <td>3369</td>\n",
       "      <td>A list of chemicals, written as if they were i...</td>\n",
       "      <td>2</td>\n",
       "      <td>0.633333</td>\n",
       "      <td>0.400000</td>\n",
       "      <td>1.583333</td>\n",
       "    </tr>\n",
       "    <tr>\n",
       "      <td>1018</td>\n",
       "      <td>The UK issued a travel advisory for LGBT citiz...</td>\n",
       "      <td>2</td>\n",
       "      <td>0.580556</td>\n",
       "      <td>-0.091667</td>\n",
       "      <td>-6.333333</td>\n",
       "    </tr>\n",
       "    <tr>\n",
       "      <td>6707</td>\n",
       "      <td>Your personal information may be viewable thro...</td>\n",
       "      <td>2</td>\n",
       "      <td>0.300000</td>\n",
       "      <td>0.000000</td>\n",
       "      <td>0.000000</td>\n",
       "    </tr>\n",
       "    <tr>\n",
       "      <td>6079</td>\n",
       "      <td>\"Austin is number one in Texas in startups, ve...</td>\n",
       "      <td>2</td>\n",
       "      <td>0.000000</td>\n",
       "      <td>0.000000</td>\n",
       "      <td>0.000000</td>\n",
       "    </tr>\n",
       "    <tr>\n",
       "      <td>6104</td>\n",
       "      <td>The musical Mamma Mia! has \"been selling out f...</td>\n",
       "      <td>2</td>\n",
       "      <td>0.000000</td>\n",
       "      <td>0.000000</td>\n",
       "      <td>0.000000</td>\n",
       "    </tr>\n",
       "    <tr>\n",
       "      <td>8998</td>\n",
       "      <td>A Ghanaian immigrant and United States Army pr...</td>\n",
       "      <td>2</td>\n",
       "      <td>0.187500</td>\n",
       "      <td>0.000000</td>\n",
       "      <td>0.000000</td>\n",
       "    </tr>\n",
       "    <tr>\n",
       "      <td>772</td>\n",
       "      <td>Two Muslims hold positions in the U.S. Departm...</td>\n",
       "      <td>2</td>\n",
       "      <td>0.000000</td>\n",
       "      <td>0.000000</td>\n",
       "      <td>0.000000</td>\n",
       "    </tr>\n",
       "    <tr>\n",
       "      <td>8518</td>\n",
       "      <td>The deficit this year could pay \"all of the 20...</td>\n",
       "      <td>2</td>\n",
       "      <td>0.050000</td>\n",
       "      <td>0.050000</td>\n",
       "      <td>1.000000</td>\n",
       "    </tr>\n",
       "    <tr>\n",
       "      <td>13070</td>\n",
       "      <td>Liberty University students \"were mandated\" to...</td>\n",
       "      <td>2</td>\n",
       "      <td>0.000000</td>\n",
       "      <td>0.000000</td>\n",
       "      <td>0.000000</td>\n",
       "    </tr>\n",
       "    <tr>\n",
       "      <td>15213</td>\n",
       "      <td>\"When you tally up their representation in Con...</td>\n",
       "      <td>2</td>\n",
       "      <td>0.000000</td>\n",
       "      <td>0.000000</td>\n",
       "      <td>0.000000</td>\n",
       "    </tr>\n",
       "    <tr>\n",
       "      <td>9583</td>\n",
       "      <td>Said Republicans made historic gains in state ...</td>\n",
       "      <td>2</td>\n",
       "      <td>0.033333</td>\n",
       "      <td>0.000000</td>\n",
       "      <td>0.000000</td>\n",
       "    </tr>\n",
       "    <tr>\n",
       "      <td>7453</td>\n",
       "      <td>\"California is 49th out of 50 in the United St...</td>\n",
       "      <td>2</td>\n",
       "      <td>1.000000</td>\n",
       "      <td>0.000000</td>\n",
       "      <td>0.000000</td>\n",
       "    </tr>\n",
       "    <tr>\n",
       "      <td>6398</td>\n",
       "      <td>Says his release of 33 years of tax returns is...</td>\n",
       "      <td>2</td>\n",
       "      <td>0.500000</td>\n",
       "      <td>0.500000</td>\n",
       "      <td>1.000000</td>\n",
       "    </tr>\n",
       "    <tr>\n",
       "      <td>15232</td>\n",
       "      <td>\"Could I just point out that ... I seem to get...</td>\n",
       "      <td>2</td>\n",
       "      <td>0.333333</td>\n",
       "      <td>0.250000</td>\n",
       "      <td>1.333333</td>\n",
       "    </tr>\n",
       "    <tr>\n",
       "      <td>7079</td>\n",
       "      <td>\"More children die in agricultural jobs than i...</td>\n",
       "      <td>2</td>\n",
       "      <td>0.437500</td>\n",
       "      <td>0.187500</td>\n",
       "      <td>2.333333</td>\n",
       "    </tr>\n",
       "    <tr>\n",
       "      <td>7972</td>\n",
       "      <td>Hillary Clinton cited Robert F. Kennedy's June...</td>\n",
       "      <td>2</td>\n",
       "      <td>0.575000</td>\n",
       "      <td>-0.025000</td>\n",
       "      <td>-23.000000</td>\n",
       "    </tr>\n",
       "    <tr>\n",
       "      <td>9826</td>\n",
       "      <td>\"Black lung cases are at a 25-year high.\"</td>\n",
       "      <td>2</td>\n",
       "      <td>0.486667</td>\n",
       "      <td>-0.003333</td>\n",
       "      <td>-146.000000</td>\n",
       "    </tr>\n",
       "  </tbody>\n",
       "</table>\n",
       "</div>"
      ],
      "text/plain": [
       "                                                   claim  label  subjectivity  \\\n",
       "12703  Says Donald Trump's use of the term \"fake news...      2      1.000000   \n",
       "1298   \"Forty-three million Americans are on food sta...      2      0.000000   \n",
       "9890       A photograph shows an eagle catching a drone.      2      0.900000   \n",
       "3369   A list of chemicals, written as if they were i...      2      0.633333   \n",
       "1018   The UK issued a travel advisory for LGBT citiz...      2      0.580556   \n",
       "6707   Your personal information may be viewable thro...      2      0.300000   \n",
       "6079   \"Austin is number one in Texas in startups, ve...      2      0.000000   \n",
       "6104   The musical Mamma Mia! has \"been selling out f...      2      0.000000   \n",
       "8998   A Ghanaian immigrant and United States Army pr...      2      0.187500   \n",
       "772    Two Muslims hold positions in the U.S. Departm...      2      0.000000   \n",
       "8518   The deficit this year could pay \"all of the 20...      2      0.050000   \n",
       "13070  Liberty University students \"were mandated\" to...      2      0.000000   \n",
       "15213  \"When you tally up their representation in Con...      2      0.000000   \n",
       "9583   Said Republicans made historic gains in state ...      2      0.033333   \n",
       "7453   \"California is 49th out of 50 in the United St...      2      1.000000   \n",
       "6398   Says his release of 33 years of tax returns is...      2      0.500000   \n",
       "15232  \"Could I just point out that ... I seem to get...      2      0.333333   \n",
       "7079   \"More children die in agricultural jobs than i...      2      0.437500   \n",
       "7972   Hillary Clinton cited Robert F. Kennedy's June...      2      0.575000   \n",
       "9826           \"Black lung cases are at a 25-year high.\"      2      0.486667   \n",
       "\n",
       "       polarity     pol-sub  \n",
       "12703 -0.500000   -2.000000  \n",
       "1298   0.000000    0.000000  \n",
       "9890   0.600000    1.500000  \n",
       "3369   0.400000    1.583333  \n",
       "1018  -0.091667   -6.333333  \n",
       "6707   0.000000    0.000000  \n",
       "6079   0.000000    0.000000  \n",
       "6104   0.000000    0.000000  \n",
       "8998   0.000000    0.000000  \n",
       "772    0.000000    0.000000  \n",
       "8518   0.050000    1.000000  \n",
       "13070  0.000000    0.000000  \n",
       "15213  0.000000    0.000000  \n",
       "9583   0.000000    0.000000  \n",
       "7453   0.000000    0.000000  \n",
       "6398   0.500000    1.000000  \n",
       "15232  0.250000    1.333333  \n",
       "7079   0.187500    2.333333  \n",
       "7972  -0.025000  -23.000000  \n",
       "9826  -0.003333 -146.000000  "
      ]
     },
     "execution_count": 56,
     "metadata": {},
     "output_type": "execute_result"
    }
   ],
   "source": [
    "tb_polsub_true.head(20)"
   ]
  },
  {
   "cell_type": "code",
   "execution_count": 63,
   "metadata": {},
   "outputs": [
    {
     "data": {
      "text/plain": [
       "array([[<matplotlib.axes._subplots.AxesSubplot object at 0x7f60f458e0f0>]],\n",
       "      dtype=object)"
      ]
     },
     "execution_count": 63,
     "metadata": {},
     "output_type": "execute_result"
    },
    {
     "data": {
      "image/png": "[encoded data removed]",
      "text/plain": [
       "<Figure size 432x288 with 1 Axes>"
      ]
     },
     "metadata": {
      "needs_background": "light"
     },
     "output_type": "display_data"
    }
   ],
   "source": [
    "tb_polsub_true.hist(column='pol-sub', bins=30)"
   ]
  },
  {
   "cell_type": "code",
   "execution_count": 20,
   "metadata": {},
   "outputs": [
    {
     "name": "stderr",
     "output_type": "stream",
     "text": [
      "[nltk_data] Downloading package movie_reviews to\n",
      "[nltk_data]     /home/alice/nltk_data...\n",
      "[nltk_data]   Package movie_reviews is already up-to-date!\n"
     ]
    },
    {
     "data": {
      "text/html": [
       "<div>\n",
       "<style scoped>\n",
       "    .dataframe tbody tr th:only-of-type {\n",
       "        vertical-align: middle;\n",
       "    }\n",
       "\n",
       "    .dataframe tbody tr th {\n",
       "        vertical-align: top;\n",
       "    }\n",
       "\n",
       "    .dataframe thead th {\n",
       "        text-align: right;\n",
       "    }\n",
       "</style>\n",
       "<table border=\"1\" class=\"dataframe\">\n",
       "  <thead>\n",
       "    <tr style=\"text-align: right;\">\n",
       "      <th></th>\n",
       "      <th>claim</th>\n",
       "      <th>label</th>\n",
       "    </tr>\n",
       "  </thead>\n",
       "  <tbody>\n",
       "    <tr>\n",
       "      <td>9389</td>\n",
       "      <td>While arguing over President Reagan’s 1981 tax...</td>\n",
       "      <td>1</td>\n",
       "    </tr>\n",
       "    <tr>\n",
       "      <td>1861</td>\n",
       "      <td>Recently Rick Scott \"closed 30 women’s health ...</td>\n",
       "      <td>0</td>\n",
       "    </tr>\n",
       "    <tr>\n",
       "      <td>11035</td>\n",
       "      <td>Says Target installed urinals in a women’s bat...</td>\n",
       "      <td>0</td>\n",
       "    </tr>\n",
       "    <tr>\n",
       "      <td>12221</td>\n",
       "      <td>Says \"combined doses of vaccines\" have never b...</td>\n",
       "      <td>0</td>\n",
       "    </tr>\n",
       "    <tr>\n",
       "      <td>11354</td>\n",
       "      <td>:   The AMBER Alert system has been discontinu...</td>\n",
       "      <td>0</td>\n",
       "    </tr>\n",
       "    <tr>\n",
       "      <td>...</td>\n",
       "      <td>...</td>\n",
       "      <td>...</td>\n",
       "    </tr>\n",
       "    <tr>\n",
       "      <td>2910</td>\n",
       "      <td>Health insurance costs for Floridians are up 3...</td>\n",
       "      <td>1</td>\n",
       "    </tr>\n",
       "    <tr>\n",
       "      <td>6096</td>\n",
       "      <td>A photograph captures Harriet Tubman as a \"Gun...</td>\n",
       "      <td>0</td>\n",
       "    </tr>\n",
       "    <tr>\n",
       "      <td>10446</td>\n",
       "      <td>ISIS leader Abu Bakr al Baghdadi was \"released...</td>\n",
       "      <td>0</td>\n",
       "    </tr>\n",
       "    <tr>\n",
       "      <td>5414</td>\n",
       "      <td>\"The board of a nonprofit organization on whic...</td>\n",
       "      <td>1</td>\n",
       "    </tr>\n",
       "    <tr>\n",
       "      <td>6657</td>\n",
       "      <td>Japan announced plans to dump 920,000 tons of ...</td>\n",
       "      <td>1</td>\n",
       "    </tr>\n",
       "  </tbody>\n",
       "</table>\n",
       "<p>12444 rows × 2 columns</p>\n",
       "</div>"
      ],
      "text/plain": [
       "                                                   claim  label\n",
       "9389   While arguing over President Reagan’s 1981 tax...      1\n",
       "1861   Recently Rick Scott \"closed 30 women’s health ...      0\n",
       "11035  Says Target installed urinals in a women’s bat...      0\n",
       "12221  Says \"combined doses of vaccines\" have never b...      0\n",
       "11354  :   The AMBER Alert system has been discontinu...      0\n",
       "...                                                  ...    ...\n",
       "2910   Health insurance costs for Floridians are up 3...      1\n",
       "6096   A photograph captures Harriet Tubman as a \"Gun...      0\n",
       "10446  ISIS leader Abu Bakr al Baghdadi was \"released...      0\n",
       "5414   \"The board of a nonprofit organization on whic...      1\n",
       "6657   Japan announced plans to dump 920,000 tons of ...      1\n",
       "\n",
       "[12444 rows x 2 columns]"
      ]
     },
     "execution_count": 20,
     "metadata": {},
     "output_type": "execute_result"
    }
   ],
   "source": [
    "import nltk\n",
    "nltk.download('movie_reviews')\n",
    "\n",
    "tbnb_claims = pd.DataFrame(df, columns=['claim', 'label'])\n",
    "tbnb_claims"
   ]
  },
  {
   "cell_type": "code",
   "execution_count": 21,
   "metadata": {},
   "outputs": [],
   "source": [
    "from textblob.sentiments import NaiveBayesAnalyzer\n",
    "from textblob import Blobber\n",
    "\n",
    "blobber = Blobber(analyzer=NaiveBayesAnalyzer())\n",
    "\n",
    "for index, row in tbnb_claims.iterrows():\n",
    "    claim = blobber(row['claim'])\n",
    "    tbnb_claims.at[index,'classification'] = claim.sentiment.classification\n",
    "    tbnb_claims.at[index,'p_pos'] = claim.sentiment.p_pos\n",
    "    tbnb_claims.at[index,'p_neg'] = claim.sentiment.p_neg"
   ]
  },
  {
   "cell_type": "code",
   "execution_count": 22,
   "metadata": {},
   "outputs": [],
   "source": [
    "tbnb_false = tbnb_claims.loc[tbnb_claims['label'] == 0]\n",
    "tbnb_partly = tbnb_claims.loc[tbnb_claims['label'] == 1]\n",
    "tbnb_true = tbnb_claims.loc[tbnb_claims['label'] == 2]"
   ]
  },
  {
   "cell_type": "code",
   "execution_count": 23,
   "metadata": {},
   "outputs": [
    {
     "data": {
      "text/html": [
       "<div>\n",
       "<style scoped>\n",
       "    .dataframe tbody tr th:only-of-type {\n",
       "        vertical-align: middle;\n",
       "    }\n",
       "\n",
       "    .dataframe tbody tr th {\n",
       "        vertical-align: top;\n",
       "    }\n",
       "\n",
       "    .dataframe thead th {\n",
       "        text-align: right;\n",
       "    }\n",
       "</style>\n",
       "<table border=\"1\" class=\"dataframe\">\n",
       "  <thead>\n",
       "    <tr style=\"text-align: right;\">\n",
       "      <th></th>\n",
       "      <th>claim</th>\n",
       "      <th>label</th>\n",
       "      <th>classification</th>\n",
       "      <th>p_pos</th>\n",
       "      <th>p_neg</th>\n",
       "    </tr>\n",
       "  </thead>\n",
       "  <tbody>\n",
       "    <tr>\n",
       "      <td>1861</td>\n",
       "      <td>Recently Rick Scott \"closed 30 women’s health ...</td>\n",
       "      <td>0</td>\n",
       "      <td>neg</td>\n",
       "      <td>0.269427</td>\n",
       "      <td>0.730573</td>\n",
       "    </tr>\n",
       "    <tr>\n",
       "      <td>11035</td>\n",
       "      <td>Says Target installed urinals in a women’s bat...</td>\n",
       "      <td>0</td>\n",
       "      <td>pos</td>\n",
       "      <td>0.846297</td>\n",
       "      <td>0.153703</td>\n",
       "    </tr>\n",
       "    <tr>\n",
       "      <td>12221</td>\n",
       "      <td>Says \"combined doses of vaccines\" have never b...</td>\n",
       "      <td>0</td>\n",
       "      <td>pos</td>\n",
       "      <td>0.832967</td>\n",
       "      <td>0.167033</td>\n",
       "    </tr>\n",
       "    <tr>\n",
       "      <td>11354</td>\n",
       "      <td>:   The AMBER Alert system has been discontinu...</td>\n",
       "      <td>0</td>\n",
       "      <td>pos</td>\n",
       "      <td>0.911793</td>\n",
       "      <td>0.088207</td>\n",
       "    </tr>\n",
       "    <tr>\n",
       "      <td>8662</td>\n",
       "      <td>Judge Gonzalo Curiel \"is giving us very unfair...</td>\n",
       "      <td>0</td>\n",
       "      <td>pos</td>\n",
       "      <td>0.831709</td>\n",
       "      <td>0.168291</td>\n",
       "    </tr>\n",
       "    <tr>\n",
       "      <td>...</td>\n",
       "      <td>...</td>\n",
       "      <td>...</td>\n",
       "      <td>...</td>\n",
       "      <td>...</td>\n",
       "      <td>...</td>\n",
       "    </tr>\n",
       "    <tr>\n",
       "      <td>12125</td>\n",
       "      <td>Limiting labor negotiations to only wages is \"...</td>\n",
       "      <td>0</td>\n",
       "      <td>pos</td>\n",
       "      <td>0.997116</td>\n",
       "      <td>0.002884</td>\n",
       "    </tr>\n",
       "    <tr>\n",
       "      <td>8333</td>\n",
       "      <td>President Ronald Reagan once said, “Nancy Pelo...</td>\n",
       "      <td>0</td>\n",
       "      <td>pos</td>\n",
       "      <td>0.958316</td>\n",
       "      <td>0.041684</td>\n",
       "    </tr>\n",
       "    <tr>\n",
       "      <td>11698</td>\n",
       "      <td>\"Transgender individuals in the U.S. have a 1-...</td>\n",
       "      <td>0</td>\n",
       "      <td>pos</td>\n",
       "      <td>0.502640</td>\n",
       "      <td>0.497360</td>\n",
       "    </tr>\n",
       "    <tr>\n",
       "      <td>6096</td>\n",
       "      <td>A photograph captures Harriet Tubman as a \"Gun...</td>\n",
       "      <td>0</td>\n",
       "      <td>neg</td>\n",
       "      <td>0.261194</td>\n",
       "      <td>0.738806</td>\n",
       "    </tr>\n",
       "    <tr>\n",
       "      <td>10446</td>\n",
       "      <td>ISIS leader Abu Bakr al Baghdadi was \"released...</td>\n",
       "      <td>0</td>\n",
       "      <td>pos</td>\n",
       "      <td>0.949220</td>\n",
       "      <td>0.050780</td>\n",
       "    </tr>\n",
       "  </tbody>\n",
       "</table>\n",
       "<p>5954 rows × 5 columns</p>\n",
       "</div>"
      ],
      "text/plain": [
       "                                                   claim  label  \\\n",
       "1861   Recently Rick Scott \"closed 30 women’s health ...      0   \n",
       "11035  Says Target installed urinals in a women’s bat...      0   \n",
       "12221  Says \"combined doses of vaccines\" have never b...      0   \n",
       "11354  :   The AMBER Alert system has been discontinu...      0   \n",
       "8662   Judge Gonzalo Curiel \"is giving us very unfair...      0   \n",
       "...                                                  ...    ...   \n",
       "12125  Limiting labor negotiations to only wages is \"...      0   \n",
       "8333   President Ronald Reagan once said, “Nancy Pelo...      0   \n",
       "11698  \"Transgender individuals in the U.S. have a 1-...      0   \n",
       "6096   A photograph captures Harriet Tubman as a \"Gun...      0   \n",
       "10446  ISIS leader Abu Bakr al Baghdadi was \"released...      0   \n",
       "\n",
       "      classification     p_pos     p_neg  \n",
       "1861             neg  0.269427  0.730573  \n",
       "11035            pos  0.846297  0.153703  \n",
       "12221            pos  0.832967  0.167033  \n",
       "11354            pos  0.911793  0.088207  \n",
       "8662             pos  0.831709  0.168291  \n",
       "...              ...       ...       ...  \n",
       "12125            pos  0.997116  0.002884  \n",
       "8333             pos  0.958316  0.041684  \n",
       "11698            pos  0.502640  0.497360  \n",
       "6096             neg  0.261194  0.738806  \n",
       "10446            pos  0.949220  0.050780  \n",
       "\n",
       "[5954 rows x 5 columns]"
      ]
     },
     "execution_count": 23,
     "metadata": {},
     "output_type": "execute_result"
    }
   ],
   "source": [
    "tbnb_false"
   ]
  },
  {
   "cell_type": "code",
   "execution_count": 24,
   "metadata": {},
   "outputs": [
    {
     "data": {
      "text/html": [
       "<div>\n",
       "<style scoped>\n",
       "    .dataframe tbody tr th:only-of-type {\n",
       "        vertical-align: middle;\n",
       "    }\n",
       "\n",
       "    .dataframe tbody tr th {\n",
       "        vertical-align: top;\n",
       "    }\n",
       "\n",
       "    .dataframe thead th {\n",
       "        text-align: right;\n",
       "    }\n",
       "</style>\n",
       "<table border=\"1\" class=\"dataframe\">\n",
       "  <thead>\n",
       "    <tr style=\"text-align: right;\">\n",
       "      <th></th>\n",
       "      <th>claim</th>\n",
       "      <th>label</th>\n",
       "      <th>classification</th>\n",
       "      <th>p_pos</th>\n",
       "      <th>p_neg</th>\n",
       "    </tr>\n",
       "  </thead>\n",
       "  <tbody>\n",
       "    <tr>\n",
       "      <td>9389</td>\n",
       "      <td>While arguing over President Reagan’s 1981 tax...</td>\n",
       "      <td>1</td>\n",
       "      <td>pos</td>\n",
       "      <td>0.996789</td>\n",
       "      <td>0.003211</td>\n",
       "    </tr>\n",
       "    <tr>\n",
       "      <td>31</td>\n",
       "      <td>\"Expanding Medicaid would require borrowing mo...</td>\n",
       "      <td>1</td>\n",
       "      <td>pos</td>\n",
       "      <td>0.748123</td>\n",
       "      <td>0.251877</td>\n",
       "    </tr>\n",
       "    <tr>\n",
       "      <td>6422</td>\n",
       "      <td>About half the people who would qualify for Me...</td>\n",
       "      <td>1</td>\n",
       "      <td>pos</td>\n",
       "      <td>0.593187</td>\n",
       "      <td>0.406813</td>\n",
       "    </tr>\n",
       "    <tr>\n",
       "      <td>9372</td>\n",
       "      <td>The new Arizona immigration law \"says that any...</td>\n",
       "      <td>1</td>\n",
       "      <td>pos</td>\n",
       "      <td>0.939287</td>\n",
       "      <td>0.060713</td>\n",
       "    </tr>\n",
       "    <tr>\n",
       "      <td>3030</td>\n",
       "      <td>\"Today, Florida is in 50th place in spending o...</td>\n",
       "      <td>1</td>\n",
       "      <td>pos</td>\n",
       "      <td>0.672018</td>\n",
       "      <td>0.327982</td>\n",
       "    </tr>\n",
       "    <tr>\n",
       "      <td>...</td>\n",
       "      <td>...</td>\n",
       "      <td>...</td>\n",
       "      <td>...</td>\n",
       "      <td>...</td>\n",
       "      <td>...</td>\n",
       "    </tr>\n",
       "    <tr>\n",
       "      <td>12899</td>\n",
       "      <td>Says Chris Christie \"has refused to fund pensi...</td>\n",
       "      <td>1</td>\n",
       "      <td>neg</td>\n",
       "      <td>0.196957</td>\n",
       "      <td>0.803043</td>\n",
       "    </tr>\n",
       "    <tr>\n",
       "      <td>5974</td>\n",
       "      <td>\"We have right now, … in the state of Californ...</td>\n",
       "      <td>1</td>\n",
       "      <td>pos</td>\n",
       "      <td>0.775177</td>\n",
       "      <td>0.224823</td>\n",
       "    </tr>\n",
       "    <tr>\n",
       "      <td>2910</td>\n",
       "      <td>Health insurance costs for Floridians are up 3...</td>\n",
       "      <td>1</td>\n",
       "      <td>pos</td>\n",
       "      <td>0.651623</td>\n",
       "      <td>0.348377</td>\n",
       "    </tr>\n",
       "    <tr>\n",
       "      <td>5414</td>\n",
       "      <td>\"The board of a nonprofit organization on whic...</td>\n",
       "      <td>1</td>\n",
       "      <td>pos</td>\n",
       "      <td>0.912354</td>\n",
       "      <td>0.087646</td>\n",
       "    </tr>\n",
       "    <tr>\n",
       "      <td>6657</td>\n",
       "      <td>Japan announced plans to dump 920,000 tons of ...</td>\n",
       "      <td>1</td>\n",
       "      <td>neg</td>\n",
       "      <td>0.032407</td>\n",
       "      <td>0.967593</td>\n",
       "    </tr>\n",
       "  </tbody>\n",
       "</table>\n",
       "<p>5117 rows × 5 columns</p>\n",
       "</div>"
      ],
      "text/plain": [
       "                                                   claim  label  \\\n",
       "9389   While arguing over President Reagan’s 1981 tax...      1   \n",
       "31     \"Expanding Medicaid would require borrowing mo...      1   \n",
       "6422   About half the people who would qualify for Me...      1   \n",
       "9372   The new Arizona immigration law \"says that any...      1   \n",
       "3030   \"Today, Florida is in 50th place in spending o...      1   \n",
       "...                                                  ...    ...   \n",
       "12899  Says Chris Christie \"has refused to fund pensi...      1   \n",
       "5974   \"We have right now, … in the state of Californ...      1   \n",
       "2910   Health insurance costs for Floridians are up 3...      1   \n",
       "5414   \"The board of a nonprofit organization on whic...      1   \n",
       "6657   Japan announced plans to dump 920,000 tons of ...      1   \n",
       "\n",
       "      classification     p_pos     p_neg  \n",
       "9389             pos  0.996789  0.003211  \n",
       "31               pos  0.748123  0.251877  \n",
       "6422             pos  0.593187  0.406813  \n",
       "9372             pos  0.939287  0.060713  \n",
       "3030             pos  0.672018  0.327982  \n",
       "...              ...       ...       ...  \n",
       "12899            neg  0.196957  0.803043  \n",
       "5974             pos  0.775177  0.224823  \n",
       "2910             pos  0.651623  0.348377  \n",
       "5414             pos  0.912354  0.087646  \n",
       "6657             neg  0.032407  0.967593  \n",
       "\n",
       "[5117 rows x 5 columns]"
      ]
     },
     "execution_count": 24,
     "metadata": {},
     "output_type": "execute_result"
    }
   ],
   "source": [
    "tbnb_partly"
   ]
  },
  {
   "cell_type": "code",
   "execution_count": 25,
   "metadata": {},
   "outputs": [
    {
     "data": {
      "text/html": [
       "<div>\n",
       "<style scoped>\n",
       "    .dataframe tbody tr th:only-of-type {\n",
       "        vertical-align: middle;\n",
       "    }\n",
       "\n",
       "    .dataframe tbody tr th {\n",
       "        vertical-align: top;\n",
       "    }\n",
       "\n",
       "    .dataframe thead th {\n",
       "        text-align: right;\n",
       "    }\n",
       "</style>\n",
       "<table border=\"1\" class=\"dataframe\">\n",
       "  <thead>\n",
       "    <tr style=\"text-align: right;\">\n",
       "      <th></th>\n",
       "      <th>claim</th>\n",
       "      <th>label</th>\n",
       "      <th>classification</th>\n",
       "      <th>p_pos</th>\n",
       "      <th>p_neg</th>\n",
       "    </tr>\n",
       "  </thead>\n",
       "  <tbody>\n",
       "    <tr>\n",
       "      <td>12703</td>\n",
       "      <td>Says Donald Trump's use of the term \"fake news...</td>\n",
       "      <td>2</td>\n",
       "      <td>neg</td>\n",
       "      <td>0.053204</td>\n",
       "      <td>0.946796</td>\n",
       "    </tr>\n",
       "    <tr>\n",
       "      <td>1298</td>\n",
       "      <td>\"Forty-three million Americans are on food sta...</td>\n",
       "      <td>2</td>\n",
       "      <td>pos</td>\n",
       "      <td>0.870120</td>\n",
       "      <td>0.129880</td>\n",
       "    </tr>\n",
       "    <tr>\n",
       "      <td>9890</td>\n",
       "      <td>A photograph shows an eagle catching a drone.</td>\n",
       "      <td>2</td>\n",
       "      <td>neg</td>\n",
       "      <td>0.456089</td>\n",
       "      <td>0.543911</td>\n",
       "    </tr>\n",
       "    <tr>\n",
       "      <td>3369</td>\n",
       "      <td>A list of chemicals, written as if they were i...</td>\n",
       "      <td>2</td>\n",
       "      <td>pos</td>\n",
       "      <td>0.604910</td>\n",
       "      <td>0.395090</td>\n",
       "    </tr>\n",
       "    <tr>\n",
       "      <td>1018</td>\n",
       "      <td>The UK issued a travel advisory for LGBT citiz...</td>\n",
       "      <td>2</td>\n",
       "      <td>pos</td>\n",
       "      <td>0.999994</td>\n",
       "      <td>0.000006</td>\n",
       "    </tr>\n",
       "    <tr>\n",
       "      <td>...</td>\n",
       "      <td>...</td>\n",
       "      <td>...</td>\n",
       "      <td>...</td>\n",
       "      <td>...</td>\n",
       "      <td>...</td>\n",
       "    </tr>\n",
       "    <tr>\n",
       "      <td>8532</td>\n",
       "      <td>\"Public display of a long rifle is perfectly l...</td>\n",
       "      <td>2</td>\n",
       "      <td>pos</td>\n",
       "      <td>0.713640</td>\n",
       "      <td>0.286360</td>\n",
       "    </tr>\n",
       "    <tr>\n",
       "      <td>4722</td>\n",
       "      <td>\"I have never once raised the county tax levy ...</td>\n",
       "      <td>2</td>\n",
       "      <td>pos</td>\n",
       "      <td>0.647844</td>\n",
       "      <td>0.352156</td>\n",
       "    </tr>\n",
       "    <tr>\n",
       "      <td>3470</td>\n",
       "      <td>Police in Wilmington, Delaware shot and killed...</td>\n",
       "      <td>2</td>\n",
       "      <td>pos</td>\n",
       "      <td>0.600181</td>\n",
       "      <td>0.399819</td>\n",
       "    </tr>\n",
       "    <tr>\n",
       "      <td>4879</td>\n",
       "      <td>A photograph shows the wedding of a U.S. Marin...</td>\n",
       "      <td>2</td>\n",
       "      <td>pos</td>\n",
       "      <td>0.740136</td>\n",
       "      <td>0.259864</td>\n",
       "    </tr>\n",
       "    <tr>\n",
       "      <td>4217</td>\n",
       "      <td>\"Twenty-five percent of our kids in foster car...</td>\n",
       "      <td>2</td>\n",
       "      <td>pos</td>\n",
       "      <td>0.649814</td>\n",
       "      <td>0.350186</td>\n",
       "    </tr>\n",
       "  </tbody>\n",
       "</table>\n",
       "<p>1373 rows × 5 columns</p>\n",
       "</div>"
      ],
      "text/plain": [
       "                                                   claim  label  \\\n",
       "12703  Says Donald Trump's use of the term \"fake news...      2   \n",
       "1298   \"Forty-three million Americans are on food sta...      2   \n",
       "9890       A photograph shows an eagle catching a drone.      2   \n",
       "3369   A list of chemicals, written as if they were i...      2   \n",
       "1018   The UK issued a travel advisory for LGBT citiz...      2   \n",
       "...                                                  ...    ...   \n",
       "8532   \"Public display of a long rifle is perfectly l...      2   \n",
       "4722   \"I have never once raised the county tax levy ...      2   \n",
       "3470   Police in Wilmington, Delaware shot and killed...      2   \n",
       "4879   A photograph shows the wedding of a U.S. Marin...      2   \n",
       "4217   \"Twenty-five percent of our kids in foster car...      2   \n",
       "\n",
       "      classification     p_pos     p_neg  \n",
       "12703            neg  0.053204  0.946796  \n",
       "1298             pos  0.870120  0.129880  \n",
       "9890             neg  0.456089  0.543911  \n",
       "3369             pos  0.604910  0.395090  \n",
       "1018             pos  0.999994  0.000006  \n",
       "...              ...       ...       ...  \n",
       "8532             pos  0.713640  0.286360  \n",
       "4722             pos  0.647844  0.352156  \n",
       "3470             pos  0.600181  0.399819  \n",
       "4879             pos  0.740136  0.259864  \n",
       "4217             pos  0.649814  0.350186  \n",
       "\n",
       "[1373 rows x 5 columns]"
      ]
     },
     "execution_count": 25,
     "metadata": {},
     "output_type": "execute_result"
    }
   ],
   "source": [
    "tbnb_true"
   ]
  },
  {
   "cell_type": "code",
   "execution_count": 26,
   "metadata": {},
   "outputs": [
    {
     "data": {
      "text/plain": [
       "array([[<matplotlib.axes._subplots.AxesSubplot object at 0x7f60f4963048>]],\n",
       "      dtype=object)"
      ]
     },
     "execution_count": 26,
     "metadata": {},
     "output_type": "execute_result"
    },
    {
     "data": {
      "image/png": "[encoded data removed]",
      "text/plain": [
       "<Figure size 432x288 with 1 Axes>"
      ]
     },
     "metadata": {
      "needs_background": "light"
     },
     "output_type": "display_data"
    }
   ],
   "source": [
    "tbnb_false.hist(column='p_pos', bins=30)"
   ]
  },
  {
   "cell_type": "code",
   "execution_count": 27,
   "metadata": {},
   "outputs": [
    {
     "data": {
      "text/plain": [
       "array([[<matplotlib.axes._subplots.AxesSubplot object at 0x7f60f859c080>]],\n",
       "      dtype=object)"
      ]
     },
     "execution_count": 27,
     "metadata": {},
     "output_type": "execute_result"
    },
    {
     "data": {
      "image/png": "[encoded data removed]",
      "text/plain": [
       "<Figure size 432x288 with 1 Axes>"
      ]
     },
     "metadata": {
      "needs_background": "light"
     },
     "output_type": "display_data"
    }
   ],
   "source": [
    "tbnb_false.hist(column='p_neg', bins=30)"
   ]
  },
  {
   "cell_type": "code",
   "execution_count": 28,
   "metadata": {},
   "outputs": [
    {
     "data": {
      "text/plain": [
       "array([[<matplotlib.axes._subplots.AxesSubplot object at 0x7f60f4910630>]],\n",
       "      dtype=object)"
      ]
     },
     "execution_count": 28,
     "metadata": {},
     "output_type": "execute_result"
    },
    {
     "data": {
      "image/png": "[encoded data removed]",
      "text/plain": [
       "<Figure size 432x288 with 1 Axes>"
      ]
     },
     "metadata": {
      "needs_background": "light"
     },
     "output_type": "display_data"
    }
   ],
   "source": [
    "tbnb_partly.hist(column='p_pos', bins=30)"
   ]
  },
  {
   "cell_type": "code",
   "execution_count": 29,
   "metadata": {},
   "outputs": [
    {
     "data": {
      "text/plain": [
       "array([[<matplotlib.axes._subplots.AxesSubplot object at 0x7f60f491c6a0>]],\n",
       "      dtype=object)"
      ]
     },
     "execution_count": 29,
     "metadata": {},
     "output_type": "execute_result"
    },
    {
     "data": {
      "image/png": "[encoded data removed]",
      "text/plain": [
       "<Figure size 432x288 with 1 Axes>"
      ]
     },
     "metadata": {
      "needs_background": "light"
     },
     "output_type": "display_data"
    }
   ],
   "source": [
    "tbnb_partly.hist(column='p_neg', bins=30)"
   ]
  },
  {
   "cell_type": "code",
   "execution_count": 30,
   "metadata": {},
   "outputs": [
    {
     "data": {
      "text/plain": [
       "array([[<matplotlib.axes._subplots.AxesSubplot object at 0x7f60f490eba8>]],\n",
       "      dtype=object)"
      ]
     },
     "execution_count": 30,
     "metadata": {},
     "output_type": "execute_result"
    },
    {
     "data": {
      "image/png": "[encoded data removed]",
      "text/plain": [
       "<Figure size 432x288 with 1 Axes>"
      ]
     },
     "metadata": {
      "needs_background": "light"
     },
     "output_type": "display_data"
    }
   ],
   "source": [
    "tbnb_true.hist(column='p_pos', bins=30)"
   ]
  },
  {
   "cell_type": "code",
   "execution_count": 31,
   "metadata": {},
   "outputs": [
    {
     "data": {
      "text/plain": [
       "array([[<matplotlib.axes._subplots.AxesSubplot object at 0x7f60f48cdda0>]],\n",
       "      dtype=object)"
      ]
     },
     "execution_count": 31,
     "metadata": {},
     "output_type": "execute_result"
    },
    {
     "data": {
      "image/png": "[encoded data removed]",
      "text/plain": [
       "<Figure size 432x288 with 1 Axes>"
      ]
     },
     "metadata": {
      "needs_background": "light"
     },
     "output_type": "display_data"
    }
   ],
   "source": [
    "tbnb_true.hist(column='p_neg', bins=30)"
   ]
  },
  {
   "cell_type": "markdown",
   "metadata": {},
   "source": [
    "## VADER"
   ]
  },
  {
   "cell_type": "code",
   "execution_count": 34,
   "metadata": {},
   "outputs": [
    {
     "name": "stderr",
     "output_type": "stream",
     "text": [
      "[nltk_data] Downloading package vader_lexicon to\n",
      "[nltk_data]     /home/alice/nltk_data...\n",
      "[nltk_data]   Package vader_lexicon is already up-to-date!\n"
     ]
    },
    {
     "data": {
      "text/plain": [
       "True"
      ]
     },
     "execution_count": 34,
     "metadata": {},
     "output_type": "execute_result"
    }
   ],
   "source": [
    "nltk.download('vader_lexicon')"
   ]
  },
  {
   "cell_type": "code",
   "execution_count": 35,
   "metadata": {},
   "outputs": [],
   "source": [
    "from nltk.sentiment.vader import SentimentIntensityAnalyzer\n",
    "sid = SentimentIntensityAnalyzer()\n",
    "\n",
    "def get_vader_score(sent):\n",
    "    # Polarity score returns dictionary\n",
    "    ss = sid.polarity_scores(sent)\n",
    "    for k in sorted(ss):\n",
    "        print('{0}: {1}, '.format(k, ss[k]), end='')\n",
    "        print()"
   ]
  },
  {
   "cell_type": "code",
   "execution_count": 36,
   "metadata": {},
   "outputs": [
    {
     "data": {
      "text/plain": [
       "{'neg': 0.429, 'neu': 0.571, 'pos': 0.0, 'compound': -0.4588}"
      ]
     },
     "execution_count": 36,
     "metadata": {},
     "output_type": "execute_result"
    }
   ],
   "source": [
    "sid.polarity_scores(\"That was an awful movie\")"
   ]
  },
  {
   "cell_type": "code",
   "execution_count": 37,
   "metadata": {},
   "outputs": [
    {
     "data": {
      "text/plain": [
       "0.429"
      ]
     },
     "execution_count": 37,
     "metadata": {},
     "output_type": "execute_result"
    }
   ],
   "source": [
    "score = sid.polarity_scores(\"That was an awful movie\")\n",
    "score['neg']"
   ]
  },
  {
   "cell_type": "code",
   "execution_count": 38,
   "metadata": {},
   "outputs": [
    {
     "data": {
      "text/html": [
       "<div>\n",
       "<style scoped>\n",
       "    .dataframe tbody tr th:only-of-type {\n",
       "        vertical-align: middle;\n",
       "    }\n",
       "\n",
       "    .dataframe tbody tr th {\n",
       "        vertical-align: top;\n",
       "    }\n",
       "\n",
       "    .dataframe thead th {\n",
       "        text-align: right;\n",
       "    }\n",
       "</style>\n",
       "<table border=\"1\" class=\"dataframe\">\n",
       "  <thead>\n",
       "    <tr style=\"text-align: right;\">\n",
       "      <th></th>\n",
       "      <th>claim</th>\n",
       "      <th>label</th>\n",
       "    </tr>\n",
       "  </thead>\n",
       "  <tbody>\n",
       "    <tr>\n",
       "      <td>9389</td>\n",
       "      <td>While arguing over President Reagan’s 1981 tax...</td>\n",
       "      <td>1</td>\n",
       "    </tr>\n",
       "    <tr>\n",
       "      <td>1861</td>\n",
       "      <td>Recently Rick Scott \"closed 30 women’s health ...</td>\n",
       "      <td>0</td>\n",
       "    </tr>\n",
       "    <tr>\n",
       "      <td>11035</td>\n",
       "      <td>Says Target installed urinals in a women’s bat...</td>\n",
       "      <td>0</td>\n",
       "    </tr>\n",
       "    <tr>\n",
       "      <td>12221</td>\n",
       "      <td>Says \"combined doses of vaccines\" have never b...</td>\n",
       "      <td>0</td>\n",
       "    </tr>\n",
       "    <tr>\n",
       "      <td>11354</td>\n",
       "      <td>:   The AMBER Alert system has been discontinu...</td>\n",
       "      <td>0</td>\n",
       "    </tr>\n",
       "    <tr>\n",
       "      <td>...</td>\n",
       "      <td>...</td>\n",
       "      <td>...</td>\n",
       "    </tr>\n",
       "    <tr>\n",
       "      <td>2910</td>\n",
       "      <td>Health insurance costs for Floridians are up 3...</td>\n",
       "      <td>1</td>\n",
       "    </tr>\n",
       "    <tr>\n",
       "      <td>6096</td>\n",
       "      <td>A photograph captures Harriet Tubman as a \"Gun...</td>\n",
       "      <td>0</td>\n",
       "    </tr>\n",
       "    <tr>\n",
       "      <td>10446</td>\n",
       "      <td>ISIS leader Abu Bakr al Baghdadi was \"released...</td>\n",
       "      <td>0</td>\n",
       "    </tr>\n",
       "    <tr>\n",
       "      <td>5414</td>\n",
       "      <td>\"The board of a nonprofit organization on whic...</td>\n",
       "      <td>1</td>\n",
       "    </tr>\n",
       "    <tr>\n",
       "      <td>6657</td>\n",
       "      <td>Japan announced plans to dump 920,000 tons of ...</td>\n",
       "      <td>1</td>\n",
       "    </tr>\n",
       "  </tbody>\n",
       "</table>\n",
       "<p>12444 rows × 2 columns</p>\n",
       "</div>"
      ],
      "text/plain": [
       "                                                   claim  label\n",
       "9389   While arguing over President Reagan’s 1981 tax...      1\n",
       "1861   Recently Rick Scott \"closed 30 women’s health ...      0\n",
       "11035  Says Target installed urinals in a women’s bat...      0\n",
       "12221  Says \"combined doses of vaccines\" have never b...      0\n",
       "11354  :   The AMBER Alert system has been discontinu...      0\n",
       "...                                                  ...    ...\n",
       "2910   Health insurance costs for Floridians are up 3...      1\n",
       "6096   A photograph captures Harriet Tubman as a \"Gun...      0\n",
       "10446  ISIS leader Abu Bakr al Baghdadi was \"released...      0\n",
       "5414   \"The board of a nonprofit organization on whic...      1\n",
       "6657   Japan announced plans to dump 920,000 tons of ...      1\n",
       "\n",
       "[12444 rows x 2 columns]"
      ]
     },
     "execution_count": 38,
     "metadata": {},
     "output_type": "execute_result"
    }
   ],
   "source": [
    "vader_claims = pd.DataFrame(df, columns=['claim', 'label'])\n",
    "vader_claims"
   ]
  },
  {
   "cell_type": "code",
   "execution_count": 39,
   "metadata": {},
   "outputs": [],
   "source": [
    "for index, row in vader_claims.iterrows():\n",
    "    claim = sid.polarity_scores(row['claim'])\n",
    "    vader_claims.at[index,'negative'] = claim['neg']\n",
    "    vader_claims.at[index,'neutral'] = claim['neu']\n",
    "    vader_claims.at[index,'positive'] = claim['pos']\n",
    "    vader_claims.at[index,'compound'] = claim['compound']"
   ]
  },
  {
   "cell_type": "code",
   "execution_count": 40,
   "metadata": {},
   "outputs": [
    {
     "data": {
      "text/html": [
       "<div>\n",
       "<style scoped>\n",
       "    .dataframe tbody tr th:only-of-type {\n",
       "        vertical-align: middle;\n",
       "    }\n",
       "\n",
       "    .dataframe tbody tr th {\n",
       "        vertical-align: top;\n",
       "    }\n",
       "\n",
       "    .dataframe thead th {\n",
       "        text-align: right;\n",
       "    }\n",
       "</style>\n",
       "<table border=\"1\" class=\"dataframe\">\n",
       "  <thead>\n",
       "    <tr style=\"text-align: right;\">\n",
       "      <th></th>\n",
       "      <th>claim</th>\n",
       "      <th>label</th>\n",
       "      <th>negative</th>\n",
       "      <th>neutral</th>\n",
       "      <th>positive</th>\n",
       "      <th>compound</th>\n",
       "    </tr>\n",
       "  </thead>\n",
       "  <tbody>\n",
       "    <tr>\n",
       "      <td>9389</td>\n",
       "      <td>While arguing over President Reagan’s 1981 tax...</td>\n",
       "      <td>1</td>\n",
       "      <td>0.077</td>\n",
       "      <td>0.771</td>\n",
       "      <td>0.152</td>\n",
       "      <td>0.8020</td>\n",
       "    </tr>\n",
       "    <tr>\n",
       "      <td>1861</td>\n",
       "      <td>Recently Rick Scott \"closed 30 women’s health ...</td>\n",
       "      <td>0</td>\n",
       "      <td>0.000</td>\n",
       "      <td>0.775</td>\n",
       "      <td>0.225</td>\n",
       "      <td>0.4939</td>\n",
       "    </tr>\n",
       "    <tr>\n",
       "      <td>11035</td>\n",
       "      <td>Says Target installed urinals in a women’s bat...</td>\n",
       "      <td>0</td>\n",
       "      <td>0.000</td>\n",
       "      <td>1.000</td>\n",
       "      <td>0.000</td>\n",
       "      <td>0.0000</td>\n",
       "    </tr>\n",
       "    <tr>\n",
       "      <td>12221</td>\n",
       "      <td>Says \"combined doses of vaccines\" have never b...</td>\n",
       "      <td>0</td>\n",
       "      <td>0.000</td>\n",
       "      <td>1.000</td>\n",
       "      <td>0.000</td>\n",
       "      <td>0.0000</td>\n",
       "    </tr>\n",
       "    <tr>\n",
       "      <td>11354</td>\n",
       "      <td>:   The AMBER Alert system has been discontinu...</td>\n",
       "      <td>0</td>\n",
       "      <td>0.000</td>\n",
       "      <td>0.845</td>\n",
       "      <td>0.155</td>\n",
       "      <td>0.2960</td>\n",
       "    </tr>\n",
       "    <tr>\n",
       "      <td>...</td>\n",
       "      <td>...</td>\n",
       "      <td>...</td>\n",
       "      <td>...</td>\n",
       "      <td>...</td>\n",
       "      <td>...</td>\n",
       "      <td>...</td>\n",
       "    </tr>\n",
       "    <tr>\n",
       "      <td>2910</td>\n",
       "      <td>Health insurance costs for Floridians are up 3...</td>\n",
       "      <td>1</td>\n",
       "      <td>0.000</td>\n",
       "      <td>1.000</td>\n",
       "      <td>0.000</td>\n",
       "      <td>0.0000</td>\n",
       "    </tr>\n",
       "    <tr>\n",
       "      <td>6096</td>\n",
       "      <td>A photograph captures Harriet Tubman as a \"Gun...</td>\n",
       "      <td>0</td>\n",
       "      <td>0.000</td>\n",
       "      <td>1.000</td>\n",
       "      <td>0.000</td>\n",
       "      <td>0.0000</td>\n",
       "    </tr>\n",
       "    <tr>\n",
       "      <td>10446</td>\n",
       "      <td>ISIS leader Abu Bakr al Baghdadi was \"released...</td>\n",
       "      <td>0</td>\n",
       "      <td>0.000</td>\n",
       "      <td>1.000</td>\n",
       "      <td>0.000</td>\n",
       "      <td>0.0000</td>\n",
       "    </tr>\n",
       "    <tr>\n",
       "      <td>5414</td>\n",
       "      <td>\"The board of a nonprofit organization on whic...</td>\n",
       "      <td>1</td>\n",
       "      <td>0.087</td>\n",
       "      <td>0.817</td>\n",
       "      <td>0.096</td>\n",
       "      <td>0.0516</td>\n",
       "    </tr>\n",
       "    <tr>\n",
       "      <td>6657</td>\n",
       "      <td>Japan announced plans to dump 920,000 tons of ...</td>\n",
       "      <td>1</td>\n",
       "      <td>0.241</td>\n",
       "      <td>0.759</td>\n",
       "      <td>0.000</td>\n",
       "      <td>-0.6597</td>\n",
       "    </tr>\n",
       "  </tbody>\n",
       "</table>\n",
       "<p>12444 rows × 6 columns</p>\n",
       "</div>"
      ],
      "text/plain": [
       "                                                   claim  label  negative  \\\n",
       "9389   While arguing over President Reagan’s 1981 tax...      1     0.077   \n",
       "1861   Recently Rick Scott \"closed 30 women’s health ...      0     0.000   \n",
       "11035  Says Target installed urinals in a women’s bat...      0     0.000   \n",
       "12221  Says \"combined doses of vaccines\" have never b...      0     0.000   \n",
       "11354  :   The AMBER Alert system has been discontinu...      0     0.000   \n",
       "...                                                  ...    ...       ...   \n",
       "2910   Health insurance costs for Floridians are up 3...      1     0.000   \n",
       "6096   A photograph captures Harriet Tubman as a \"Gun...      0     0.000   \n",
       "10446  ISIS leader Abu Bakr al Baghdadi was \"released...      0     0.000   \n",
       "5414   \"The board of a nonprofit organization on whic...      1     0.087   \n",
       "6657   Japan announced plans to dump 920,000 tons of ...      1     0.241   \n",
       "\n",
       "       neutral  positive  compound  \n",
       "9389     0.771     0.152    0.8020  \n",
       "1861     0.775     0.225    0.4939  \n",
       "11035    1.000     0.000    0.0000  \n",
       "12221    1.000     0.000    0.0000  \n",
       "11354    0.845     0.155    0.2960  \n",
       "...        ...       ...       ...  \n",
       "2910     1.000     0.000    0.0000  \n",
       "6096     1.000     0.000    0.0000  \n",
       "10446    1.000     0.000    0.0000  \n",
       "5414     0.817     0.096    0.0516  \n",
       "6657     0.759     0.000   -0.6597  \n",
       "\n",
       "[12444 rows x 6 columns]"
      ]
     },
     "execution_count": 40,
     "metadata": {},
     "output_type": "execute_result"
    }
   ],
   "source": [
    "vader_claims"
   ]
  },
  {
   "cell_type": "code",
   "execution_count": 41,
   "metadata": {},
   "outputs": [],
   "source": [
    "vader_false = vader_claims.loc[vader_claims['label'] == 0]\n",
    "vader_partly = vader_claims.loc[vader_claims['label'] == 1]\n",
    "vader_true = vader_claims.loc[vader_claims['label'] == 2]"
   ]
  },
  {
   "cell_type": "code",
   "execution_count": 42,
   "metadata": {},
   "outputs": [
    {
     "data": {
      "text/html": [
       "<div>\n",
       "<style scoped>\n",
       "    .dataframe tbody tr th:only-of-type {\n",
       "        vertical-align: middle;\n",
       "    }\n",
       "\n",
       "    .dataframe tbody tr th {\n",
       "        vertical-align: top;\n",
       "    }\n",
       "\n",
       "    .dataframe thead th {\n",
       "        text-align: right;\n",
       "    }\n",
       "</style>\n",
       "<table border=\"1\" class=\"dataframe\">\n",
       "  <thead>\n",
       "    <tr style=\"text-align: right;\">\n",
       "      <th></th>\n",
       "      <th>claim</th>\n",
       "      <th>label</th>\n",
       "      <th>negative</th>\n",
       "      <th>neutral</th>\n",
       "      <th>positive</th>\n",
       "      <th>compound</th>\n",
       "    </tr>\n",
       "  </thead>\n",
       "  <tbody>\n",
       "    <tr>\n",
       "      <td>1861</td>\n",
       "      <td>Recently Rick Scott \"closed 30 women’s health ...</td>\n",
       "      <td>0</td>\n",
       "      <td>0.000</td>\n",
       "      <td>0.775</td>\n",
       "      <td>0.225</td>\n",
       "      <td>0.4939</td>\n",
       "    </tr>\n",
       "    <tr>\n",
       "      <td>11035</td>\n",
       "      <td>Says Target installed urinals in a women’s bat...</td>\n",
       "      <td>0</td>\n",
       "      <td>0.000</td>\n",
       "      <td>1.000</td>\n",
       "      <td>0.000</td>\n",
       "      <td>0.0000</td>\n",
       "    </tr>\n",
       "    <tr>\n",
       "      <td>12221</td>\n",
       "      <td>Says \"combined doses of vaccines\" have never b...</td>\n",
       "      <td>0</td>\n",
       "      <td>0.000</td>\n",
       "      <td>1.000</td>\n",
       "      <td>0.000</td>\n",
       "      <td>0.0000</td>\n",
       "    </tr>\n",
       "    <tr>\n",
       "      <td>11354</td>\n",
       "      <td>:   The AMBER Alert system has been discontinu...</td>\n",
       "      <td>0</td>\n",
       "      <td>0.000</td>\n",
       "      <td>0.845</td>\n",
       "      <td>0.155</td>\n",
       "      <td>0.2960</td>\n",
       "    </tr>\n",
       "    <tr>\n",
       "      <td>8662</td>\n",
       "      <td>Judge Gonzalo Curiel \"is giving us very unfair...</td>\n",
       "      <td>0</td>\n",
       "      <td>0.118</td>\n",
       "      <td>0.799</td>\n",
       "      <td>0.083</td>\n",
       "      <td>-0.2484</td>\n",
       "    </tr>\n",
       "    <tr>\n",
       "      <td>...</td>\n",
       "      <td>...</td>\n",
       "      <td>...</td>\n",
       "      <td>...</td>\n",
       "      <td>...</td>\n",
       "      <td>...</td>\n",
       "      <td>...</td>\n",
       "    </tr>\n",
       "    <tr>\n",
       "      <td>12125</td>\n",
       "      <td>Limiting labor negotiations to only wages is \"...</td>\n",
       "      <td>0</td>\n",
       "      <td>0.000</td>\n",
       "      <td>1.000</td>\n",
       "      <td>0.000</td>\n",
       "      <td>0.0000</td>\n",
       "    </tr>\n",
       "    <tr>\n",
       "      <td>8333</td>\n",
       "      <td>President Ronald Reagan once said, “Nancy Pelo...</td>\n",
       "      <td>0</td>\n",
       "      <td>0.000</td>\n",
       "      <td>1.000</td>\n",
       "      <td>0.000</td>\n",
       "      <td>0.0000</td>\n",
       "    </tr>\n",
       "    <tr>\n",
       "      <td>11698</td>\n",
       "      <td>\"Transgender individuals in the U.S. have a 1-...</td>\n",
       "      <td>0</td>\n",
       "      <td>0.000</td>\n",
       "      <td>0.833</td>\n",
       "      <td>0.167</td>\n",
       "      <td>0.2500</td>\n",
       "    </tr>\n",
       "    <tr>\n",
       "      <td>6096</td>\n",
       "      <td>A photograph captures Harriet Tubman as a \"Gun...</td>\n",
       "      <td>0</td>\n",
       "      <td>0.000</td>\n",
       "      <td>1.000</td>\n",
       "      <td>0.000</td>\n",
       "      <td>0.0000</td>\n",
       "    </tr>\n",
       "    <tr>\n",
       "      <td>10446</td>\n",
       "      <td>ISIS leader Abu Bakr al Baghdadi was \"released...</td>\n",
       "      <td>0</td>\n",
       "      <td>0.000</td>\n",
       "      <td>1.000</td>\n",
       "      <td>0.000</td>\n",
       "      <td>0.0000</td>\n",
       "    </tr>\n",
       "  </tbody>\n",
       "</table>\n",
       "<p>5954 rows × 6 columns</p>\n",
       "</div>"
      ],
      "text/plain": [
       "                                                   claim  label  negative  \\\n",
       "1861   Recently Rick Scott \"closed 30 women’s health ...      0     0.000   \n",
       "11035  Says Target installed urinals in a women’s bat...      0     0.000   \n",
       "12221  Says \"combined doses of vaccines\" have never b...      0     0.000   \n",
       "11354  :   The AMBER Alert system has been discontinu...      0     0.000   \n",
       "8662   Judge Gonzalo Curiel \"is giving us very unfair...      0     0.118   \n",
       "...                                                  ...    ...       ...   \n",
       "12125  Limiting labor negotiations to only wages is \"...      0     0.000   \n",
       "8333   President Ronald Reagan once said, “Nancy Pelo...      0     0.000   \n",
       "11698  \"Transgender individuals in the U.S. have a 1-...      0     0.000   \n",
       "6096   A photograph captures Harriet Tubman as a \"Gun...      0     0.000   \n",
       "10446  ISIS leader Abu Bakr al Baghdadi was \"released...      0     0.000   \n",
       "\n",
       "       neutral  positive  compound  \n",
       "1861     0.775     0.225    0.4939  \n",
       "11035    1.000     0.000    0.0000  \n",
       "12221    1.000     0.000    0.0000  \n",
       "11354    0.845     0.155    0.2960  \n",
       "8662     0.799     0.083   -0.2484  \n",
       "...        ...       ...       ...  \n",
       "12125    1.000     0.000    0.0000  \n",
       "8333     1.000     0.000    0.0000  \n",
       "11698    0.833     0.167    0.2500  \n",
       "6096     1.000     0.000    0.0000  \n",
       "10446    1.000     0.000    0.0000  \n",
       "\n",
       "[5954 rows x 6 columns]"
      ]
     },
     "execution_count": 42,
     "metadata": {},
     "output_type": "execute_result"
    }
   ],
   "source": [
    "vader_false"
   ]
  },
  {
   "cell_type": "code",
   "execution_count": 43,
   "metadata": {},
   "outputs": [
    {
     "data": {
      "text/html": [
       "<div>\n",
       "<style scoped>\n",
       "    .dataframe tbody tr th:only-of-type {\n",
       "        vertical-align: middle;\n",
       "    }\n",
       "\n",
       "    .dataframe tbody tr th {\n",
       "        vertical-align: top;\n",
       "    }\n",
       "\n",
       "    .dataframe thead th {\n",
       "        text-align: right;\n",
       "    }\n",
       "</style>\n",
       "<table border=\"1\" class=\"dataframe\">\n",
       "  <thead>\n",
       "    <tr style=\"text-align: right;\">\n",
       "      <th></th>\n",
       "      <th>claim</th>\n",
       "      <th>label</th>\n",
       "      <th>negative</th>\n",
       "      <th>neutral</th>\n",
       "      <th>positive</th>\n",
       "      <th>compound</th>\n",
       "    </tr>\n",
       "  </thead>\n",
       "  <tbody>\n",
       "    <tr>\n",
       "      <td>9389</td>\n",
       "      <td>While arguing over President Reagan’s 1981 tax...</td>\n",
       "      <td>1</td>\n",
       "      <td>0.077</td>\n",
       "      <td>0.771</td>\n",
       "      <td>0.152</td>\n",
       "      <td>0.8020</td>\n",
       "    </tr>\n",
       "    <tr>\n",
       "      <td>31</td>\n",
       "      <td>\"Expanding Medicaid would require borrowing mo...</td>\n",
       "      <td>1</td>\n",
       "      <td>0.000</td>\n",
       "      <td>1.000</td>\n",
       "      <td>0.000</td>\n",
       "      <td>0.0000</td>\n",
       "    </tr>\n",
       "    <tr>\n",
       "      <td>6422</td>\n",
       "      <td>About half the people who would qualify for Me...</td>\n",
       "      <td>1</td>\n",
       "      <td>0.000</td>\n",
       "      <td>0.789</td>\n",
       "      <td>0.211</td>\n",
       "      <td>0.7506</td>\n",
       "    </tr>\n",
       "    <tr>\n",
       "      <td>9372</td>\n",
       "      <td>The new Arizona immigration law \"says that any...</td>\n",
       "      <td>1</td>\n",
       "      <td>0.164</td>\n",
       "      <td>0.836</td>\n",
       "      <td>0.000</td>\n",
       "      <td>-0.5719</td>\n",
       "    </tr>\n",
       "    <tr>\n",
       "      <td>3030</td>\n",
       "      <td>\"Today, Florida is in 50th place in spending o...</td>\n",
       "      <td>1</td>\n",
       "      <td>0.000</td>\n",
       "      <td>1.000</td>\n",
       "      <td>0.000</td>\n",
       "      <td>0.0000</td>\n",
       "    </tr>\n",
       "    <tr>\n",
       "      <td>...</td>\n",
       "      <td>...</td>\n",
       "      <td>...</td>\n",
       "      <td>...</td>\n",
       "      <td>...</td>\n",
       "      <td>...</td>\n",
       "      <td>...</td>\n",
       "    </tr>\n",
       "    <tr>\n",
       "      <td>12899</td>\n",
       "      <td>Says Chris Christie \"has refused to fund pensi...</td>\n",
       "      <td>1</td>\n",
       "      <td>0.084</td>\n",
       "      <td>0.798</td>\n",
       "      <td>0.118</td>\n",
       "      <td>0.2263</td>\n",
       "    </tr>\n",
       "    <tr>\n",
       "      <td>5974</td>\n",
       "      <td>\"We have right now, … in the state of Californ...</td>\n",
       "      <td>1</td>\n",
       "      <td>0.000</td>\n",
       "      <td>1.000</td>\n",
       "      <td>0.000</td>\n",
       "      <td>0.0000</td>\n",
       "    </tr>\n",
       "    <tr>\n",
       "      <td>2910</td>\n",
       "      <td>Health insurance costs for Floridians are up 3...</td>\n",
       "      <td>1</td>\n",
       "      <td>0.000</td>\n",
       "      <td>1.000</td>\n",
       "      <td>0.000</td>\n",
       "      <td>0.0000</td>\n",
       "    </tr>\n",
       "    <tr>\n",
       "      <td>5414</td>\n",
       "      <td>\"The board of a nonprofit organization on whic...</td>\n",
       "      <td>1</td>\n",
       "      <td>0.087</td>\n",
       "      <td>0.817</td>\n",
       "      <td>0.096</td>\n",
       "      <td>0.0516</td>\n",
       "    </tr>\n",
       "    <tr>\n",
       "      <td>6657</td>\n",
       "      <td>Japan announced plans to dump 920,000 tons of ...</td>\n",
       "      <td>1</td>\n",
       "      <td>0.241</td>\n",
       "      <td>0.759</td>\n",
       "      <td>0.000</td>\n",
       "      <td>-0.6597</td>\n",
       "    </tr>\n",
       "  </tbody>\n",
       "</table>\n",
       "<p>5117 rows × 6 columns</p>\n",
       "</div>"
      ],
      "text/plain": [
       "                                                   claim  label  negative  \\\n",
       "9389   While arguing over President Reagan’s 1981 tax...      1     0.077   \n",
       "31     \"Expanding Medicaid would require borrowing mo...      1     0.000   \n",
       "6422   About half the people who would qualify for Me...      1     0.000   \n",
       "9372   The new Arizona immigration law \"says that any...      1     0.164   \n",
       "3030   \"Today, Florida is in 50th place in spending o...      1     0.000   \n",
       "...                                                  ...    ...       ...   \n",
       "12899  Says Chris Christie \"has refused to fund pensi...      1     0.084   \n",
       "5974   \"We have right now, … in the state of Californ...      1     0.000   \n",
       "2910   Health insurance costs for Floridians are up 3...      1     0.000   \n",
       "5414   \"The board of a nonprofit organization on whic...      1     0.087   \n",
       "6657   Japan announced plans to dump 920,000 tons of ...      1     0.241   \n",
       "\n",
       "       neutral  positive  compound  \n",
       "9389     0.771     0.152    0.8020  \n",
       "31       1.000     0.000    0.0000  \n",
       "6422     0.789     0.211    0.7506  \n",
       "9372     0.836     0.000   -0.5719  \n",
       "3030     1.000     0.000    0.0000  \n",
       "...        ...       ...       ...  \n",
       "12899    0.798     0.118    0.2263  \n",
       "5974     1.000     0.000    0.0000  \n",
       "2910     1.000     0.000    0.0000  \n",
       "5414     0.817     0.096    0.0516  \n",
       "6657     0.759     0.000   -0.6597  \n",
       "\n",
       "[5117 rows x 6 columns]"
      ]
     },
     "execution_count": 43,
     "metadata": {},
     "output_type": "execute_result"
    }
   ],
   "source": [
    "vader_partly"
   ]
  },
  {
   "cell_type": "code",
   "execution_count": 44,
   "metadata": {},
   "outputs": [
    {
     "data": {
      "text/html": [
       "<div>\n",
       "<style scoped>\n",
       "    .dataframe tbody tr th:only-of-type {\n",
       "        vertical-align: middle;\n",
       "    }\n",
       "\n",
       "    .dataframe tbody tr th {\n",
       "        vertical-align: top;\n",
       "    }\n",
       "\n",
       "    .dataframe thead th {\n",
       "        text-align: right;\n",
       "    }\n",
       "</style>\n",
       "<table border=\"1\" class=\"dataframe\">\n",
       "  <thead>\n",
       "    <tr style=\"text-align: right;\">\n",
       "      <th></th>\n",
       "      <th>claim</th>\n",
       "      <th>label</th>\n",
       "      <th>negative</th>\n",
       "      <th>neutral</th>\n",
       "      <th>positive</th>\n",
       "      <th>compound</th>\n",
       "    </tr>\n",
       "  </thead>\n",
       "  <tbody>\n",
       "    <tr>\n",
       "      <td>12703</td>\n",
       "      <td>Says Donald Trump's use of the term \"fake news...</td>\n",
       "      <td>2</td>\n",
       "      <td>0.216</td>\n",
       "      <td>0.653</td>\n",
       "      <td>0.131</td>\n",
       "      <td>-0.2732</td>\n",
       "    </tr>\n",
       "    <tr>\n",
       "      <td>1298</td>\n",
       "      <td>\"Forty-three million Americans are on food sta...</td>\n",
       "      <td>2</td>\n",
       "      <td>0.000</td>\n",
       "      <td>1.000</td>\n",
       "      <td>0.000</td>\n",
       "      <td>0.0000</td>\n",
       "    </tr>\n",
       "    <tr>\n",
       "      <td>9890</td>\n",
       "      <td>A photograph shows an eagle catching a drone.</td>\n",
       "      <td>2</td>\n",
       "      <td>0.000</td>\n",
       "      <td>1.000</td>\n",
       "      <td>0.000</td>\n",
       "      <td>0.0000</td>\n",
       "    </tr>\n",
       "    <tr>\n",
       "      <td>3369</td>\n",
       "      <td>A list of chemicals, written as if they were i...</td>\n",
       "      <td>2</td>\n",
       "      <td>0.000</td>\n",
       "      <td>1.000</td>\n",
       "      <td>0.000</td>\n",
       "      <td>0.0000</td>\n",
       "    </tr>\n",
       "    <tr>\n",
       "      <td>1018</td>\n",
       "      <td>The UK issued a travel advisory for LGBT citiz...</td>\n",
       "      <td>2</td>\n",
       "      <td>0.078</td>\n",
       "      <td>0.835</td>\n",
       "      <td>0.087</td>\n",
       "      <td>0.1680</td>\n",
       "    </tr>\n",
       "    <tr>\n",
       "      <td>...</td>\n",
       "      <td>...</td>\n",
       "      <td>...</td>\n",
       "      <td>...</td>\n",
       "      <td>...</td>\n",
       "      <td>...</td>\n",
       "      <td>...</td>\n",
       "    </tr>\n",
       "    <tr>\n",
       "      <td>8532</td>\n",
       "      <td>\"Public display of a long rifle is perfectly l...</td>\n",
       "      <td>2</td>\n",
       "      <td>0.000</td>\n",
       "      <td>0.584</td>\n",
       "      <td>0.416</td>\n",
       "      <td>0.6908</td>\n",
       "    </tr>\n",
       "    <tr>\n",
       "      <td>4722</td>\n",
       "      <td>\"I have never once raised the county tax levy ...</td>\n",
       "      <td>2</td>\n",
       "      <td>0.106</td>\n",
       "      <td>0.894</td>\n",
       "      <td>0.000</td>\n",
       "      <td>-0.1695</td>\n",
       "    </tr>\n",
       "    <tr>\n",
       "      <td>3470</td>\n",
       "      <td>Police in Wilmington, Delaware shot and killed...</td>\n",
       "      <td>2</td>\n",
       "      <td>0.209</td>\n",
       "      <td>0.791</td>\n",
       "      <td>0.000</td>\n",
       "      <td>-0.6705</td>\n",
       "    </tr>\n",
       "    <tr>\n",
       "      <td>4879</td>\n",
       "      <td>A photograph shows the wedding of a U.S. Marin...</td>\n",
       "      <td>2</td>\n",
       "      <td>0.194</td>\n",
       "      <td>0.806</td>\n",
       "      <td>0.000</td>\n",
       "      <td>-0.3400</td>\n",
       "    </tr>\n",
       "    <tr>\n",
       "      <td>4217</td>\n",
       "      <td>\"Twenty-five percent of our kids in foster car...</td>\n",
       "      <td>2</td>\n",
       "      <td>0.000</td>\n",
       "      <td>0.833</td>\n",
       "      <td>0.167</td>\n",
       "      <td>0.4939</td>\n",
       "    </tr>\n",
       "  </tbody>\n",
       "</table>\n",
       "<p>1373 rows × 6 columns</p>\n",
       "</div>"
      ],
      "text/plain": [
       "                                                   claim  label  negative  \\\n",
       "12703  Says Donald Trump's use of the term \"fake news...      2     0.216   \n",
       "1298   \"Forty-three million Americans are on food sta...      2     0.000   \n",
       "9890       A photograph shows an eagle catching a drone.      2     0.000   \n",
       "3369   A list of chemicals, written as if they were i...      2     0.000   \n",
       "1018   The UK issued a travel advisory for LGBT citiz...      2     0.078   \n",
       "...                                                  ...    ...       ...   \n",
       "8532   \"Public display of a long rifle is perfectly l...      2     0.000   \n",
       "4722   \"I have never once raised the county tax levy ...      2     0.106   \n",
       "3470   Police in Wilmington, Delaware shot and killed...      2     0.209   \n",
       "4879   A photograph shows the wedding of a U.S. Marin...      2     0.194   \n",
       "4217   \"Twenty-five percent of our kids in foster car...      2     0.000   \n",
       "\n",
       "       neutral  positive  compound  \n",
       "12703    0.653     0.131   -0.2732  \n",
       "1298     1.000     0.000    0.0000  \n",
       "9890     1.000     0.000    0.0000  \n",
       "3369     1.000     0.000    0.0000  \n",
       "1018     0.835     0.087    0.1680  \n",
       "...        ...       ...       ...  \n",
       "8532     0.584     0.416    0.6908  \n",
       "4722     0.894     0.000   -0.1695  \n",
       "3470     0.791     0.000   -0.6705  \n",
       "4879     0.806     0.000   -0.3400  \n",
       "4217     0.833     0.167    0.4939  \n",
       "\n",
       "[1373 rows x 6 columns]"
      ]
     },
     "execution_count": 44,
     "metadata": {},
     "output_type": "execute_result"
    }
   ],
   "source": [
    "vader_true"
   ]
  },
  {
   "cell_type": "code",
   "execution_count": 45,
   "metadata": {},
   "outputs": [
    {
     "data": {
      "text/plain": [
       "array([[<matplotlib.axes._subplots.AxesSubplot object at 0x7f32dc3e6390>]],\n",
       "      dtype=object)"
      ]
     },
     "execution_count": 45,
     "metadata": {},
     "output_type": "execute_result"
    },
    {
     "data": {
      "image/png": "[encoded data removed]",
      "text/plain": [
       "<Figure size 432x288 with 1 Axes>"
      ]
     },
     "metadata": {
      "needs_background": "light"
     },
     "output_type": "display_data"
    }
   ],
   "source": [
    "vader_false.hist(column='negative', bins=30)"
   ]
  },
  {
   "cell_type": "code",
   "execution_count": 46,
   "metadata": {},
   "outputs": [
    {
     "data": {
      "text/plain": [
       "array([[<matplotlib.axes._subplots.AxesSubplot object at 0x7f32dc3e6160>]],\n",
       "      dtype=object)"
      ]
     },
     "execution_count": 46,
     "metadata": {},
     "output_type": "execute_result"
    },
    {
     "data": {
      "image/png": "[encoded data removed]",
      "text/plain": [
       "<Figure size 432x288 with 1 Axes>"
      ]
     },
     "metadata": {
      "needs_background": "light"
     },
     "output_type": "display_data"
    }
   ],
   "source": [
    "vader_partly.hist(column='negative', bins=30)"
   ]
  },
  {
   "cell_type": "code",
   "execution_count": 47,
   "metadata": {},
   "outputs": [
    {
     "data": {
      "text/plain": [
       "array([[<matplotlib.axes._subplots.AxesSubplot object at 0x7f32dc41d828>]],\n",
       "      dtype=object)"
      ]
     },
     "execution_count": 47,
     "metadata": {},
     "output_type": "execute_result"
    },
    {
     "data": {
      "image/png": "[encoded data removed]",
      "text/plain": [
       "<Figure size 432x288 with 1 Axes>"
      ]
     },
     "metadata": {
      "needs_background": "light"
     },
     "output_type": "display_data"
    }
   ],
   "source": [
    "vader_true.hist(column='negative', bins=30)"
   ]
  },
  {
   "cell_type": "code",
   "execution_count": 48,
   "metadata": {},
   "outputs": [
    {
     "data": {
      "text/plain": [
       "array([[<matplotlib.axes._subplots.AxesSubplot object at 0x7f32dc42f320>]],\n",
       "      dtype=object)"
      ]
     },
     "execution_count": 48,
     "metadata": {},
     "output_type": "execute_result"
    },
    {
     "data": {
      "image/png": "[encoded data removed]",
      "text/plain": [
       "<Figure size 432x288 with 1 Axes>"
      ]
     },
     "metadata": {
      "needs_background": "light"
     },
     "output_type": "display_data"
    }
   ],
   "source": [
    "vader_false.hist(column='compound', bins=30)"
   ]
  },
  {
   "cell_type": "code",
   "execution_count": 49,
   "metadata": {},
   "outputs": [
    {
     "data": {
      "text/plain": [
       "array([[<matplotlib.axes._subplots.AxesSubplot object at 0x7f32dc4ad7b8>]],\n",
       "      dtype=object)"
      ]
     },
     "execution_count": 49,
     "metadata": {},
     "output_type": "execute_result"
    },
    {
     "data": {
      "image/png": "[encoded data removed]",
      "text/plain": [
       "<Figure size 432x288 with 1 Axes>"
      ]
     },
     "metadata": {
      "needs_background": "light"
     },
     "output_type": "display_data"
    }
   ],
   "source": [
    "vader_partly.hist(column='compound', bins=30)"
   ]
  },
  {
   "cell_type": "code",
   "execution_count": 50,
   "metadata": {},
   "outputs": [
    {
     "data": {
      "text/plain": [
       "array([[<matplotlib.axes._subplots.AxesSubplot object at 0x7f32dc38e9b0>]],\n",
       "      dtype=object)"
      ]
     },
     "execution_count": 50,
     "metadata": {},
     "output_type": "execute_result"
    },
    {
     "data": {
      "image/png": "[encoded data removed]",
      "text/plain": [
       "<Figure size 432x288 with 1 Axes>"
      ]
     },
     "metadata": {
      "needs_background": "light"
     },
     "output_type": "display_data"
    }
   ],
   "source": [
    "vader_true.hist(column='compound', bins=30)"
   ]
  },
  {
   "cell_type": "code",
   "execution_count": 51,
   "metadata": {},
   "outputs": [
    {
     "data": {
      "text/plain": [
       "array([[<matplotlib.axes._subplots.AxesSubplot object at 0x7f32dc383a90>]],\n",
       "      dtype=object)"
      ]
     },
     "execution_count": 51,
     "metadata": {},
     "output_type": "execute_result"
    },
    {
     "data": {
      "image/png": "[encoded data removed]",
      "text/plain": [
       "<Figure size 432x288 with 1 Axes>"
      ]
     },
     "metadata": {
      "needs_background": "light"
     },
     "output_type": "display_data"
    }
   ],
   "source": [
    "vader_false.hist(column='neutral', bins=30)"
   ]
  },
  {
   "cell_type": "code",
   "execution_count": 52,
   "metadata": {},
   "outputs": [
    {
     "data": {
      "text/plain": [
       "array([[<matplotlib.axes._subplots.AxesSubplot object at 0x7f32dc38eb70>]],\n",
       "      dtype=object)"
      ]
     },
     "execution_count": 52,
     "metadata": {},
     "output_type": "execute_result"
    },
    {
     "data": {
      "image/png": "[encoded data removed]",
      "text/plain": [
       "<Figure size 432x288 with 1 Axes>"
      ]
     },
     "metadata": {
      "needs_background": "light"
     },
     "output_type": "display_data"
    }
   ],
   "source": [
    "vader_partly.hist(column='neutral', bins=30)"
   ]
  },
  {
   "cell_type": "code",
   "execution_count": 53,
   "metadata": {},
   "outputs": [
    {
     "data": {
      "text/plain": [
       "array([[<matplotlib.axes._subplots.AxesSubplot object at 0x7f32dc41ae10>]],\n",
       "      dtype=object)"
      ]
     },
     "execution_count": 53,
     "metadata": {},
     "output_type": "execute_result"
    },
    {
     "data": {
      "image/png": "[encoded data removed]",
      "text/plain": [
       "<Figure size 432x288 with 1 Axes>"
      ]
     },
     "metadata": {
      "needs_background": "light"
     },
     "output_type": "display_data"
    }
   ],
   "source": [
    "vader_true.hist(column='neutral', bins=30)"
   ]
  },
  {
   "cell_type": "code",
   "execution_count": null,
   "metadata": {},
   "outputs": [],
   "source": []
  }
 ],
 "metadata": {
  "kernelspec": {
   "display_name": "Python 3",
   "language": "python",
   "name": "python3"
  },
  "language_info": {
   "codemirror_mode": {
    "name": "ipython",
    "version": 3
   },
   "file_extension": ".py",
   "mimetype": "text/x-python",
   "name": "python",
   "nbconvert_exporter": "python",
   "pygments_lexer": "ipython3",
   "version": "3.6.8"
  }
 },
 "nbformat": 4,
 "nbformat_minor": 2
}
