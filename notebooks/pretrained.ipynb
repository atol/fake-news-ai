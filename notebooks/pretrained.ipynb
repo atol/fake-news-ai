{
 "cells": [
  {
   "cell_type": "markdown",
   "metadata": {},
   "source": [
    "# Set up"
   ]
  },
  {
   "cell_type": "code",
   "execution_count": 1,
   "metadata": {},
   "outputs": [],
   "source": [
    "import pandas as pd\n",
    "import numpy as np\n",
    "import json\n",
    "import pickle\n",
    "import os\n",
    "\n",
    "METADATA_FILEPATH = '../dataset/metadata.json'"
   ]
  },
  {
   "cell_type": "markdown",
   "metadata": {},
   "source": [
    "Sources: \n",
    "\n",
    "https://blog.keras.io/using-pre-trained-word-embeddings-in-a-keras-model.html\n",
    "\n",
    "https://towardsdatascience.com/machine-learning-word-embedding-sentiment-classification-using-keras-b83c28087456"
   ]
  },
  {
   "cell_type": "markdown",
   "metadata": {},
   "source": [
    "# Load training set"
   ]
  },
  {
   "cell_type": "code",
   "execution_count": 2,
   "metadata": {},
   "outputs": [],
   "source": [
    "with open(METADATA_FILEPATH, 'r') as f:\n",
    "    metadata = json.load(f)"
   ]
  },
  {
   "cell_type": "code",
   "execution_count": 3,
   "metadata": {},
   "outputs": [],
   "source": [
    "df = pd.DataFrame(metadata)"
   ]
  },
  {
   "cell_type": "code",
   "execution_count": 4,
   "metadata": {},
   "outputs": [
    {
     "data": {
      "text/html": [
       "<div>\n",
       "<style scoped>\n",
       "    .dataframe tbody tr th:only-of-type {\n",
       "        vertical-align: middle;\n",
       "    }\n",
       "\n",
       "    .dataframe tbody tr th {\n",
       "        vertical-align: top;\n",
       "    }\n",
       "\n",
       "    .dataframe thead th {\n",
       "        text-align: right;\n",
       "    }\n",
       "</style>\n",
       "<table border=\"1\" class=\"dataframe\">\n",
       "  <thead>\n",
       "    <tr style=\"text-align: right;\">\n",
       "      <th></th>\n",
       "      <th>claim</th>\n",
       "      <th>claimant</th>\n",
       "      <th>date</th>\n",
       "      <th>label</th>\n",
       "      <th>related_articles</th>\n",
       "      <th>id</th>\n",
       "    </tr>\n",
       "  </thead>\n",
       "  <tbody>\n",
       "    <tr>\n",
       "      <td>0</td>\n",
       "      <td>A line from George Orwell's novel 1984 predict...</td>\n",
       "      <td></td>\n",
       "      <td>2017-07-17</td>\n",
       "      <td>0</td>\n",
       "      <td>[122094, 122580, 130685, 134765]</td>\n",
       "      <td>0</td>\n",
       "    </tr>\n",
       "    <tr>\n",
       "      <td>1</td>\n",
       "      <td>Maine legislature candidate Leslie Gibson insu...</td>\n",
       "      <td></td>\n",
       "      <td>2018-03-17</td>\n",
       "      <td>2</td>\n",
       "      <td>[106868, 127320, 128060]</td>\n",
       "      <td>1</td>\n",
       "    </tr>\n",
       "    <tr>\n",
       "      <td>2</td>\n",
       "      <td>A 17-year-old girl named Alyssa Carson is bein...</td>\n",
       "      <td></td>\n",
       "      <td>2018-07-18</td>\n",
       "      <td>1</td>\n",
       "      <td>[132130, 132132, 149722]</td>\n",
       "      <td>4</td>\n",
       "    </tr>\n",
       "    <tr>\n",
       "      <td>3</td>\n",
       "      <td>In 1988 author Roald Dahl penned an open lette...</td>\n",
       "      <td></td>\n",
       "      <td>2019-02-04</td>\n",
       "      <td>2</td>\n",
       "      <td>[123254, 123418, 127464]</td>\n",
       "      <td>5</td>\n",
       "    </tr>\n",
       "    <tr>\n",
       "      <td>4</td>\n",
       "      <td>When it comes to fighting terrorism, \"Another ...</td>\n",
       "      <td>Hillary Clinton</td>\n",
       "      <td>2016-03-22</td>\n",
       "      <td>2</td>\n",
       "      <td>[41099, 89899, 72543, 82644, 95344, 88361]</td>\n",
       "      <td>6</td>\n",
       "    </tr>\n",
       "    <tr>\n",
       "      <td>5</td>\n",
       "      <td>Rhode Island is \"almost dead last\" among North...</td>\n",
       "      <td>Leonidas Raptakis</td>\n",
       "      <td>2014-02-11</td>\n",
       "      <td>2</td>\n",
       "      <td>[8284, 3768, 20091, 82368, 73148, 4493]</td>\n",
       "      <td>7</td>\n",
       "    </tr>\n",
       "    <tr>\n",
       "      <td>6</td>\n",
       "      <td>The poorest counties in the U.S. are in Appala...</td>\n",
       "      <td>Jim Webb</td>\n",
       "      <td>2014-11-19</td>\n",
       "      <td>1</td>\n",
       "      <td>[70709, 70708]</td>\n",
       "      <td>8</td>\n",
       "    </tr>\n",
       "    <tr>\n",
       "      <td>7</td>\n",
       "      <td>Koch Industries paid the legal fees of George ...</td>\n",
       "      <td></td>\n",
       "      <td>2013-07-18</td>\n",
       "      <td>0</td>\n",
       "      <td>[120591, 120592, 127866, 129483]</td>\n",
       "      <td>9</td>\n",
       "    </tr>\n",
       "    <tr>\n",
       "      <td>8</td>\n",
       "      <td>\"Minnesota, Michigan, Iowa already have 70 mph...</td>\n",
       "      <td>Robin Vos</td>\n",
       "      <td>2013-08-22</td>\n",
       "      <td>1</td>\n",
       "      <td>[69547, 80095, 7994, 81116, 77621]</td>\n",
       "      <td>11</td>\n",
       "    </tr>\n",
       "    <tr>\n",
       "      <td>9</td>\n",
       "      <td>\"FBI Uniform Crime Report for 2016 shows more ...</td>\n",
       "      <td>Nick Schroer</td>\n",
       "      <td>2017-10-17</td>\n",
       "      <td>1</td>\n",
       "      <td>[72012, 26005, 43481, 55671]</td>\n",
       "      <td>12</td>\n",
       "    </tr>\n",
       "  </tbody>\n",
       "</table>\n",
       "</div>"
      ],
      "text/plain": [
       "                                               claim           claimant  \\\n",
       "0  A line from George Orwell's novel 1984 predict...                      \n",
       "1  Maine legislature candidate Leslie Gibson insu...                      \n",
       "2  A 17-year-old girl named Alyssa Carson is bein...                      \n",
       "3  In 1988 author Roald Dahl penned an open lette...                      \n",
       "4  When it comes to fighting terrorism, \"Another ...    Hillary Clinton   \n",
       "5  Rhode Island is \"almost dead last\" among North...  Leonidas Raptakis   \n",
       "6  The poorest counties in the U.S. are in Appala...           Jim Webb   \n",
       "7  Koch Industries paid the legal fees of George ...                      \n",
       "8  \"Minnesota, Michigan, Iowa already have 70 mph...          Robin Vos   \n",
       "9  \"FBI Uniform Crime Report for 2016 shows more ...       Nick Schroer   \n",
       "\n",
       "         date  label                            related_articles  id  \n",
       "0  2017-07-17      0            [122094, 122580, 130685, 134765]   0  \n",
       "1  2018-03-17      2                    [106868, 127320, 128060]   1  \n",
       "2  2018-07-18      1                    [132130, 132132, 149722]   4  \n",
       "3  2019-02-04      2                    [123254, 123418, 127464]   5  \n",
       "4  2016-03-22      2  [41099, 89899, 72543, 82644, 95344, 88361]   6  \n",
       "5  2014-02-11      2     [8284, 3768, 20091, 82368, 73148, 4493]   7  \n",
       "6  2014-11-19      1                              [70709, 70708]   8  \n",
       "7  2013-07-18      0            [120591, 120592, 127866, 129483]   9  \n",
       "8  2013-08-22      1          [69547, 80095, 7994, 81116, 77621]  11  \n",
       "9  2017-10-17      1                [72012, 26005, 43481, 55671]  12  "
      ]
     },
     "execution_count": 4,
     "metadata": {},
     "output_type": "execute_result"
    }
   ],
   "source": [
    "df.head(10)"
   ]
  },
  {
   "cell_type": "code",
   "execution_count": 5,
   "metadata": {},
   "outputs": [
    {
     "data": {
      "text/plain": [
       "15555"
      ]
     },
     "execution_count": 5,
     "metadata": {},
     "output_type": "execute_result"
    }
   ],
   "source": [
    "len(df)"
   ]
  },
  {
   "cell_type": "markdown",
   "metadata": {},
   "source": [
    "# Preparing the text data"
   ]
  },
  {
   "cell_type": "code",
   "execution_count": 6,
   "metadata": {},
   "outputs": [],
   "source": [
    "import string\n",
    "import gensim\n",
    "from nltk.tokenize import word_tokenize\n",
    "\n",
    "EMBEDDING_DIM = 300\n",
    "MAX_SEQUENCE_LENGTH = 1000"
   ]
  },
  {
   "cell_type": "code",
   "execution_count": 7,
   "metadata": {},
   "outputs": [],
   "source": [
    "claims = list()\n",
    "lines = df['claim'].values.tolist()"
   ]
  },
  {
   "cell_type": "code",
   "execution_count": 8,
   "metadata": {},
   "outputs": [],
   "source": [
    "for line in lines:\n",
    "    tokens = word_tokenize(line)\n",
    "    # convert to lowercase\n",
    "    tokens = [w.lower() for w in tokens]\n",
    "    # remove punctuation\n",
    "    table = str.maketrans('', '', string.punctuation)\n",
    "    stripped = [w.translate(table) for w in tokens]\n",
    "    words = [word for word in stripped if word.isalpha()]\n",
    "    claims.append(words)"
   ]
  },
  {
   "cell_type": "code",
   "execution_count": 9,
   "metadata": {},
   "outputs": [
    {
     "data": {
      "text/plain": [
       "15555"
      ]
     },
     "execution_count": 9,
     "metadata": {},
     "output_type": "execute_result"
    }
   ],
   "source": [
    "len(claims)"
   ]
  },
  {
   "cell_type": "code",
   "execution_count": 10,
   "metadata": {},
   "outputs": [
    {
     "name": "stderr",
     "output_type": "stream",
     "text": [
      "Using TensorFlow backend.\n"
     ]
    }
   ],
   "source": [
    "from keras.preprocessing.text import Tokenizer\n",
    "from keras.preprocessing.sequence import pad_sequences\n",
    "from keras.utils import to_categorical"
   ]
  },
  {
   "cell_type": "code",
   "execution_count": 11,
   "metadata": {},
   "outputs": [],
   "source": [
    "tokenizer = Tokenizer()\n",
    "tokenizer.fit_on_texts(claims)\n",
    "sequences = tokenizer.texts_to_sequences(claims)"
   ]
  },
  {
   "cell_type": "code",
   "execution_count": 12,
   "metadata": {},
   "outputs": [
    {
     "name": "stdout",
     "output_type": "stream",
     "text": [
      "Found 21392 unique tokens.\n"
     ]
    }
   ],
   "source": [
    "word_index = tokenizer.word_index\n",
    "print('Found %s unique tokens.' % len(word_index))"
   ]
  },
  {
   "cell_type": "code",
   "execution_count": 13,
   "metadata": {},
   "outputs": [],
   "source": [
    "data = pad_sequences(sequences, maxlen=MAX_SEQUENCE_LENGTH)"
   ]
  },
  {
   "cell_type": "code",
   "execution_count": 14,
   "metadata": {},
   "outputs": [],
   "source": [
    "labels = df['label'].values\n",
    "labels = to_categorical(np.asarray(labels))"
   ]
  },
  {
   "cell_type": "code",
   "execution_count": 15,
   "metadata": {},
   "outputs": [
    {
     "name": "stdout",
     "output_type": "stream",
     "text": [
      "Shape of data tensor: (15555, 1000)\n"
     ]
    }
   ],
   "source": [
    "print(\"Shape of data tensor:\", data.shape)"
   ]
  },
  {
   "cell_type": "code",
   "execution_count": 16,
   "metadata": {},
   "outputs": [
    {
     "name": "stdout",
     "output_type": "stream",
     "text": [
      "Shape of label tensor: (15555, 3)\n"
     ]
    }
   ],
   "source": [
    "print(\"Shape of label tensor:\", labels.shape)"
   ]
  },
  {
   "cell_type": "code",
   "execution_count": 17,
   "metadata": {},
   "outputs": [],
   "source": [
    "# split the data into a training set and a validation set\n",
    "VALIDATION_SPLIT = 0.2\n",
    "\n",
    "indices = np.arange(data.shape[0])\n",
    "np.random.shuffle(indices)\n",
    "data = data[indices]\n",
    "labels = labels[indices]\n",
    "nb_validation_samples = int(VALIDATION_SPLIT * data.shape[0])"
   ]
  },
  {
   "cell_type": "code",
   "execution_count": 18,
   "metadata": {},
   "outputs": [],
   "source": [
    "X_train = data[:-nb_validation_samples]\n",
    "y_train = labels[:-nb_validation_samples]\n",
    "X_val = data[-nb_validation_samples:]\n",
    "y_val = labels[-nb_validation_samples:]"
   ]
  },
  {
   "cell_type": "code",
   "execution_count": 19,
   "metadata": {},
   "outputs": [
    {
     "name": "stdout",
     "output_type": "stream",
     "text": [
      "Shape of X_train tensor: (12444, 1000)\n",
      "Shape of y_train tensor: (12444, 3)\n",
      "Shape of X_val tensor: (3111, 1000)\n",
      "Shape of y_val tensor: (3111, 3)\n"
     ]
    }
   ],
   "source": [
    "print(\"Shape of X_train tensor:\", X_train.shape)\n",
    "print(\"Shape of y_train tensor:\", y_train.shape)\n",
    "\n",
    "print(\"Shape of X_val tensor:\", X_val.shape)\n",
    "print(\"Shape of y_val tensor:\", y_val.shape)"
   ]
  },
  {
   "cell_type": "markdown",
   "metadata": {},
   "source": [
    "# Preparing the embedding layer"
   ]
  },
  {
   "cell_type": "code",
   "execution_count": 20,
   "metadata": {},
   "outputs": [
    {
     "name": "stdout",
     "output_type": "stream",
     "text": [
      "Found 400000 word vectors.\n"
     ]
    }
   ],
   "source": [
    "embeddings_index = {}\n",
    "with open(\"../reference/glove.6B.300d.txt\", 'r') as f:\n",
    "    for line in f:\n",
    "        values = line.split()\n",
    "        word = values[0]\n",
    "        coefs = np.asarray(values[1:], dtype='float32')\n",
    "        embeddings_index[word] = coefs\n",
    "\n",
    "print('Found %s word vectors.' % len(embeddings_index))"
   ]
  },
  {
   "cell_type": "code",
   "execution_count": 21,
   "metadata": {},
   "outputs": [],
   "source": [
    "embedding_matrix = np.zeros((len(word_index) + 1, EMBEDDING_DIM))"
   ]
  },
  {
   "cell_type": "code",
   "execution_count": 22,
   "metadata": {},
   "outputs": [],
   "source": [
    "for word, i in word_index.items():\n",
    "    embedding_vector = embeddings_index.get(word)\n",
    "    if embedding_vector is not None:\n",
    "        # words not found in embedding index will be all-zeros.\n",
    "        embedding_matrix[i] = embedding_vector"
   ]
  },
  {
   "cell_type": "code",
   "execution_count": 23,
   "metadata": {},
   "outputs": [],
   "source": [
    "from keras.layers.embeddings import Embedding"
   ]
  },
  {
   "cell_type": "code",
   "execution_count": 62,
   "metadata": {},
   "outputs": [],
   "source": [
    "embedding_layer = Embedding(len(word_index) + 1,\n",
    "                            EMBEDDING_DIM,\n",
    "                            weights=[embedding_matrix],\n",
    "                            input_length=MAX_SEQUENCE_LENGTH,\n",
    "                            trainable=False)"
   ]
  },
  {
   "cell_type": "markdown",
   "metadata": {},
   "source": [
    "# Training a 1D convnet"
   ]
  },
  {
   "cell_type": "code",
   "execution_count": 50,
   "metadata": {},
   "outputs": [],
   "source": [
    "from keras.models import Sequential, Model\n",
    "from keras.layers import Dense, Input, Dropout, Flatten, LSTM, GRU\n",
    "from keras.layers import Conv1D, MaxPooling1D\n",
    "from keras.callbacks import EarlyStopping\n",
    "from keras.optimizers import SGD"
   ]
  },
  {
   "cell_type": "code",
   "execution_count": 52,
   "metadata": {},
   "outputs": [],
   "source": [
    "m1 = Sequential()\n",
    "m1.add(embedding_layer)\n",
    "m1.add(Conv1D(128, 5, activation='relu'))\n",
    "m1.add(MaxPooling1D(5))\n",
    "m1.add(Dropout(0.5))\n",
    "m1.add(Conv1D(128, 5, activation='relu'))\n",
    "m1.add(MaxPooling1D(5))\n",
    "m1.add(Dropout(0.5))\n",
    "m1.add(Flatten())\n",
    "m1.add(Dense(128, activation='relu'))\n",
    "m1.add(Dense(3, activation='softmax'))\n",
    "\n",
    "m1.compile(loss='categorical_crossentropy',\n",
    "              optimizer='rmsprop',\n",
    "              metrics=['acc'])"
   ]
  },
  {
   "cell_type": "code",
   "execution_count": 60,
   "metadata": {},
   "outputs": [],
   "source": [
    "# simple early stopping\n",
    "es = EarlyStopping(monitor='val_loss', mode='min', verbose=1, patience=3)"
   ]
  },
  {
   "cell_type": "code",
   "execution_count": null,
   "metadata": {},
   "outputs": [],
   "source": [
    "# fit model\n",
    "h1 = m1.fit(X_train, y_train, validation_data=(X_val, y_val),\n",
    "          epochs=10, batch_size=16, callbacks=[es])"
   ]
  },
  {
   "cell_type": "code",
   "execution_count": 54,
   "metadata": {},
   "outputs": [
    {
     "name": "stdout",
     "output_type": "stream",
     "text": [
      "Train: 0.821, Test: 0.583\n"
     ]
    }
   ],
   "source": [
    "from matplotlib import pyplot\n",
    "\n",
    "# evaluate the model\n",
    "_, train_acc = m1.evaluate(X_train, y_train, verbose=0)\n",
    "_, test_acc = m1.evaluate(X_val, y_val, verbose=0)\n",
    "print('Train: %.3f, Test: %.3f' % (train_acc, test_acc))"
   ]
  },
  {
   "cell_type": "code",
   "execution_count": 55,
   "metadata": {},
   "outputs": [
    {
     "data": {
      "image/png": "[encoded data removed]",
      "text/plain": [
       "<Figure size 432x288 with 1 Axes>"
      ]
     },
     "metadata": {
      "needs_background": "light"
     },
     "output_type": "display_data"
    }
   ],
   "source": [
    "# plot training history\n",
    "pyplot.plot(h1.history['loss'], label='train')\n",
    "pyplot.plot(h1.history['val_loss'], label='test')\n",
    "pyplot.legend()\n",
    "pyplot.show()"
   ]
  },
  {
   "cell_type": "code",
   "execution_count": 57,
   "metadata": {},
   "outputs": [],
   "source": [
    "m1.save(\"../models/conv1d_16.h5\")"
   ]
  },
  {
   "cell_type": "code",
   "execution_count": null,
   "metadata": {},
   "outputs": [],
   "source": [
    "m2 = Sequential()\n",
    "m2.add(embedding_layer)\n",
    "m2.add(LSTM(128))\n",
    "m2.add(Dropout(0.5))\n",
    "m2.add(Dense(3, activation='sigmoid'))\n",
    "\n",
    "m2.compile(loss='categorical_crossentropy',\n",
    "              optimizer='rmsprop',\n",
    "              metrics=['accuracy'])\n",
    "\n",
    "history = m2.fit(X_train, y_train, validation_data=(X_val, y_val), batch_size=16, epochs=10)"
   ]
  },
  {
   "cell_type": "code",
   "execution_count": null,
   "metadata": {},
   "outputs": [],
   "source": [
    "# evaluate the model\n",
    "_, train_acc = m2.evaluate(X_train, y_train, verbose=0)\n",
    "_, test_acc = m2.evaluate(X_val, y_val, verbose=0)\n",
    "print('Train: %.3f, Test: %.3f' % (train_acc, test_acc))"
   ]
  },
  {
   "cell_type": "code",
   "execution_count": null,
   "metadata": {},
   "outputs": [],
   "source": [
    "# plot training history\n",
    "pyplot.plot(history.history['loss'], label='train')\n",
    "pyplot.plot(history.history['val_loss'], label='test')\n",
    "pyplot.legend()\n",
    "pyplot.show()"
   ]
  },
  {
   "cell_type": "code",
   "execution_count": 75,
   "metadata": {},
   "outputs": [],
   "source": [
    "# from keras.layers import Bidirectional\n",
    "\n",
    "# m3 = Sequential()\n",
    "# m3.add(embedding_layer)\n",
    "# m3.add(Bidirectional(LSTM(64)))\n",
    "# m3.add(Dropout(0.5))\n",
    "# m3.add(Dense(3, activation='tanh'))\n",
    "\n",
    "# m3.compile(loss='categorical_crossentropy',\n",
    "#               optimizer='rmsprop',\n",
    "#               metrics=['accuracy'])\n",
    "\n",
    "# h3 = m3.fit(X_train, y_train, validation_data=(X_val, y_val), batch_size=16, epochs=10, callbacks=[es])"
   ]
  },
  {
   "cell_type": "code",
   "execution_count": 71,
   "metadata": {},
   "outputs": [
    {
     "name": "stdout",
     "output_type": "stream",
     "text": [
      "Train on 12444 samples, validate on 3111 samples\n",
      "Epoch 1/20\n",
      "12444/12444 [==============================] - 153s 12ms/step - loss: 0.9676 - acc: 0.4818 - val_loss: 0.9628 - val_acc: 0.5175\n",
      "Epoch 2/20\n",
      "12444/12444 [==============================] - 133s 11ms/step - loss: 0.9505 - acc: 0.5074 - val_loss: 0.9341 - val_acc: 0.5323\n",
      "Epoch 3/20\n",
      "12444/12444 [==============================] - 136s 11ms/step - loss: 0.9381 - acc: 0.5331 - val_loss: 0.9164 - val_acc: 0.5651\n",
      "Epoch 4/20\n",
      "12444/12444 [==============================] - 194s 16ms/step - loss: 0.9211 - acc: 0.5541 - val_loss: 0.9080 - val_acc: 0.5821\n",
      "Epoch 5/20\n",
      "12444/12444 [==============================] - 152s 12ms/step - loss: 0.9131 - acc: 0.5677 - val_loss: 0.9045 - val_acc: 0.5725\n",
      "Epoch 6/20\n",
      "12444/12444 [==============================] - 129s 10ms/step - loss: 0.9024 - acc: 0.5784 - val_loss: 0.8925 - val_acc: 0.5886\n",
      "Epoch 7/20\n",
      "12444/12444 [==============================] - 114s 9ms/step - loss: 0.8981 - acc: 0.5834 - val_loss: 0.8888 - val_acc: 0.5895\n",
      "Epoch 8/20\n",
      "12444/12444 [==============================] - 112s 9ms/step - loss: 0.8855 - acc: 0.5962 - val_loss: 0.8840 - val_acc: 0.5953\n",
      "Epoch 9/20\n",
      "12444/12444 [==============================] - 114s 9ms/step - loss: 0.8833 - acc: 0.5943 - val_loss: 0.8787 - val_acc: 0.5969\n",
      "Epoch 10/20\n",
      "12444/12444 [==============================] - 139s 11ms/step - loss: 0.8720 - acc: 0.6108 - val_loss: 0.8748 - val_acc: 0.6005\n",
      "Epoch 11/20\n",
      "12444/12444 [==============================] - 156s 13ms/step - loss: 0.8663 - acc: 0.6131 - val_loss: 0.8713 - val_acc: 0.6053\n",
      "Epoch 12/20\n",
      "12444/12444 [==============================] - 111s 9ms/step - loss: 0.8528 - acc: 0.6242 - val_loss: 0.8719 - val_acc: 0.6014\n",
      "Epoch 13/20\n",
      "12444/12444 [==============================] - 105s 8ms/step - loss: 0.8434 - acc: 0.6269 - val_loss: 0.8670 - val_acc: 0.6069\n",
      "Epoch 14/20\n",
      "12444/12444 [==============================] - 111s 9ms/step - loss: 0.8305 - acc: 0.6360 - val_loss: 0.8782 - val_acc: 0.6033\n",
      "Epoch 15/20\n",
      "12444/12444 [==============================] - 116s 9ms/step - loss: 0.8209 - acc: 0.6420 - val_loss: 0.8667 - val_acc: 0.6030\n",
      "Epoch 16/20\n",
      "12444/12444 [==============================] - 118s 9ms/step - loss: 0.8057 - acc: 0.6553 - val_loss: 0.8636 - val_acc: 0.6037\n",
      "Epoch 17/20\n",
      "12444/12444 [==============================] - 117s 9ms/step - loss: 0.7883 - acc: 0.6614 - val_loss: 0.8631 - val_acc: 0.6111\n",
      "Epoch 18/20\n",
      "12444/12444 [==============================] - 116s 9ms/step - loss: 0.7711 - acc: 0.6744 - val_loss: 0.8649 - val_acc: 0.6066\n",
      "Epoch 19/20\n",
      "12444/12444 [==============================] - 116s 9ms/step - loss: 0.7526 - acc: 0.6782 - val_loss: 0.8673 - val_acc: 0.6078\n",
      "Epoch 20/20\n",
      "12444/12444 [==============================] - 116s 9ms/step - loss: 0.7325 - acc: 0.6909 - val_loss: 0.8775 - val_acc: 0.5998\n",
      "Epoch 00020: early stopping\n"
     ]
    }
   ],
   "source": [
    "from keras.optimizers import SGD\n",
    "\n",
    "m4 = Sequential()\n",
    "m4.add(embedding_layer)\n",
    "m4.add(Conv1D(128, 5, activation='relu'))\n",
    "m4.add(MaxPooling1D(5))\n",
    "m4.add(Dropout(0.5))\n",
    "m4.add(Conv1D(128, 5, activation='relu'))\n",
    "m4.add(MaxPooling1D(5))\n",
    "m4.add(Dropout(0.5))\n",
    "m4.add(Flatten())\n",
    "m4.add(Dense(128, activation='relu'))\n",
    "m4.add(Dense(3, activation='softmax'))\n",
    "\n",
    "m4.compile(loss='categorical_crossentropy',\n",
    "              optimizer=SGD(lr=0.01, nesterov=True),\n",
    "              metrics=['acc'])\n",
    "\n",
    "h4 = m4.fit(X_train, y_train, validation_data=(X_val, y_val), batch_size=16, epochs=20, callbacks=[es])"
   ]
  },
  {
   "cell_type": "code",
   "execution_count": 72,
   "metadata": {},
   "outputs": [
    {
     "name": "stdout",
     "output_type": "stream",
     "text": [
      "Train: 0.778, Test: 0.600\n"
     ]
    }
   ],
   "source": [
    "# evaluate the model\n",
    "_, train_acc = m4.evaluate(X_train, y_train, verbose=0)\n",
    "_, test_acc = m4.evaluate(X_val, y_val, verbose=0)\n",
    "print('Train: %.3f, Test: %.3f' % (train_acc, test_acc))"
   ]
  },
  {
   "cell_type": "code",
   "execution_count": 73,
   "metadata": {},
   "outputs": [
    {
     "data": {
      "image/png": "[encoded data removed]",
      "text/plain": [
       "<Figure size 432x288 with 1 Axes>"
      ]
     },
     "metadata": {
      "needs_background": "light"
     },
     "output_type": "display_data"
    }
   ],
   "source": [
    "# plot training history\n",
    "pyplot.plot(h4.history['loss'], label='train')\n",
    "pyplot.plot(h4.history['val_loss'], label='test')\n",
    "pyplot.legend()\n",
    "pyplot.show()"
   ]
  },
  {
   "cell_type": "code",
   "execution_count": 74,
   "metadata": {},
   "outputs": [],
   "source": [
    "m4.save(\"../models/conv1d_loss-sgd_batch-16_epochs-20.h5\")"
   ]
  },
  {
   "cell_type": "code",
   "execution_count": null,
   "metadata": {},
   "outputs": [],
   "source": []
  }
 ],
 "metadata": {
  "kernelspec": {
   "display_name": "Python 3",
   "language": "python",
   "name": "python3"
  },
  "language_info": {
   "codemirror_mode": {
    "name": "ipython",
    "version": 3
   },
   "file_extension": ".py",
   "mimetype": "text/x-python",
   "name": "python",
   "nbconvert_exporter": "python",
   "pygments_lexer": "ipython3",
   "version": "3.6.8"
  }
 },
 "nbformat": 4,
 "nbformat_minor": 2
}
