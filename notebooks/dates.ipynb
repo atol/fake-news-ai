{
 "cells": [
  {
   "cell_type": "markdown",
   "metadata": {},
   "source": [
    "# Dates"
   ]
  },
  {
   "cell_type": "markdown",
   "metadata": {},
   "source": [
    "## Set Up"
   ]
  },
  {
   "cell_type": "code",
   "execution_count": 6,
   "metadata": {},
   "outputs": [],
   "source": [
    "import pandas as pd\n",
    "import numpy as np\n",
    "import json\n",
    "import pickle\n",
    "\n",
    "import matplotlib.pyplot as plt\n",
    "%matplotlib inline"
   ]
  },
  {
   "cell_type": "markdown",
   "metadata": {},
   "source": [
    "## Load training data"
   ]
  },
  {
   "cell_type": "code",
   "execution_count": 13,
   "metadata": {},
   "outputs": [],
   "source": [
    "df = pd.read_pickle('train_set.pkl')"
   ]
  },
  {
   "cell_type": "code",
   "execution_count": 4,
   "metadata": {},
   "outputs": [
    {
     "data": {
      "text/html": [
       "<div>\n",
       "<style scoped>\n",
       "    .dataframe tbody tr th:only-of-type {\n",
       "        vertical-align: middle;\n",
       "    }\n",
       "\n",
       "    .dataframe tbody tr th {\n",
       "        vertical-align: top;\n",
       "    }\n",
       "\n",
       "    .dataframe thead th {\n",
       "        text-align: right;\n",
       "    }\n",
       "</style>\n",
       "<table border=\"1\" class=\"dataframe\">\n",
       "  <thead>\n",
       "    <tr style=\"text-align: right;\">\n",
       "      <th></th>\n",
       "      <th>claim</th>\n",
       "      <th>claimant</th>\n",
       "      <th>date</th>\n",
       "      <th>label</th>\n",
       "      <th>related_articles</th>\n",
       "      <th>id</th>\n",
       "    </tr>\n",
       "  </thead>\n",
       "  <tbody>\n",
       "    <tr>\n",
       "      <td>9389</td>\n",
       "      <td>While arguing over President Reagan’s 1981 tax...</td>\n",
       "      <td>Sarah Sanders</td>\n",
       "      <td>2017-10-31</td>\n",
       "      <td>1</td>\n",
       "      <td>[34218, 55700, 18736, 39031, 34219, 34220]</td>\n",
       "      <td>10354</td>\n",
       "    </tr>\n",
       "    <tr>\n",
       "      <td>1861</td>\n",
       "      <td>Recently Rick Scott \"closed 30 women’s health ...</td>\n",
       "      <td>Lois Frankel</td>\n",
       "      <td>2014-09-12</td>\n",
       "      <td>0</td>\n",
       "      <td>[73190, 76997, 38841, 77415, 77303, 9280, 8332...</td>\n",
       "      <td>2053</td>\n",
       "    </tr>\n",
       "    <tr>\n",
       "      <td>11035</td>\n",
       "      <td>Says Target installed urinals in a women’s bat...</td>\n",
       "      <td>Facebook posts</td>\n",
       "      <td>2016-04-22</td>\n",
       "      <td>0</td>\n",
       "      <td>[9619, 22197]</td>\n",
       "      <td>12160</td>\n",
       "    </tr>\n",
       "    <tr>\n",
       "      <td>12221</td>\n",
       "      <td>Says \"combined doses of vaccines\" have never b...</td>\n",
       "      <td>Facebook posts</td>\n",
       "      <td>2019-04-15</td>\n",
       "      <td>0</td>\n",
       "      <td>[57163, 31528, 40908, 31536, 68904, 44601]</td>\n",
       "      <td>13458</td>\n",
       "    </tr>\n",
       "    <tr>\n",
       "      <td>11354</td>\n",
       "      <td>:   The AMBER Alert system has been discontinu...</td>\n",
       "      <td></td>\n",
       "      <td>2013-10-13</td>\n",
       "      <td>0</td>\n",
       "      <td>[103978, 121475, 121849]</td>\n",
       "      <td>12504</td>\n",
       "    </tr>\n",
       "    <tr>\n",
       "      <td>8662</td>\n",
       "      <td>Judge Gonzalo Curiel \"is giving us very unfair...</td>\n",
       "      <td>Donald Trump</td>\n",
       "      <td>2016-06-05</td>\n",
       "      <td>0</td>\n",
       "      <td>[77208, 21821, 63461, 58883]</td>\n",
       "      <td>9554</td>\n",
       "    </tr>\n",
       "    <tr>\n",
       "      <td>14307</td>\n",
       "      <td>Continental Airlines CEO Gordon Bethune once p...</td>\n",
       "      <td></td>\n",
       "      <td>2016-10-23</td>\n",
       "      <td>0</td>\n",
       "      <td>[112600, 114369, 114400, 123364]</td>\n",
       "      <td>15756</td>\n",
       "    </tr>\n",
       "    <tr>\n",
       "      <td>31</td>\n",
       "      <td>\"Expanding Medicaid would require borrowing mo...</td>\n",
       "      <td>Will Weatherford</td>\n",
       "      <td>2013-05-09</td>\n",
       "      <td>1</td>\n",
       "      <td>[66749, 1228, 7897, 10786]</td>\n",
       "      <td>36</td>\n",
       "    </tr>\n",
       "    <tr>\n",
       "      <td>12687</td>\n",
       "      <td>Says a Washington Post reporter who broke news...</td>\n",
       "      <td>Bloggers</td>\n",
       "      <td>2017-11-10</td>\n",
       "      <td>0</td>\n",
       "      <td>[12178, 53283, 89573, 19796]</td>\n",
       "      <td>13981</td>\n",
       "    </tr>\n",
       "    <tr>\n",
       "      <td>6422</td>\n",
       "      <td>About half the people who would qualify for Me...</td>\n",
       "      <td>Will Weatherford</td>\n",
       "      <td>2014-02-27</td>\n",
       "      <td>1</td>\n",
       "      <td>[93033, 9294, 7826, 11450, 93049, 6737, 92851,...</td>\n",
       "      <td>7062</td>\n",
       "    </tr>\n",
       "  </tbody>\n",
       "</table>\n",
       "</div>"
      ],
      "text/plain": [
       "                                                   claim          claimant  \\\n",
       "9389   While arguing over President Reagan’s 1981 tax...     Sarah Sanders   \n",
       "1861   Recently Rick Scott \"closed 30 women’s health ...      Lois Frankel   \n",
       "11035  Says Target installed urinals in a women’s bat...    Facebook posts   \n",
       "12221  Says \"combined doses of vaccines\" have never b...    Facebook posts   \n",
       "11354  :   The AMBER Alert system has been discontinu...                     \n",
       "8662   Judge Gonzalo Curiel \"is giving us very unfair...      Donald Trump   \n",
       "14307  Continental Airlines CEO Gordon Bethune once p...                     \n",
       "31     \"Expanding Medicaid would require borrowing mo...  Will Weatherford   \n",
       "12687  Says a Washington Post reporter who broke news...          Bloggers   \n",
       "6422   About half the people who would qualify for Me...  Will Weatherford   \n",
       "\n",
       "             date  label                                   related_articles  \\\n",
       "9389   2017-10-31      1         [34218, 55700, 18736, 39031, 34219, 34220]   \n",
       "1861   2014-09-12      0  [73190, 76997, 38841, 77415, 77303, 9280, 8332...   \n",
       "11035  2016-04-22      0                                      [9619, 22197]   \n",
       "12221  2019-04-15      0         [57163, 31528, 40908, 31536, 68904, 44601]   \n",
       "11354  2013-10-13      0                           [103978, 121475, 121849]   \n",
       "8662   2016-06-05      0                       [77208, 21821, 63461, 58883]   \n",
       "14307  2016-10-23      0                   [112600, 114369, 114400, 123364]   \n",
       "31     2013-05-09      1                         [66749, 1228, 7897, 10786]   \n",
       "12687  2017-11-10      0                       [12178, 53283, 89573, 19796]   \n",
       "6422   2014-02-27      1  [93033, 9294, 7826, 11450, 93049, 6737, 92851,...   \n",
       "\n",
       "          id  \n",
       "9389   10354  \n",
       "1861    2053  \n",
       "11035  12160  \n",
       "12221  13458  \n",
       "11354  12504  \n",
       "8662    9554  \n",
       "14307  15756  \n",
       "31        36  \n",
       "12687  13981  \n",
       "6422    7062  "
      ]
     },
     "execution_count": 4,
     "metadata": {},
     "output_type": "execute_result"
    }
   ],
   "source": [
    "df.head(10)"
   ]
  },
  {
   "cell_type": "code",
   "execution_count": 5,
   "metadata": {},
   "outputs": [
    {
     "data": {
      "text/plain": [
       "12444"
      ]
     },
     "execution_count": 5,
     "metadata": {},
     "output_type": "execute_result"
    }
   ],
   "source": [
    "len(df)"
   ]
  },
  {
   "cell_type": "code",
   "execution_count": 16,
   "metadata": {},
   "outputs": [],
   "source": [
    "false = df.loc[df['label'] == 0]\n",
    "partly = df.loc[df['label'] == 1]\n",
    "true = df.loc[df['label'] == 2]"
   ]
  },
  {
   "cell_type": "code",
   "execution_count": 17,
   "metadata": {},
   "outputs": [],
   "source": [
    "false.set_index(['date'],inplace=True)"
   ]
  },
  {
   "cell_type": "code",
   "execution_count": 18,
   "metadata": {},
   "outputs": [
    {
     "data": {
      "text/plain": [
       "<matplotlib.axes._subplots.AxesSubplot at 0x7fea94795710>"
      ]
     },
     "execution_count": 18,
     "metadata": {},
     "output_type": "execute_result"
    },
    {
     "data": {
      "image/png": "[encoded data removed]",
      "text/plain": [
       "<Figure size 432x288 with 1 Axes>"
      ]
     },
     "metadata": {
      "needs_background": "light"
     },
     "output_type": "display_data"
    }
   ],
   "source": [
    "false.plot()"
   ]
  },
  {
   "cell_type": "code",
   "execution_count": 12,
   "metadata": {},
   "outputs": [
    {
     "data": {
      "text/plain": [
       "[<matplotlib.lines.Line2D at 0x7fea96c23a20>]"
      ]
     },
     "execution_count": 12,
     "metadata": {},
     "output_type": "execute_result"
    },
    {
     "data": {
      "image/png": "[encoded data removed]",
      "text/plain": [
       "<Figure size 432x288 with 1 Axes>"
      ]
     },
     "metadata": {
      "needs_background": "light"
     },
     "output_type": "display_data"
    }
   ],
   "source": [
    "plt.plot(df.index, df.label)"
   ]
  },
  {
   "cell_type": "code",
   "execution_count": null,
   "metadata": {},
   "outputs": [],
   "source": []
  }
 ],
 "metadata": {
  "kernelspec": {
   "display_name": "Python 3",
   "language": "python",
   "name": "python3"
  },
  "language_info": {
   "codemirror_mode": {
    "name": "ipython",
    "version": 3
   },
   "file_extension": ".py",
   "mimetype": "text/x-python",
   "name": "python",
   "nbconvert_exporter": "python",
   "pygments_lexer": "ipython3",
   "version": "3.6.8"
  }
 },
 "nbformat": 4,
 "nbformat_minor": 2
}
